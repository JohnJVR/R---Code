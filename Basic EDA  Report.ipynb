{
 "cells": [
  {
   "cell_type": "code",
   "execution_count": 2,
   "id": "f0003102",
   "metadata": {},
   "outputs": [
    {
     "name": "stderr",
     "output_type": "stream",
     "text": [
      "also installing the dependencies 'bit', 'vctrs', 'prettyunits', 'rlang', 'bit64', 'tidyselect', 'progress', 'cli', 'clipr', 'hms', 'lifecycle', 'vroom', 'tzdb'\n",
      "\n"
     ]
    },
    {
     "name": "stdout",
     "output_type": "stream",
     "text": [
      "\n",
      "  There are binary versions available but the source versions are later:\n",
      "           binary source needs_compilation\n",
      "vctrs       0.3.8  0.4.2              TRUE\n",
      "rlang      0.4.11  1.0.6              TRUE\n",
      "tidyselect  1.1.1  1.2.0             FALSE\n",
      "cli         2.5.0  3.4.1              TRUE\n",
      "clipr       0.7.1  0.8.0             FALSE\n",
      "hms         1.0.0  1.1.2             FALSE\n",
      "lifecycle   1.0.0  1.0.3             FALSE\n",
      "vroom       1.4.0  1.6.0              TRUE\n",
      "tzdb        0.1.1  0.3.0              TRUE\n",
      "readr       1.4.0  2.1.3              TRUE\n",
      "\n",
      "  Binaries will be installed\n",
      "package 'bit' successfully unpacked and MD5 sums checked\n",
      "package 'vctrs' successfully unpacked and MD5 sums checked\n",
      "package 'prettyunits' successfully unpacked and MD5 sums checked\n",
      "package 'rlang' successfully unpacked and MD5 sums checked\n",
      "package 'bit64' successfully unpacked and MD5 sums checked\n",
      "package 'progress' successfully unpacked and MD5 sums checked\n",
      "package 'cli' successfully unpacked and MD5 sums checked\n",
      "package 'vroom' successfully unpacked and MD5 sums checked\n",
      "package 'tzdb' successfully unpacked and MD5 sums checked\n",
      "package 'readr' successfully unpacked and MD5 sums checked\n",
      "\n",
      "The downloaded binary packages are in\n",
      "\tC:\\Users\\Acer\\AppData\\Local\\Temp\\RtmpSEII8t\\downloaded_packages\n"
     ]
    },
    {
     "name": "stderr",
     "output_type": "stream",
     "text": [
      "installing the source packages 'tidyselect', 'clipr', 'hms', 'lifecycle'\n",
      "\n",
      "Warning message in install.packages(\"readr\"):\n",
      "\"installation of package 'lifecycle' had non-zero exit status\"Warning message in install.packages(\"readr\"):\n",
      "\"installation of package 'tidyselect' had non-zero exit status\"Warning message in install.packages(\"readr\"):\n",
      "\"installation of package 'hms' had non-zero exit status\"Warning message:\n",
      "\"package 'readr' was built under R version 3.6.3\""
     ]
    },
    {
     "ename": "ERROR",
     "evalue": "Error: package or namespace load failed for 'readr' in loadNamespace(j <- i[[1L]], c(lib.loc, .libPaths()), versionCheck = vI[[j]]):\n there is no package called 'hms'\n",
     "output_type": "error",
     "traceback": [
      "Error: package or namespace load failed for 'readr' in loadNamespace(j <- i[[1L]], c(lib.loc, .libPaths()), versionCheck = vI[[j]]):\n there is no package called 'hms'\nTraceback:\n",
      "1. library(readr)",
      "2. tryCatch({\n .     attr(package, \"LibPath\") <- which.lib.loc\n .     ns <- loadNamespace(package, lib.loc)\n .     env <- attachNamespace(ns, pos = pos, deps, exclude, include.only)\n . }, error = function(e) {\n .     P <- if (!is.null(cc <- conditionCall(e))) \n .         paste(\" in\", deparse(cc)[1L])\n .     else \"\"\n .     msg <- gettextf(\"package or namespace load failed for %s%s:\\n %s\", \n .         sQuote(package), P, conditionMessage(e))\n .     if (logical.return) \n .         message(paste(\"Error:\", msg), domain = NA)\n .     else stop(msg, call. = FALSE, domain = NA)\n . })",
      "3. tryCatchList(expr, classes, parentenv, handlers)",
      "4. tryCatchOne(expr, names, parentenv, handlers[[1L]])",
      "5. value[[3L]](cond)",
      "6. stop(msg, call. = FALSE, domain = NA)"
     ]
    }
   ],
   "source": [
    "install.packages(\"readr\")\n",
    "library(readr)"
   ]
  },
  {
   "cell_type": "code",
   "execution_count": 4,
   "id": "aa9e2a2f",
   "metadata": {},
   "outputs": [],
   "source": [
    "mba <- read.csv(\"E://excelr//excelr//data science//data sets//data sets_BA//mba.csv\")\n",
    "attach(mba)"
   ]
  },
  {
   "cell_type": "code",
   "execution_count": 7,
   "id": "ee951a68",
   "metadata": {},
   "outputs": [
    {
     "data": {
      "text/html": [
       "<ol class=list-inline>\n",
       "\t<li>'datasrno'</li>\n",
       "\t<li>'workex'</li>\n",
       "\t<li>'gmat'</li>\n",
       "</ol>\n"
      ],
      "text/latex": [
       "\\begin{enumerate*}\n",
       "\\item 'datasrno'\n",
       "\\item 'workex'\n",
       "\\item 'gmat'\n",
       "\\end{enumerate*}\n"
      ],
      "text/markdown": [
       "1. 'datasrno'\n",
       "2. 'workex'\n",
       "3. 'gmat'\n",
       "\n",
       "\n"
      ],
      "text/plain": [
       "[1] \"datasrno\" \"workex\"   \"gmat\"    "
      ]
     },
     "metadata": {},
     "output_type": "display_data"
    }
   ],
   "source": [
    "colnames(mba)"
   ]
  },
  {
   "cell_type": "code",
   "execution_count": 5,
   "id": "25219929",
   "metadata": {},
   "outputs": [
    {
     "data": {
      "text/html": [
       "387"
      ],
      "text/latex": [
       "387"
      ],
      "text/markdown": [
       "387"
      ],
      "text/plain": [
       "[1] 387"
      ]
     },
     "metadata": {},
     "output_type": "display_data"
    },
    {
     "data": {
      "text/html": [
       "57.5019404915912"
      ],
      "text/latex": [
       "57.5019404915912"
      ],
      "text/markdown": [
       "57.5019404915912"
      ],
      "text/plain": [
       "[1] 57.50194"
      ]
     },
     "metadata": {},
     "output_type": "display_data"
    },
    {
     "data": {
      "text/html": [
       "711.164294954722"
      ],
      "text/latex": [
       "711.164294954722"
      ],
      "text/markdown": [
       "711.164294954722"
      ],
      "text/plain": [
       "[1] 711.1643"
      ]
     },
     "metadata": {},
     "output_type": "display_data"
    }
   ],
   "source": [
    "# Mean\n",
    "mean(mba$datasrno)\n",
    "mean(mba$workex)\n",
    "mean(mba$gmat)"
   ]
  },
  {
   "cell_type": "code",
   "execution_count": 6,
   "id": "61e3683d",
   "metadata": {},
   "outputs": [
    {
     "data": {
      "text/html": [
       "387"
      ],
      "text/latex": [
       "387"
      ],
      "text/markdown": [
       "387"
      ],
      "text/plain": [
       "[1] 387"
      ]
     },
     "metadata": {},
     "output_type": "display_data"
    },
    {
     "data": {
      "text/html": [
       "52"
      ],
      "text/latex": [
       "52"
      ],
      "text/markdown": [
       "52"
      ],
      "text/plain": [
       "[1] 52"
      ]
     },
     "metadata": {},
     "output_type": "display_data"
    },
    {
     "data": {
      "text/html": [
       "710"
      ],
      "text/latex": [
       "710"
      ],
      "text/markdown": [
       "710"
      ],
      "text/plain": [
       "[1] 710"
      ]
     },
     "metadata": {},
     "output_type": "display_data"
    }
   ],
   "source": [
    "# Median\n",
    "median(mba$datasrno)\n",
    "median(mba$workex)\n",
    "median(mba$gmat)"
   ]
  },
  {
   "cell_type": "code",
   "execution_count": 8,
   "id": "65097ef0",
   "metadata": {},
   "outputs": [
    {
     "data": {
      "text/html": [
       "49858.5"
      ],
      "text/latex": [
       "49858.5"
      ],
      "text/markdown": [
       "49858.5"
      ],
      "text/plain": [
       "[1] 49858.5"
      ]
     },
     "metadata": {},
     "output_type": "display_data"
    },
    {
     "data": {
      "text/html": [
       "750.037884830651"
      ],
      "text/latex": [
       "750.037884830651"
      ],
      "text/markdown": [
       "750.037884830651"
      ],
      "text/plain": [
       "[1] 750.0379"
      ]
     },
     "metadata": {},
     "output_type": "display_data"
    },
    {
     "data": {
      "text/html": [
       "860.818827125324"
      ],
      "text/latex": [
       "860.818827125324"
      ],
      "text/markdown": [
       "860.818827125324"
      ],
      "text/plain": [
       "[1] 860.8188"
      ]
     },
     "metadata": {},
     "output_type": "display_data"
    }
   ],
   "source": [
    "# Variance\n",
    "var(datasrno)\n",
    "var(workex)\n",
    "var(gmat)"
   ]
  },
  {
   "cell_type": "code",
   "execution_count": 11,
   "id": "38357c27",
   "metadata": {},
   "outputs": [
    {
     "data": {
      "text/html": [
       "223.290169958285"
      ],
      "text/latex": [
       "223.290169958285"
      ],
      "text/markdown": [
       "223.290169958285"
      ],
      "text/plain": [
       "[1] 223.2902"
      ]
     },
     "metadata": {},
     "output_type": "display_data"
    },
    {
     "data": {
      "text/html": [
       "27.386819545735"
      ],
      "text/latex": [
       "27.386819545735"
      ],
      "text/markdown": [
       "27.386819545735"
      ],
      "text/plain": [
       "[1] 27.38682"
      ]
     },
     "metadata": {},
     "output_type": "display_data"
    },
    {
     "data": {
      "text/html": [
       "29.3397141622976"
      ],
      "text/latex": [
       "29.3397141622976"
      ],
      "text/markdown": [
       "29.3397141622976"
      ],
      "text/plain": [
       "[1] 29.33971"
      ]
     },
     "metadata": {},
     "output_type": "display_data"
    }
   ],
   "source": [
    "# Standard Deviation\n",
    "sd(datasrno)\n",
    "sd(workex)\n",
    "sd(gmat)"
   ]
  },
  {
   "cell_type": "code",
   "execution_count": 12,
   "id": "2ef47782",
   "metadata": {},
   "outputs": [
    {
     "data": {
      "text/html": [
       "<ol class=list-inline>\n",
       "\t<li>1</li>\n",
       "\t<li>773</li>\n",
       "</ol>\n"
      ],
      "text/latex": [
       "\\begin{enumerate*}\n",
       "\\item 1\n",
       "\\item 773\n",
       "\\end{enumerate*}\n"
      ],
      "text/markdown": [
       "1. 1\n",
       "2. 773\n",
       "\n",
       "\n"
      ],
      "text/plain": [
       "[1]   1 773"
      ]
     },
     "metadata": {},
     "output_type": "display_data"
    },
    {
     "data": {
      "text/html": [
       "<ol class=list-inline>\n",
       "\t<li>9</li>\n",
       "\t<li>279</li>\n",
       "</ol>\n"
      ],
      "text/latex": [
       "\\begin{enumerate*}\n",
       "\\item 9\n",
       "\\item 279\n",
       "\\end{enumerate*}\n"
      ],
      "text/markdown": [
       "1. 9\n",
       "2. 279\n",
       "\n",
       "\n"
      ],
      "text/plain": [
       "[1]   9 279"
      ]
     },
     "metadata": {},
     "output_type": "display_data"
    },
    {
     "data": {
      "text/html": [
       "<ol class=list-inline>\n",
       "\t<li>600</li>\n",
       "\t<li>780</li>\n",
       "</ol>\n"
      ],
      "text/latex": [
       "\\begin{enumerate*}\n",
       "\\item 600\n",
       "\\item 780\n",
       "\\end{enumerate*}\n"
      ],
      "text/markdown": [
       "1. 600\n",
       "2. 780\n",
       "\n",
       "\n"
      ],
      "text/plain": [
       "[1] 600 780"
      ]
     },
     "metadata": {},
     "output_type": "display_data"
    }
   ],
   "source": [
    "# Range\n",
    "range(datasrno)\n",
    "range(workex)\n",
    "range(gmat)"
   ]
  },
  {
   "cell_type": "code",
   "execution_count": 13,
   "id": "372e1fae",
   "metadata": {},
   "outputs": [
    {
     "data": {
      "text/plain": [
       "    datasrno       workex           gmat      \n",
       " Min.   :  1   Min.   :  9.0   Min.   :600.0  \n",
       " 1st Qu.:194   1st Qu.: 41.0   1st Qu.:690.0  \n",
       " Median :387   Median : 52.0   Median :710.0  \n",
       " Mean   :387   Mean   : 57.5   Mean   :711.2  \n",
       " 3rd Qu.:580   3rd Qu.: 69.0   3rd Qu.:730.0  \n",
       " Max.   :773   Max.   :279.0   Max.   :780.0  "
      ]
     },
     "metadata": {},
     "output_type": "display_data"
    }
   ],
   "source": [
    "# summary of the data set\n",
    "summary(mba)"
   ]
  },
  {
   "cell_type": "code",
   "execution_count": 17,
   "id": "4bf57c1e",
   "metadata": {},
   "outputs": [
    {
     "name": "stdout",
     "output_type": "stream",
     "text": [
      "\n",
      "  There is a binary version available but the source version is later:\n",
      "        binary source needs_compilation\n",
      "moments   0.14 0.14.1             FALSE\n",
      "\n"
     ]
    },
    {
     "name": "stderr",
     "output_type": "stream",
     "text": [
      "installing the source package 'moments'\n",
      "\n"
     ]
    }
   ],
   "source": [
    "install.packages(\"moments\")"
   ]
  },
  {
   "cell_type": "code",
   "execution_count": 18,
   "id": "35303579",
   "metadata": {},
   "outputs": [],
   "source": [
    "library(moments)"
   ]
  },
  {
   "cell_type": "code",
   "execution_count": 19,
   "id": "7bbe41a2",
   "metadata": {},
   "outputs": [
    {
     "data": {
      "text/html": [
       "0"
      ],
      "text/latex": [
       "0"
      ],
      "text/markdown": [
       "0"
      ],
      "text/plain": [
       "[1] 0"
      ]
     },
     "metadata": {},
     "output_type": "display_data"
    },
    {
     "data": {
      "text/html": [
       "2.60347199361218"
      ],
      "text/latex": [
       "2.60347199361218"
      ],
      "text/markdown": [
       "2.60347199361218"
      ],
      "text/plain": [
       "[1] 2.603472"
      ]
     },
     "metadata": {},
     "output_type": "display_data"
    },
    {
     "data": {
      "text/html": [
       "-0.594320384238288"
      ],
      "text/latex": [
       "-0.594320384238288"
      ],
      "text/markdown": [
       "-0.594320384238288"
      ],
      "text/plain": [
       "[1] -0.5943204"
      ]
     },
     "metadata": {},
     "output_type": "display_data"
    }
   ],
   "source": [
    "skewness(datasrno)\n",
    "skewness(workex)\n",
    "skewness(gmat)"
   ]
  },
  {
   "cell_type": "code",
   "execution_count": 20,
   "id": "c3e6cd85",
   "metadata": {},
   "outputs": [
    {
     "data": {
      "text/html": [
       "1.79999598345182"
      ],
      "text/latex": [
       "1.79999598345182"
      ],
      "text/markdown": [
       "1.79999598345182"
      ],
      "text/plain": [
       "[1] 1.799996"
      ]
     },
     "metadata": {},
     "output_type": "display_data"
    },
    {
     "data": {
      "text/html": [
       "16.3104306571881"
      ],
      "text/latex": [
       "16.3104306571881"
      ],
      "text/markdown": [
       "16.3104306571881"
      ],
      "text/plain": [
       "[1] 16.31043"
      ]
     },
     "metadata": {},
     "output_type": "display_data"
    },
    {
     "data": {
      "text/html": [
       "4.15187630658453"
      ],
      "text/latex": [
       "4.15187630658453"
      ],
      "text/markdown": [
       "4.15187630658453"
      ],
      "text/plain": [
       "[1] 4.151876"
      ]
     },
     "metadata": {},
     "output_type": "display_data"
    }
   ],
   "source": [
    "kurtosis(datasrno)\n",
    "kurtosis(workex)\n",
    "kurtosis(gmat)"
   ]
  },
  {
   "cell_type": "code",
   "execution_count": 22,
   "id": "a325a62c",
   "metadata": {},
   "outputs": [
    {
     "data": {
      "image/png": "[encoded data removed]",
      "text/plain": [
       "Plot with title \"Histogram of datasrno\""
      ]
     },
     "metadata": {},
     "output_type": "display_data"
    }
   ],
   "source": [
    "# Visual representation\n",
    "hist(datasrno)"
   ]
  },
  {
   "cell_type": "code",
   "execution_count": 23,
   "id": "99613e9e",
   "metadata": {},
   "outputs": [
    {
     "data": {
      "image/png": "[encoded data removed]",
      "text/plain": [
       "Plot with title \"Histogram of workex\""
      ]
     },
     "metadata": {},
     "output_type": "display_data"
    }
   ],
   "source": [
    "hist(workex)"
   ]
  },
  {
   "cell_type": "code",
   "execution_count": 24,
   "id": "20b76260",
   "metadata": {},
   "outputs": [
    {
     "data": {
      "image/png": "[encoded data removed]",
      "text/plain": [
       "Plot with title \"Histogram of gmat\""
      ]
     },
     "metadata": {},
     "output_type": "display_data"
    }
   ],
   "source": [
    "hist(gmat)"
   ]
  },
  {
   "cell_type": "code",
   "execution_count": 26,
   "id": "3acbeb66",
   "metadata": {},
   "outputs": [
    {
     "data": {
      "image/png": "[encoded data removed]",
      "text/plain": [
       "Plot with title \"difference b/w plots\""
      ]
     },
     "metadata": {},
     "output_type": "display_data"
    }
   ],
   "source": [
    "boxplot(mba,main = \"difference b/w plots\") # box plot is checking for outliers"
   ]
  },
  {
   "cell_type": "code",
   "execution_count": 27,
   "id": "86a0bb83",
   "metadata": {},
   "outputs": [
    {
     "data": {
      "image/png": "[encoded data removed]",
      "text/plain": [
       "plot without title"
      ]
     },
     "metadata": {},
     "output_type": "display_data"
    },
    {
     "data": {
      "image/png": "[encoded data removed]",
      "text/plain": [
       "plot without title"
      ]
     },
     "metadata": {},
     "output_type": "display_data"
    },
    {
     "data": {
      "image/png": "[encoded data removed]",
      "text/plain": [
       "plot without title"
      ]
     },
     "metadata": {},
     "output_type": "display_data"
    }
   ],
   "source": [
    "barplot(datasrno)\n",
    "barplot(workex)\n",
    "barplot(gmat)"
   ]
  },
  {
   "cell_type": "code",
   "execution_count": 28,
   "id": "f5d25865",
   "metadata": {},
   "outputs": [],
   "source": [
    "# To find realtionship between two variable\n",
    "# plot(x,y)\n",
    "cars <- read.csv(\"E://excelr//excelr//data science//data sets//data sets_BA//cars.csv\")\n"
   ]
  },
  {
   "cell_type": "code",
   "execution_count": 29,
   "id": "0dd62377",
   "metadata": {},
   "outputs": [],
   "source": [
    "attach(cars)"
   ]
  },
  {
   "cell_type": "code",
   "execution_count": 30,
   "id": "1d521ee6",
   "metadata": {},
   "outputs": [
    {
     "data": {
      "text/html": [
       "<ol class=list-inline>\n",
       "\t<li>'HP'</li>\n",
       "\t<li>'MPG'</li>\n",
       "\t<li>'VOL'</li>\n",
       "\t<li>'SP'</li>\n",
       "\t<li>'WT'</li>\n",
       "</ol>\n"
      ],
      "text/latex": [
       "\\begin{enumerate*}\n",
       "\\item 'HP'\n",
       "\\item 'MPG'\n",
       "\\item 'VOL'\n",
       "\\item 'SP'\n",
       "\\item 'WT'\n",
       "\\end{enumerate*}\n"
      ],
      "text/markdown": [
       "1. 'HP'\n",
       "2. 'MPG'\n",
       "3. 'VOL'\n",
       "4. 'SP'\n",
       "5. 'WT'\n",
       "\n",
       "\n"
      ],
      "text/plain": [
       "[1] \"HP\"  \"MPG\" \"VOL\" \"SP\"  \"WT\" "
      ]
     },
     "metadata": {},
     "output_type": "display_data"
    }
   ],
   "source": [
    "colnames(cars)"
   ]
  },
  {
   "cell_type": "code",
   "execution_count": 31,
   "id": "b3fa3364",
   "metadata": {},
   "outputs": [
    {
     "data": {
      "text/plain": [
       "       HP             MPG             VOL               SP        \n",
       " Min.   : 49.0   Min.   :12.10   Min.   : 50.00   Min.   : 99.56  \n",
       " 1st Qu.: 84.0   1st Qu.:27.86   1st Qu.: 89.00   1st Qu.:113.83  \n",
       " Median :100.0   Median :35.15   Median :101.00   Median :118.21  \n",
       " Mean   :117.5   Mean   :34.42   Mean   : 98.77   Mean   :121.54  \n",
       " 3rd Qu.:140.0   3rd Qu.:39.53   3rd Qu.:113.00   3rd Qu.:126.40  \n",
       " Max.   :322.0   Max.   :53.70   Max.   :160.00   Max.   :169.60  \n",
       "       WT       \n",
       " Min.   :15.71  \n",
       " 1st Qu.:29.59  \n",
       " Median :32.73  \n",
       " Mean   :32.41  \n",
       " 3rd Qu.:37.39  \n",
       " Max.   :53.00  "
      ]
     },
     "metadata": {},
     "output_type": "display_data"
    }
   ],
   "source": [
    "summary(cars)"
   ]
  },
  {
   "cell_type": "code",
   "execution_count": 32,
   "id": "ab8e1623",
   "metadata": {},
   "outputs": [
    {
     "data": {
      "image/png": "[encoded data removed]",
      "text/plain": [
       "plot without title"
      ]
     },
     "metadata": {},
     "output_type": "display_data"
    }
   ],
   "source": [
    "boxplot(cars)"
   ]
  },
  {
   "cell_type": "code",
   "execution_count": 33,
   "id": "affa1884",
   "metadata": {},
   "outputs": [
    {
     "data": {
      "image/png": "[encoded data removed]",
      "text/plain": [
       "plot without title"
      ]
     },
     "metadata": {},
     "output_type": "display_data"
    }
   ],
   "source": [
    "# Checking relationship between HP (Horse Power) and SP (Speed)\n",
    "plot(HP,SP)"
   ]
  },
  {
   "cell_type": "code",
   "execution_count": null,
   "id": "b4c6b1d3",
   "metadata": {},
   "outputs": [],
   "source": []
  }
 ],
 "metadata": {
  "kernelspec": {
   "display_name": "R",
   "language": "R",
   "name": "ir"
  },
  "language_info": {
   "codemirror_mode": "r",
   "file_extension": ".r",
   "mimetype": "text/x-r-source",
   "name": "R",
   "pygments_lexer": "r",
   "version": "3.6.1"
  }
 },
 "nbformat": 4,
 "nbformat_minor": 5
}

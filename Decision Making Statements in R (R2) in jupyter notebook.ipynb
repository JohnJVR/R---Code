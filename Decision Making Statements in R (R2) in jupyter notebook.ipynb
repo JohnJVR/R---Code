{
 "cells": [
  {
   "cell_type": "code",
   "execution_count": null,
   "id": "7431951d",
   "metadata": {},
   "outputs": [],
   "source": [
    "# Decision Making Statements in R\n",
    "# If Statement\n",
    "# Syntax: \n",
    "if (test_expression) {\n",
    "  statement\n",
    "  }"
   ]
  },
  {
   "cell_type": "code",
   "execution_count": 4,
   "id": "5fcd28f5",
   "metadata": {},
   "outputs": [
    {
     "name": "stdout",
     "output_type": "stream",
     "text": [
      "[1] \"Positive number\"\n"
     ]
    }
   ],
   "source": [
    "x <- 5\n",
    "if(x > 0){\n",
    "  print(\"Positive number\")\n",
    "}"
   ]
  },
  {
   "cell_type": "code",
   "execution_count": null,
   "id": "32926a4b",
   "metadata": {},
   "outputs": [],
   "source": [
    "# If Else Statement\n",
    "# syntax: \n",
    "if (test_expression) {\n",
    "  statement1\n",
    "} \n",
    "else {\n",
    "  statement2\n",
    "  }\n"
   ]
  },
  {
   "cell_type": "code",
   "execution_count": 5,
   "id": "d53b60d3",
   "metadata": {},
   "outputs": [
    {
     "name": "stdout",
     "output_type": "stream",
     "text": [
      "[1] \"Negative number\"\n"
     ]
    }
   ],
   "source": [
    "x <- -5\n",
    "if(x > 0){\n",
    "  print(\"Non-negative number\")\n",
    "} else {\n",
    "  print(\"Negative number\")\n",
    "}"
   ]
  },
  {
   "cell_type": "code",
   "execution_count": null,
   "id": "4d9e84c9",
   "metadata": {},
   "outputs": [],
   "source": [
    "# Nested If Else Statement\n",
    "if ( test_expression1) {\n",
    "  statement1\n",
    "} else if ( test_expression2) {\n",
    "    statement2\n",
    "  } \n",
    "else if ( test_expression3) {\n",
    "  statement3\n",
    "  } else  statement4"
   ]
  },
  {
   "cell_type": "code",
   "execution_count": 6,
   "id": "834efd91",
   "metadata": {},
   "outputs": [
    {
     "name": "stdout",
     "output_type": "stream",
     "text": [
      "[1] \"Zero\"\n"
     ]
    }
   ],
   "source": [
    "x <- 0\n",
    "if (x < 0) {\n",
    "  print(\"Negative number\")\n",
    "} else if (x > 0) {\n",
    "  print(\"Positive number\")\n",
    "} else\n",
    "  print(\"Zero\")"
   ]
  },
  {
   "cell_type": "code",
   "execution_count": 7,
   "id": "6ee28c24",
   "metadata": {},
   "outputs": [
    {
     "data": {
      "text/html": [
       "<ol class=list-inline>\n",
       "\t<li>'odd'</li>\n",
       "\t<li>'odd'</li>\n",
       "\t<li>'even'</li>\n",
       "\t<li>'odd'</li>\n",
       "</ol>\n"
      ],
      "text/latex": [
       "\\begin{enumerate*}\n",
       "\\item 'odd'\n",
       "\\item 'odd'\n",
       "\\item 'even'\n",
       "\\item 'odd'\n",
       "\\end{enumerate*}\n"
      ],
      "text/markdown": [
       "1. 'odd'\n",
       "2. 'odd'\n",
       "3. 'even'\n",
       "4. 'odd'\n",
       "\n",
       "\n"
      ],
      "text/plain": [
       "[1] \"odd\"  \"odd\"  \"even\" \"odd\" "
      ]
     },
     "metadata": {},
     "output_type": "display_data"
    }
   ],
   "source": [
    "# There is an easier way to use if...else statement specifically for vectors in R programming\n",
    "# Syntax: ifelse(test_expression,x,y)\n",
    "a = c(5,7,2,9)\n",
    "ifelse(a %% 2 == 0,\"even\",\"odd\")"
   ]
  },
  {
   "cell_type": "code",
   "execution_count": 8,
   "id": "930dcb00",
   "metadata": {},
   "outputs": [
    {
     "data": {
      "text/html": [
       "<ol class=list-inline>\n",
       "\t<li>1.12</li>\n",
       "\t<li>1.06</li>\n",
       "\t<li>1</li>\n",
       "</ol>\n"
      ],
      "text/latex": [
       "\\begin{enumerate*}\n",
       "\\item 1.12\n",
       "\\item 1.06\n",
       "\\item 1\n",
       "\\end{enumerate*}\n"
      ],
      "text/markdown": [
       "1. 1.12\n",
       "2. 1.06\n",
       "3. 1\n",
       "\n",
       "\n"
      ],
      "text/plain": [
       "[1] 1.12 1.06 1.00"
      ]
     },
     "metadata": {},
     "output_type": "display_data"
    }
   ],
   "source": [
    "# for more than 2 conditions\n",
    "client <- c(\"private\", \"public\", \"other\")\n",
    "VAT <- ifelse(client =='private', 1.12, ifelse(client == 'public', 1.06, 1))\n",
    "VAT"
   ]
  },
  {
   "cell_type": "code",
   "execution_count": null,
   "id": "62135e55",
   "metadata": {},
   "outputs": [],
   "source": [
    "# Loops in R\n",
    "# While loop\n",
    "# Syntax\n",
    "while (test_expression) \n",
    "{\n",
    "  statement\n",
    "}"
   ]
  },
  {
   "cell_type": "code",
   "execution_count": 9,
   "id": "c5c77637",
   "metadata": {},
   "outputs": [
    {
     "name": "stdout",
     "output_type": "stream",
     "text": [
      "[1] 1\n",
      "[1] 2\n",
      "[1] 3\n",
      "[1] 4\n",
      "[1] 5\n"
     ]
    }
   ],
   "source": [
    "i <- 1\n",
    "while (i < 6) {\n",
    "  print(i)\n",
    "  i = i+1\n",
    "}"
   ]
  },
  {
   "cell_type": "code",
   "execution_count": null,
   "id": "57865e6f",
   "metadata": {},
   "outputs": [],
   "source": [
    "# Repeat loop\n",
    "# Syntax \n",
    "repeat { \n",
    "  commands \n",
    "  if(condition) {\n",
    "    break\n",
    "  }\n",
    "}"
   ]
  },
  {
   "cell_type": "code",
   "execution_count": 11,
   "id": "40221da2",
   "metadata": {},
   "outputs": [
    {
     "name": "stdout",
     "output_type": "stream",
     "text": [
      "[1] \"Hello\" \"JVR\"  \n",
      "[1] \"Hello\" \"JVR\"  \n",
      "[1] \"Hello\" \"JVR\"  \n",
      "[1] \"Hello\" \"JVR\"  \n"
     ]
    }
   ],
   "source": [
    "v <- c(\"Hello\",\"JVR\")\n",
    "cnt <- 2\n",
    "\n",
    "repeat {\n",
    "  print(v)\n",
    "  cnt <- cnt+1\n",
    "  \n",
    "  if(cnt > 5) {\n",
    "    break\n",
    "  }\n",
    "}"
   ]
  },
  {
   "cell_type": "code",
   "execution_count": 12,
   "id": "c4e626a9",
   "metadata": {},
   "outputs": [
    {
     "ename": "ERROR",
     "evalue": "Error in for (value in vector) {: invalid for() loop sequence\n",
     "output_type": "error",
     "traceback": [
      "Error in for (value in vector) {: invalid for() loop sequence\nTraceback:\n"
     ]
    }
   ],
   "source": [
    "# For Loop \n",
    "# Syntax\n",
    "for (value in vector) {\n",
    "  statements\n",
    "}"
   ]
  },
  {
   "cell_type": "code",
   "execution_count": 13,
   "id": "2370818f",
   "metadata": {},
   "outputs": [
    {
     "name": "stdout",
     "output_type": "stream",
     "text": [
      "[1] \"A\"\n",
      "[1] \"B\"\n",
      "[1] \"C\"\n",
      "[1] \"D\"\n"
     ]
    }
   ],
   "source": [
    "v <- LETTERS[1:4]\n",
    "for ( i in v) {\n",
    "  print(i)\n",
    "}"
   ]
  },
  {
   "cell_type": "code",
   "execution_count": 14,
   "id": "183ad53b",
   "metadata": {},
   "outputs": [],
   "source": [
    "# Loop Control Statements\n",
    "# break Statement - terminates the loop statement and transfers execution to the statement \n",
    "# immediately following the loop"
   ]
  },
  {
   "cell_type": "code",
   "execution_count": 15,
   "id": "d7903cec",
   "metadata": {},
   "outputs": [
    {
     "name": "stdout",
     "output_type": "stream",
     "text": [
      "[1] \"Hello\" \"JVR\"  \n",
      "[1] \"Hello\" \"JVR\"  \n",
      "[1] \"Hello\" \"JVR\"  \n",
      "[1] \"Hello\" \"JVR\"  \n"
     ]
    }
   ],
   "source": [
    "v <- c(\"Hello\",\"JVR\")\n",
    "cnt <- 2\n",
    "\n",
    "repeat {\n",
    "  print(v)\n",
    "  cnt <- cnt + 1\n",
    "  \n",
    "  if(cnt > 5) {\n",
    "    break\n",
    "  }\n",
    "}"
   ]
  },
  {
   "cell_type": "code",
   "execution_count": 16,
   "id": "6cce9934",
   "metadata": {},
   "outputs": [],
   "source": [
    "# next Statement - useful when we want to skip the current iteration of a loop without terminating it"
   ]
  },
  {
   "cell_type": "code",
   "execution_count": 17,
   "id": "313aa83f",
   "metadata": {},
   "outputs": [
    {
     "name": "stdout",
     "output_type": "stream",
     "text": [
      "[1] \"A\"\n",
      "[1] \"B\"\n",
      "[1] \"C\"\n",
      "[1] \"E\"\n",
      "[1] \"F\"\n"
     ]
    }
   ],
   "source": [
    "v <- LETTERS[1:6]\n",
    "for ( i in v) {\n",
    "  \n",
    "  if (i == \"D\") {\n",
    "    next\n",
    "  }\n",
    "  print(i)\n",
    "}"
   ]
  },
  {
   "cell_type": "code",
   "execution_count": 18,
   "id": "dee249a2",
   "metadata": {},
   "outputs": [
    {
     "ename": "ERROR",
     "evalue": "Error in parse(text = x, srcfile = src): <text>:3:12: unexpected symbol\n2: function_name <- function(arg_1, arg_2, ...) {\n3:   Function body\n              ^\n",
     "output_type": "error",
     "traceback": [
      "Error in parse(text = x, srcfile = src): <text>:3:12: unexpected symbol\n2: function_name <- function(arg_1, arg_2, ...) {\n3:   Function body\n              ^\nTraceback:\n"
     ]
    }
   ],
   "source": [
    "# Function \n",
    "function_name <- function(arg_1, arg_2, ...) {\n",
    "  Function body \n",
    "}"
   ]
  },
  {
   "cell_type": "code",
   "execution_count": 20,
   "id": "e0b1543d",
   "metadata": {},
   "outputs": [],
   "source": [
    "# User-defined Function\n",
    "new.function <- function(a) {\n",
    "  for(i in 1:a) {\n",
    "    b <- i^2\n",
    "    print(b)\n",
    "  }\n",
    "}"
   ]
  },
  {
   "cell_type": "code",
   "execution_count": 19,
   "id": "37a4fab0",
   "metadata": {},
   "outputs": [
    {
     "name": "stdout",
     "output_type": "stream",
     "text": [
      "[1] 1\n",
      "[1] 4\n",
      "[1] 9\n",
      "[1] 16\n",
      "[1] 25\n",
      "[1] 36\n"
     ]
    }
   ],
   "source": [
    "# Calling a Function\n",
    "new.function <- function(a) {\n",
    "  for(i in 1:a) {\n",
    "    b <- i^2\n",
    "    print(b)\n",
    "  }\n",
    "}\n",
    "new.function(6)"
   ]
  },
  {
   "cell_type": "code",
   "execution_count": 21,
   "id": "226d1c8e",
   "metadata": {},
   "outputs": [
    {
     "name": "stdout",
     "output_type": "stream",
     "text": [
      "[1] 1\n",
      "[1] 4\n",
      "[1] 9\n",
      "[1] 16\n",
      "[1] 25\n"
     ]
    }
   ],
   "source": [
    "# Calling a Function without an Argument\n",
    "new.function <- function() {\n",
    "  for(i in 1:5) {\n",
    "    print(i^2)\n",
    "  }\n",
    "}\t\n",
    "new.function()"
   ]
  },
  {
   "cell_type": "code",
   "execution_count": 23,
   "id": "4c8d828b",
   "metadata": {},
   "outputs": [],
   "source": [
    "# Calling a Function with Default Argument\n",
    "# Create a function with arguments.\n",
    "new.function <- function(a = 3, b = 6) {\n",
    "  result <- a * b\n",
    "  print(result)\n",
    "}"
   ]
  },
  {
   "cell_type": "code",
   "execution_count": 24,
   "id": "79c642c3",
   "metadata": {},
   "outputs": [
    {
     "name": "stdout",
     "output_type": "stream",
     "text": [
      "[1] 18\n"
     ]
    }
   ],
   "source": [
    "# Call the function without giving any argument.\n",
    "new.function()"
   ]
  },
  {
   "cell_type": "code",
   "execution_count": 25,
   "id": "1b402170",
   "metadata": {},
   "outputs": [
    {
     "name": "stdout",
     "output_type": "stream",
     "text": [
      "[1] 45\n"
     ]
    }
   ],
   "source": [
    "# Call the function with giving new values of the argument.\n",
    "new.function(9,5)"
   ]
  },
  {
   "cell_type": "code",
   "execution_count": 26,
   "id": "4fc9b1d1",
   "metadata": {},
   "outputs": [],
   "source": [
    "# Lazy Evaluation of Function\n",
    "# Create a function with arguments.\n",
    "new.function <- function(a, b) {\n",
    "  print(a^2)\n",
    "  print(a)\n",
    "  print(b)\n",
    "}"
   ]
  },
  {
   "cell_type": "code",
   "execution_count": 27,
   "id": "a240cd18",
   "metadata": {},
   "outputs": [
    {
     "name": "stdout",
     "output_type": "stream",
     "text": [
      "[1] 36\n",
      "[1] 6\n"
     ]
    },
    {
     "ename": "ERROR",
     "evalue": "Error in print(b): argument \"b\" is missing, with no default\n",
     "output_type": "error",
     "traceback": [
      "Error in print(b): argument \"b\" is missing, with no default\nTraceback:\n",
      "1. new.function(6)",
      "2. print(b)   # at line 6 of file <text>"
     ]
    }
   ],
   "source": [
    "# Evaluate the function without supplying one of the arguments.\n",
    "new.function(6)"
   ]
  },
  {
   "cell_type": "code",
   "execution_count": 28,
   "id": "04416e39",
   "metadata": {},
   "outputs": [],
   "source": [
    "# Mode function in r\n",
    "mode <- function(v) {\n",
    "  uniqv <- unique(v)\n",
    "  uniqv[which.max(tabulate(match(v, uniqv)))]\n",
    "}"
   ]
  },
  {
   "cell_type": "code",
   "execution_count": 30,
   "id": "8c856a05",
   "metadata": {},
   "outputs": [
    {
     "name": "stderr",
     "output_type": "stream",
     "text": [
      "also installing the dependencies 'listenv', 'parallelly', 'future', 'globals', 'future.apply', 'progressr', 'numDeriv', 'SQUAREM', 'colorspace', 'utf8', 'KernSmooth', 'lava', 'farver', 'labeling', 'munsell', 'R6', 'RColorBrewer', 'viridisLite', 'fansi', 'pillar', 'pkgconfig', 'rpart', 'survival', 'nnet', 'prodlim', 'cpp11', 'stringi', 'glue', 'gtable', 'isoband', 'MASS', 'mgcv', 'rlang', 'scales', 'tibble', 'class', 'proxy', 'codetools', 'iterators', 'data.table', 'dplyr', 'cli', 'ellipsis', 'generics', 'gower', 'hardhat', 'ipred', 'lifecycle', 'lubridate', 'magrittr', 'Matrix', 'purrr', 'tidyr', 'tidyselect', 'timeDate', 'vctrs', 'stringr', 'ggplot2', 'lattice', 'e1071', 'foreach', 'ModelMetrics', 'nlme', 'plyr', 'pROC', 'recipes', 'reshape2', 'withr'\n",
      "\n"
     ]
    },
    {
     "name": "stdout",
     "output_type": "stream",
     "text": [
      "\n",
      "  There are binary versions available but the source versions are later:\n",
      "               binary   source needs_compilation\n",
      "parallelly     1.25.0   1.32.1             FALSE\n",
      "future         1.21.0   1.28.0             FALSE\n",
      "globals        0.14.0   0.16.1             FALSE\n",
      "future.apply    1.7.0    1.9.1             FALSE\n",
      "progressr       0.7.0   0.11.0             FALSE\n",
      "colorspace      2.0-1    2.0-3              TRUE\n",
      "utf8            1.2.1    1.2.2              TRUE\n",
      "lava            1.6.9   1.6.10             FALSE\n",
      "farver          2.1.0    2.1.1              TRUE\n",
      "R6              2.5.0    2.5.1             FALSE\n",
      "RColorBrewer    1.1-2    1.1-3             FALSE\n",
      "viridisLite     0.4.0    0.4.1             FALSE\n",
      "fansi           0.4.2    1.0.3              TRUE\n",
      "pillar          1.6.0    1.8.1             FALSE\n",
      "rpart          4.1-15   4.1.16              TRUE\n",
      "survival       3.2-11    3.4-0              TRUE\n",
      "nnet           7.3-16   7.3-18              TRUE\n",
      "cpp11           0.2.7    0.4.3             FALSE\n",
      "stringi         1.6.1    1.7.8              TRUE\n",
      "glue            1.4.2    1.6.2              TRUE\n",
      "gtable          0.3.0    0.3.1             FALSE\n",
      "isoband         0.2.4    0.2.6              TRUE\n",
      "MASS           7.3-54 7.3-58.1              TRUE\n",
      "mgcv           1.8-35   1.8-40              TRUE\n",
      "rlang          0.4.11    1.0.6              TRUE\n",
      "scales          1.1.1    1.2.1             FALSE\n",
      "tibble          3.1.1    3.1.8              TRUE\n",
      "class          7.3-19   7.3-20              TRUE\n",
      "proxy          0.4-25   0.4-27              TRUE\n",
      "iterators      1.0.13   1.0.14             FALSE\n",
      "data.table     1.14.0   1.14.4              TRUE\n",
      "dplyr           1.0.6   1.0.10              TRUE\n",
      "cli             2.5.0    3.4.1              TRUE\n",
      "generics        0.1.0    0.1.3             FALSE\n",
      "gower           0.2.2    1.0.0              TRUE\n",
      "hardhat         0.1.5    1.2.0             FALSE\n",
      "ipred          0.9-11   0.9-13              TRUE\n",
      "lifecycle       1.0.0    1.0.3             FALSE\n",
      "lubridate      1.7.10    1.8.0              TRUE\n",
      "magrittr        2.0.1    2.0.3              TRUE\n",
      "Matrix          1.3-3    1.5-1              TRUE\n",
      "purrr           0.3.4    0.3.5              TRUE\n",
      "tidyr           1.1.3    1.2.1              TRUE\n",
      "tidyselect      1.1.1    1.2.0             FALSE\n",
      "timeDate     3043.102 4021.106             FALSE\n",
      "vctrs           0.3.8    0.4.2              TRUE\n",
      "stringr         1.4.0    1.4.1             FALSE\n",
      "ggplot2         3.3.3    3.3.6             FALSE\n",
      "lattice       0.20-44  0.20-45              TRUE\n",
      "e1071           1.7-6   1.7-11              TRUE\n",
      "foreach         1.5.1    1.5.2             FALSE\n",
      "nlme          3.1-152  3.1-160              TRUE\n",
      "plyr            1.8.6    1.8.7              TRUE\n",
      "pROC         1.17.0.1   1.18.0              TRUE\n",
      "recipes        0.1.16    1.0.2             FALSE\n",
      "withr           2.4.2    2.5.0             FALSE\n",
      "caret          6.0-86   6.0-93              TRUE\n",
      "\n",
      "  Binaries will be installed\n",
      "package 'listenv' successfully unpacked and MD5 sums checked\n",
      "package 'numDeriv' successfully unpacked and MD5 sums checked\n",
      "package 'SQUAREM' successfully unpacked and MD5 sums checked\n",
      "package 'colorspace' successfully unpacked and MD5 sums checked\n",
      "package 'utf8' successfully unpacked and MD5 sums checked\n",
      "package 'KernSmooth' successfully unpacked and MD5 sums checked\n",
      "package 'farver' successfully unpacked and MD5 sums checked\n",
      "package 'labeling' successfully unpacked and MD5 sums checked\n",
      "package 'munsell' successfully unpacked and MD5 sums checked\n",
      "package 'fansi' successfully unpacked and MD5 sums checked\n",
      "package 'pkgconfig' successfully unpacked and MD5 sums checked\n",
      "package 'rpart' successfully unpacked and MD5 sums checked\n",
      "package 'survival' successfully unpacked and MD5 sums checked\n",
      "package 'nnet' successfully unpacked and MD5 sums checked\n",
      "package 'prodlim' successfully unpacked and MD5 sums checked\n",
      "package 'stringi' successfully unpacked and MD5 sums checked\n",
      "package 'glue' successfully unpacked and MD5 sums checked\n",
      "package 'isoband' successfully unpacked and MD5 sums checked\n",
      "package 'MASS' successfully unpacked and MD5 sums checked\n",
      "package 'mgcv' successfully unpacked and MD5 sums checked\n",
      "package 'rlang' successfully unpacked and MD5 sums checked\n",
      "package 'tibble' successfully unpacked and MD5 sums checked\n",
      "package 'class' successfully unpacked and MD5 sums checked\n",
      "package 'proxy' successfully unpacked and MD5 sums checked\n",
      "package 'codetools' successfully unpacked and MD5 sums checked\n",
      "package 'data.table' successfully unpacked and MD5 sums checked\n",
      "package 'dplyr' successfully unpacked and MD5 sums checked\n",
      "package 'cli' successfully unpacked and MD5 sums checked\n",
      "package 'ellipsis' successfully unpacked and MD5 sums checked\n",
      "package 'gower' successfully unpacked and MD5 sums checked\n",
      "package 'ipred' successfully unpacked and MD5 sums checked\n",
      "package 'lubridate' successfully unpacked and MD5 sums checked\n",
      "package 'magrittr' successfully unpacked and MD5 sums checked\n",
      "package 'Matrix' successfully unpacked and MD5 sums checked\n",
      "package 'purrr' successfully unpacked and MD5 sums checked\n",
      "package 'tidyr' successfully unpacked and MD5 sums checked\n",
      "package 'vctrs' successfully unpacked and MD5 sums checked\n",
      "package 'lattice' successfully unpacked and MD5 sums checked\n",
      "package 'e1071' successfully unpacked and MD5 sums checked\n",
      "package 'ModelMetrics' successfully unpacked and MD5 sums checked\n",
      "package 'nlme' successfully unpacked and MD5 sums checked\n",
      "package 'plyr' successfully unpacked and MD5 sums checked\n",
      "package 'pROC' successfully unpacked and MD5 sums checked\n",
      "package 'reshape2' successfully unpacked and MD5 sums checked\n",
      "package 'caret' successfully unpacked and MD5 sums checked\n",
      "\n",
      "The downloaded binary packages are in\n",
      "\tC:\\Users\\Acer\\AppData\\Local\\Temp\\Rtmp8WqiQl\\downloaded_packages\n"
     ]
    },
    {
     "name": "stderr",
     "output_type": "stream",
     "text": [
      "installing the source packages 'parallelly', 'future', 'globals', 'future.apply', 'progressr', 'lava', 'R6', 'RColorBrewer', 'viridisLite', 'pillar', 'cpp11', 'gtable', 'scales', 'iterators', 'generics', 'hardhat', 'lifecycle', 'tidyselect', 'timeDate', 'stringr', 'ggplot2', 'foreach', 'recipes', 'withr'\n",
      "\n",
      "Warning message in install.packages(\"caret\"):\n",
      "\"installation of package 'hardhat' had non-zero exit status\"Warning message in install.packages(\"caret\"):\n",
      "\"installation of package 'lifecycle' had non-zero exit status\"Warning message in install.packages(\"caret\"):\n",
      "\"installation of package 'pillar' had non-zero exit status\"Warning message in install.packages(\"caret\"):\n",
      "\"installation of package 'scales' had non-zero exit status\"Warning message in install.packages(\"caret\"):\n",
      "\"installation of package 'tidyselect' had non-zero exit status\"Warning message in install.packages(\"caret\"):\n",
      "\"installation of package 'ggplot2' had non-zero exit status\"Warning message in install.packages(\"caret\"):\n",
      "\"installation of package 'recipes' had non-zero exit status\"Warning message:\n",
      "\"package 'caret' was built under R version 3.6.3\"Loading required package: lattice\n",
      "Warning message:\n",
      "\"package 'lattice' was built under R version 3.6.3\""
     ]
    },
    {
     "ename": "ERROR",
     "evalue": "Error: package 'ggplot2' required by 'caret' could not be found\n",
     "output_type": "error",
     "traceback": [
      "Error: package 'ggplot2' required by 'caret' could not be found\nTraceback:\n",
      "1. library(caret)",
      "2. .getRequiredPackages2(pkgInfo, quietly = quietly)",
      "3. stop(gettextf(\"package %s required by %s could not be found\", \n .     sQuote(pkg), sQuote(pkgname)), call. = FALSE, domain = NA)"
     ]
    }
   ],
   "source": [
    "\n",
    "# install packages in r\n",
    "install.packages(\"caret\")\n",
    "library(caret)\n"
   ]
  },
  {
   "cell_type": "code",
   "execution_count": 44,
   "id": "6983cbaf",
   "metadata": {},
   "outputs": [],
   "source": [
    "data()"
   ]
  },
  {
   "cell_type": "code",
   "execution_count": 37,
   "id": "e5143417",
   "metadata": {},
   "outputs": [],
   "source": [
    "data(women)"
   ]
  },
  {
   "cell_type": "code",
   "execution_count": 38,
   "id": "1a205289",
   "metadata": {},
   "outputs": [
    {
     "name": "stdout",
     "output_type": "stream",
     "text": [
      "'data.frame':\t15 obs. of  2 variables:\n",
      " $ height: num  58 59 60 61 62 63 64 65 66 67 ...\n",
      " $ weight: num  115 117 120 123 126 129 132 135 139 142 ...\n"
     ]
    }
   ],
   "source": [
    "str(women)"
   ]
  },
  {
   "cell_type": "code",
   "execution_count": 39,
   "id": "8234e4cd",
   "metadata": {},
   "outputs": [
    {
     "data": {
      "text/plain": [
       "     height         weight     \n",
       " Min.   :58.0   Min.   :115.0  \n",
       " 1st Qu.:61.5   1st Qu.:124.5  \n",
       " Median :65.0   Median :135.0  \n",
       " Mean   :65.0   Mean   :136.7  \n",
       " 3rd Qu.:68.5   3rd Qu.:148.0  \n",
       " Max.   :72.0   Max.   :164.0  "
      ]
     },
     "metadata": {},
     "output_type": "display_data"
    }
   ],
   "source": [
    "summary(women)"
   ]
  },
  {
   "cell_type": "code",
   "execution_count": 45,
   "id": "9aff8d9c",
   "metadata": {},
   "outputs": [],
   "source": [
    "data(USRegionalMortality)"
   ]
  },
  {
   "cell_type": "code",
   "execution_count": 46,
   "id": "08572436",
   "metadata": {},
   "outputs": [
    {
     "name": "stdout",
     "output_type": "stream",
     "text": [
      "'data.frame':\t400 obs. of  6 variables:\n",
      " $ Region: Factor w/ 10 levels \"HHS Region 01\",..: 1 1 1 1 2 2 2 2 3 3 ...\n",
      " $ Status: Factor w/ 2 levels \"Rural\",\"Urban\": 2 1 2 1 2 1 2 1 2 1 ...\n",
      " $ Sex   : Factor w/ 2 levels \"Female\",\"Male\": 2 2 1 1 2 2 1 1 2 2 ...\n",
      " $ Cause : Factor w/ 10 levels \"Alzheimers\",\"Cancer\",..: 6 6 6 6 6 6 6 6 6 6 ...\n",
      " $ Rate  : num  188 199 115 124 227 ...\n",
      " $ SE    : num  1 2.6 0.6 1.7 0.8 3.3 0.5 2.3 0.8 2 ...\n"
     ]
    }
   ],
   "source": [
    "str(USRegionalMortality)"
   ]
  },
  {
   "cell_type": "code",
   "execution_count": 47,
   "id": "12fa8d79",
   "metadata": {},
   "outputs": [
    {
     "data": {
      "text/plain": [
       "           Region      Status        Sex                           Cause    \n",
       " HHS Region 01: 40   Rural:200   Female:200   Alzheimers              : 40  \n",
       " HHS Region 02: 40   Urban:200   Male  :200   Cancer                  : 40  \n",
       " HHS Region 03: 40                            Cerebrovascular diseases: 40  \n",
       " HHS Region 04: 40                            Diabetes                : 40  \n",
       " HHS Region 05: 40                            Flu and pneumonia       : 40  \n",
       " HHS Region 06: 40                            Heart disease           : 40  \n",
       " (Other)      :160                            (Other)                 :160  \n",
       "      Rate              SE        \n",
       " Min.   :  3.40   Min.   :0.1000  \n",
       " 1st Qu.: 18.07   1st Qu.:0.3000  \n",
       " Median : 29.20   Median :0.5000  \n",
       " Mean   : 56.91   Mean   :0.6408  \n",
       " 3rd Qu.: 53.70   3rd Qu.:0.8000  \n",
       " Max.   :276.40   Max.   :3.3000  \n",
       "                                  "
      ]
     },
     "metadata": {},
     "output_type": "display_data"
    }
   ],
   "source": [
    "summary(USRegionalMortality)"
   ]
  },
  {
   "cell_type": "code",
   "execution_count": null,
   "id": "89dcfcd4",
   "metadata": {},
   "outputs": [],
   "source": []
  }
 ],
 "metadata": {
  "kernelspec": {
   "display_name": "R",
   "language": "R",
   "name": "ir"
  },
  "language_info": {
   "codemirror_mode": "r",
   "file_extension": ".r",
   "mimetype": "text/x-r-source",
   "name": "R",
   "pygments_lexer": "r",
   "version": "3.6.1"
  }
 },
 "nbformat": 4,
 "nbformat_minor": 5
}

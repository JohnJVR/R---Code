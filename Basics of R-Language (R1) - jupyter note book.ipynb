{
 "cells": [
  {
   "cell_type": "code",
   "execution_count": 3,
   "id": "2ab795f2",
   "metadata": {},
   "outputs": [],
   "source": [
    "# R is a an open source programming language & software environment\n",
    "# for statistical analysis, graphical representation,data analysis & visualization \n",
    "# R is a simple and easy to learn,read & write\n",
    "# Developed by Ross Ihaka & Robert Gentleman at the University of \n",
    "# Auckland, Newzealand\n",
    "\n",
    "# R is case sensitive "
   ]
  },
  {
   "cell_type": "code",
   "execution_count": 4,
   "id": "779a8b28",
   "metadata": {},
   "outputs": [
    {
     "data": {
      "text/html": [
       "11"
      ],
      "text/latex": [
       "11"
      ],
      "text/markdown": [
       "11"
      ],
      "text/plain": [
       "[1] 11"
      ]
     },
     "metadata": {},
     "output_type": "display_data"
    },
    {
     "data": {
      "text/html": [
       "-1"
      ],
      "text/latex": [
       "-1"
      ],
      "text/markdown": [
       "-1"
      ],
      "text/plain": [
       "[1] -1"
      ]
     },
     "metadata": {},
     "output_type": "display_data"
    },
    {
     "data": {
      "text/html": [
       "4.28571428571429"
      ],
      "text/latex": [
       "4.28571428571429"
      ],
      "text/markdown": [
       "4.28571428571429"
      ],
      "text/plain": [
       "[1] 4.285714"
      ]
     },
     "metadata": {},
     "output_type": "display_data"
    }
   ],
   "source": [
    "5 + 6 # using R as a calculator\n",
    "5 - 6\n",
    "(5*6)/7"
   ]
  },
  {
   "cell_type": "code",
   "execution_count": 5,
   "id": "9137ce76",
   "metadata": {},
   "outputs": [
    {
     "data": {
      "text/html": [
       "<ol class=list-inline>\n",
       "\t<li>1</li>\n",
       "\t<li>2</li>\n",
       "\t<li>3</li>\n",
       "\t<li>4</li>\n",
       "\t<li>5</li>\n",
       "\t<li>6</li>\n",
       "\t<li>7</li>\n",
       "\t<li>8</li>\n",
       "\t<li>9</li>\n",
       "\t<li>10</li>\n",
       "\t<li>11</li>\n",
       "\t<li>12</li>\n",
       "\t<li>13</li>\n",
       "\t<li>14</li>\n",
       "\t<li>15</li>\n",
       "\t<li>16</li>\n",
       "\t<li>17</li>\n",
       "\t<li>18</li>\n",
       "\t<li>19</li>\n",
       "\t<li>20</li>\n",
       "\t<li>21</li>\n",
       "\t<li>22</li>\n",
       "\t<li>23</li>\n",
       "\t<li>24</li>\n",
       "\t<li>25</li>\n",
       "\t<li>26</li>\n",
       "\t<li>27</li>\n",
       "\t<li>28</li>\n",
       "\t<li>29</li>\n",
       "\t<li>30</li>\n",
       "\t<li>31</li>\n",
       "\t<li>32</li>\n",
       "\t<li>33</li>\n",
       "\t<li>34</li>\n",
       "\t<li>35</li>\n",
       "\t<li>36</li>\n",
       "\t<li>37</li>\n",
       "\t<li>38</li>\n",
       "\t<li>39</li>\n",
       "\t<li>40</li>\n",
       "\t<li>41</li>\n",
       "\t<li>42</li>\n",
       "\t<li>43</li>\n",
       "\t<li>44</li>\n",
       "\t<li>45</li>\n",
       "\t<li>46</li>\n",
       "\t<li>47</li>\n",
       "\t<li>48</li>\n",
       "\t<li>49</li>\n",
       "\t<li>50</li>\n",
       "</ol>\n"
      ],
      "text/latex": [
       "\\begin{enumerate*}\n",
       "\\item 1\n",
       "\\item 2\n",
       "\\item 3\n",
       "\\item 4\n",
       "\\item 5\n",
       "\\item 6\n",
       "\\item 7\n",
       "\\item 8\n",
       "\\item 9\n",
       "\\item 10\n",
       "\\item 11\n",
       "\\item 12\n",
       "\\item 13\n",
       "\\item 14\n",
       "\\item 15\n",
       "\\item 16\n",
       "\\item 17\n",
       "\\item 18\n",
       "\\item 19\n",
       "\\item 20\n",
       "\\item 21\n",
       "\\item 22\n",
       "\\item 23\n",
       "\\item 24\n",
       "\\item 25\n",
       "\\item 26\n",
       "\\item 27\n",
       "\\item 28\n",
       "\\item 29\n",
       "\\item 30\n",
       "\\item 31\n",
       "\\item 32\n",
       "\\item 33\n",
       "\\item 34\n",
       "\\item 35\n",
       "\\item 36\n",
       "\\item 37\n",
       "\\item 38\n",
       "\\item 39\n",
       "\\item 40\n",
       "\\item 41\n",
       "\\item 42\n",
       "\\item 43\n",
       "\\item 44\n",
       "\\item 45\n",
       "\\item 46\n",
       "\\item 47\n",
       "\\item 48\n",
       "\\item 49\n",
       "\\item 50\n",
       "\\end{enumerate*}\n"
      ],
      "text/markdown": [
       "1. 1\n",
       "2. 2\n",
       "3. 3\n",
       "4. 4\n",
       "5. 5\n",
       "6. 6\n",
       "7. 7\n",
       "8. 8\n",
       "9. 9\n",
       "10. 10\n",
       "11. 11\n",
       "12. 12\n",
       "13. 13\n",
       "14. 14\n",
       "15. 15\n",
       "16. 16\n",
       "17. 17\n",
       "18. 18\n",
       "19. 19\n",
       "20. 20\n",
       "21. 21\n",
       "22. 22\n",
       "23. 23\n",
       "24. 24\n",
       "25. 25\n",
       "26. 26\n",
       "27. 27\n",
       "28. 28\n",
       "29. 29\n",
       "30. 30\n",
       "31. 31\n",
       "32. 32\n",
       "33. 33\n",
       "34. 34\n",
       "35. 35\n",
       "36. 36\n",
       "37. 37\n",
       "38. 38\n",
       "39. 39\n",
       "40. 40\n",
       "41. 41\n",
       "42. 42\n",
       "43. 43\n",
       "44. 44\n",
       "45. 45\n",
       "46. 46\n",
       "47. 47\n",
       "48. 48\n",
       "49. 49\n",
       "50. 50\n",
       "\n",
       "\n"
      ],
      "text/plain": [
       " [1]  1  2  3  4  5  6  7  8  9 10 11 12 13 14 15 16 17 18 19 20 21 22 23 24 25\n",
       "[26] 26 27 28 29 30 31 32 33 34 35 36 37 38 39 40 41 42 43 44 45 46 47 48 49 50"
      ]
     },
     "metadata": {},
     "output_type": "display_data"
    },
    {
     "data": {
      "text/html": [
       "<ol class=list-inline>\n",
       "\t<li>50</li>\n",
       "\t<li>49</li>\n",
       "\t<li>48</li>\n",
       "\t<li>47</li>\n",
       "\t<li>46</li>\n",
       "\t<li>45</li>\n",
       "\t<li>44</li>\n",
       "\t<li>43</li>\n",
       "\t<li>42</li>\n",
       "\t<li>41</li>\n",
       "\t<li>40</li>\n",
       "\t<li>39</li>\n",
       "\t<li>38</li>\n",
       "\t<li>37</li>\n",
       "\t<li>36</li>\n",
       "\t<li>35</li>\n",
       "\t<li>34</li>\n",
       "\t<li>33</li>\n",
       "\t<li>32</li>\n",
       "\t<li>31</li>\n",
       "\t<li>30</li>\n",
       "\t<li>29</li>\n",
       "\t<li>28</li>\n",
       "\t<li>27</li>\n",
       "\t<li>26</li>\n",
       "\t<li>25</li>\n",
       "\t<li>24</li>\n",
       "\t<li>23</li>\n",
       "\t<li>22</li>\n",
       "\t<li>21</li>\n",
       "\t<li>20</li>\n",
       "\t<li>19</li>\n",
       "\t<li>18</li>\n",
       "\t<li>17</li>\n",
       "\t<li>16</li>\n",
       "\t<li>15</li>\n",
       "\t<li>14</li>\n",
       "\t<li>13</li>\n",
       "\t<li>12</li>\n",
       "\t<li>11</li>\n",
       "\t<li>10</li>\n",
       "\t<li>9</li>\n",
       "\t<li>8</li>\n",
       "\t<li>7</li>\n",
       "\t<li>6</li>\n",
       "\t<li>5</li>\n",
       "\t<li>4</li>\n",
       "\t<li>3</li>\n",
       "\t<li>2</li>\n",
       "\t<li>1</li>\n",
       "</ol>\n"
      ],
      "text/latex": [
       "\\begin{enumerate*}\n",
       "\\item 50\n",
       "\\item 49\n",
       "\\item 48\n",
       "\\item 47\n",
       "\\item 46\n",
       "\\item 45\n",
       "\\item 44\n",
       "\\item 43\n",
       "\\item 42\n",
       "\\item 41\n",
       "\\item 40\n",
       "\\item 39\n",
       "\\item 38\n",
       "\\item 37\n",
       "\\item 36\n",
       "\\item 35\n",
       "\\item 34\n",
       "\\item 33\n",
       "\\item 32\n",
       "\\item 31\n",
       "\\item 30\n",
       "\\item 29\n",
       "\\item 28\n",
       "\\item 27\n",
       "\\item 26\n",
       "\\item 25\n",
       "\\item 24\n",
       "\\item 23\n",
       "\\item 22\n",
       "\\item 21\n",
       "\\item 20\n",
       "\\item 19\n",
       "\\item 18\n",
       "\\item 17\n",
       "\\item 16\n",
       "\\item 15\n",
       "\\item 14\n",
       "\\item 13\n",
       "\\item 12\n",
       "\\item 11\n",
       "\\item 10\n",
       "\\item 9\n",
       "\\item 8\n",
       "\\item 7\n",
       "\\item 6\n",
       "\\item 5\n",
       "\\item 4\n",
       "\\item 3\n",
       "\\item 2\n",
       "\\item 1\n",
       "\\end{enumerate*}\n"
      ],
      "text/markdown": [
       "1. 50\n",
       "2. 49\n",
       "3. 48\n",
       "4. 47\n",
       "5. 46\n",
       "6. 45\n",
       "7. 44\n",
       "8. 43\n",
       "9. 42\n",
       "10. 41\n",
       "11. 40\n",
       "12. 39\n",
       "13. 38\n",
       "14. 37\n",
       "15. 36\n",
       "16. 35\n",
       "17. 34\n",
       "18. 33\n",
       "19. 32\n",
       "20. 31\n",
       "21. 30\n",
       "22. 29\n",
       "23. 28\n",
       "24. 27\n",
       "25. 26\n",
       "26. 25\n",
       "27. 24\n",
       "28. 23\n",
       "29. 22\n",
       "30. 21\n",
       "31. 20\n",
       "32. 19\n",
       "33. 18\n",
       "34. 17\n",
       "35. 16\n",
       "36. 15\n",
       "37. 14\n",
       "38. 13\n",
       "39. 12\n",
       "40. 11\n",
       "41. 10\n",
       "42. 9\n",
       "43. 8\n",
       "44. 7\n",
       "45. 6\n",
       "46. 5\n",
       "47. 4\n",
       "48. 3\n",
       "49. 2\n",
       "50. 1\n",
       "\n",
       "\n"
      ],
      "text/plain": [
       " [1] 50 49 48 47 46 45 44 43 42 41 40 39 38 37 36 35 34 33 32 31 30 29 28 27 26\n",
       "[26] 25 24 23 22 21 20 19 18 17 16 15 14 13 12 11 10  9  8  7  6  5  4  3  2  1"
      ]
     },
     "metadata": {},
     "output_type": "display_data"
    },
    {
     "name": "stdout",
     "output_type": "stream",
     "text": [
      " [1] 50 49 48 47 46 45 44 43 42 41 40 39 38 37 36 35 34 33 32 31 30 29 28 27 26\n",
      "[26] 25 24 23 22 21 20 19 18 17 16 15 14 13 12 11 10  9  8  7  6  5  4  3  2  1\n"
     ]
    }
   ],
   "source": [
    "1:50 # print numbers from 1:50\n",
    "50:1 # print numbers 50:1 in reverse order\n",
    "print(50:1)"
   ]
  },
  {
   "cell_type": "code",
   "execution_count": 7,
   "id": "7d6409bc",
   "metadata": {},
   "outputs": [
    {
     "name": "stdout",
     "output_type": "stream",
     "text": [
      "[1] \"Welcome to R Programming Session\"\n",
      "[1] 38.2\n"
     ]
    },
    {
     "data": {
      "text/html": [
       "38.2"
      ],
      "text/latex": [
       "38.2"
      ],
      "text/markdown": [
       "38.2"
      ],
      "text/plain": [
       "[1] 38.2"
      ]
     },
     "metadata": {},
     "output_type": "display_data"
    }
   ],
   "source": [
    "print(\"Welcome to R Programming Session\") # print anything  \n",
    "\n",
    "print(25.5 + 12.7) # printing the calculation\n",
    "25.5 + 12.7"
   ]
  },
  {
   "cell_type": "code",
   "execution_count": 8,
   "id": "faa996b6",
   "metadata": {},
   "outputs": [
    {
     "ename": "ERROR",
     "evalue": "Error in parse(text = x, srcfile = src): <text>:2:6: unexpected symbol\n1: # help\n2: help or\n        ^\n",
     "output_type": "error",
     "traceback": [
      "Error in parse(text = x, srcfile = src): <text>:2:6: unexpected symbol\n1: # help\n2: help or\n        ^\nTraceback:\n"
     ]
    }
   ],
   "source": [
    "# help\n",
    "help or ?\n",
    "help(\"data.frame\")\n",
    "help(\"data.frame\")\n",
    "?read.csv"
   ]
  },
  {
   "cell_type": "code",
   "execution_count": 9,
   "id": "2e6f4fdf",
   "metadata": {},
   "outputs": [],
   "source": [
    "?read.csv"
   ]
  },
  {
   "cell_type": "code",
   "execution_count": 10,
   "id": "9fb697ce",
   "metadata": {},
   "outputs": [
    {
     "ename": "ERROR",
     "evalue": "Error in eval(expr, envir, enclos): object 'ctrl' not found\n",
     "output_type": "error",
     "traceback": [
      "Error in eval(expr, envir, enclos): object 'ctrl' not found\nTraceback:\n"
     ]
    }
   ],
   "source": [
    "ctrl+l # to clear console window"
   ]
  },
  {
   "cell_type": "code",
   "execution_count": 11,
   "id": "58b3fbcb",
   "metadata": {},
   "outputs": [],
   "source": [
    "# Data Types in R - Vector, List, Matrix, Array, Factor, Data Frame\n",
    "\n",
    "# Vector - contains elements of same class\n",
    "# there are 6 types of these atomic vectors, also known as 6 classes of vectors\n",
    "# 1. Logical - True, False"
   ]
  },
  {
   "cell_type": "code",
   "execution_count": 12,
   "id": "00b620cf",
   "metadata": {},
   "outputs": [
    {
     "data": {
      "text/html": [
       "TRUE"
      ],
      "text/latex": [
       "TRUE"
      ],
      "text/markdown": [
       "TRUE"
      ],
      "text/plain": [
       "[1] TRUE"
      ]
     },
     "metadata": {},
     "output_type": "display_data"
    }
   ],
   "source": [
    "a1 <- TRUE\n",
    "a1"
   ]
  },
  {
   "cell_type": "code",
   "execution_count": 13,
   "id": "f826d424",
   "metadata": {},
   "outputs": [
    {
     "data": {
      "text/html": [
       "<ol class=list-inline>\n",
       "\t<li>TRUE</li>\n",
       "\t<li>FALSE</li>\n",
       "\t<li>TRUE</li>\n",
       "\t<li>FALSE</li>\n",
       "</ol>\n"
      ],
      "text/latex": [
       "\\begin{enumerate*}\n",
       "\\item TRUE\n",
       "\\item FALSE\n",
       "\\item TRUE\n",
       "\\item FALSE\n",
       "\\end{enumerate*}\n"
      ],
      "text/markdown": [
       "1. TRUE\n",
       "2. FALSE\n",
       "3. TRUE\n",
       "4. FALSE\n",
       "\n",
       "\n"
      ],
      "text/plain": [
       "[1]  TRUE FALSE  TRUE FALSE"
      ]
     },
     "metadata": {},
     "output_type": "display_data"
    },
    {
     "data": {
      "text/html": [
       "'logical'"
      ],
      "text/latex": [
       "'logical'"
      ],
      "text/markdown": [
       "'logical'"
      ],
      "text/plain": [
       "[1] \"logical\""
      ]
     },
     "metadata": {},
     "output_type": "display_data"
    }
   ],
   "source": [
    "a <- c(TRUE, FALSE, TRUE, FALSE) # logical vector\n",
    "a\n",
    "class(a)"
   ]
  },
  {
   "cell_type": "code",
   "execution_count": 14,
   "id": "1a7fef19",
   "metadata": {},
   "outputs": [
    {
     "data": {
      "text/html": [
       "<ol class=list-inline>\n",
       "\t<li>0</li>\n",
       "\t<li>1</li>\n",
       "\t<li>2</li>\n",
       "\t<li>5.3</li>\n",
       "\t<li>4.22</li>\n",
       "\t<li>6</li>\n",
       "\t<li>-2</li>\n",
       "\t<li>4</li>\n",
       "\t<li>7</li>\n",
       "\t<li>8</li>\n",
       "\t<li>9</li>\n",
       "</ol>\n"
      ],
      "text/latex": [
       "\\begin{enumerate*}\n",
       "\\item 0\n",
       "\\item 1\n",
       "\\item 2\n",
       "\\item 5.3\n",
       "\\item 4.22\n",
       "\\item 6\n",
       "\\item -2\n",
       "\\item 4\n",
       "\\item 7\n",
       "\\item 8\n",
       "\\item 9\n",
       "\\end{enumerate*}\n"
      ],
      "text/markdown": [
       "1. 0\n",
       "2. 1\n",
       "3. 2\n",
       "4. 5.3\n",
       "5. 4.22\n",
       "6. 6\n",
       "7. -2\n",
       "8. 4\n",
       "9. 7\n",
       "10. 8\n",
       "11. 9\n",
       "\n",
       "\n"
      ],
      "text/plain": [
       " [1]  0.00  1.00  2.00  5.30  4.22  6.00 -2.00  4.00  7.00  8.00  9.00"
      ]
     },
     "metadata": {},
     "output_type": "display_data"
    },
    {
     "data": {
      "text/html": [
       "'numeric'"
      ],
      "text/latex": [
       "'numeric'"
      ],
      "text/markdown": [
       "'numeric'"
      ],
      "text/plain": [
       "[1] \"numeric\""
      ]
     },
     "metadata": {},
     "output_type": "display_data"
    }
   ],
   "source": [
    "# 2. Numeric \n",
    "b <- c(0, 1, 2, 5.3, 4.22, 6, -2, 4, c(7, 8, 9)) # numeric vector\n",
    "b\n",
    "class(b)"
   ]
  },
  {
   "cell_type": "code",
   "execution_count": 15,
   "id": "df6659ff",
   "metadata": {},
   "outputs": [
    {
     "data": {
      "text/html": [
       "<ol class=list-inline>\n",
       "\t<li>2</li>\n",
       "\t<li>34</li>\n",
       "\t<li>0</li>\n",
       "</ol>\n"
      ],
      "text/latex": [
       "\\begin{enumerate*}\n",
       "\\item 2\n",
       "\\item 34\n",
       "\\item 0\n",
       "\\end{enumerate*}\n"
      ],
      "text/markdown": [
       "1. 2\n",
       "2. 34\n",
       "3. 0\n",
       "\n",
       "\n"
      ],
      "text/plain": [
       "[1]  2 34  0"
      ]
     },
     "metadata": {},
     "output_type": "display_data"
    },
    {
     "data": {
      "text/html": [
       "'integer'"
      ],
      "text/latex": [
       "'integer'"
      ],
      "text/markdown": [
       "'integer'"
      ],
      "text/plain": [
       "[1] \"integer\""
      ]
     },
     "metadata": {},
     "output_type": "display_data"
    }
   ],
   "source": [
    "# 3. Integer # Whole numbers & not a fraction\n",
    "c <- c(2L, 34L, 0L)\n",
    "c\n",
    "class(c)"
   ]
  },
  {
   "cell_type": "code",
   "execution_count": 16,
   "id": "87962cf0",
   "metadata": {},
   "outputs": [
    {
     "data": {
      "text/html": [
       "5+9i"
      ],
      "text/latex": [
       "5+9i"
      ],
      "text/markdown": [
       "5+9i"
      ],
      "text/plain": [
       "[1] 5+9i"
      ]
     },
     "metadata": {},
     "output_type": "display_data"
    },
    {
     "data": {
      "text/html": [
       "'complex'"
      ],
      "text/latex": [
       "'complex'"
      ],
      "text/markdown": [
       "'complex'"
      ],
      "text/plain": [
       "[1] \"complex\""
      ]
     },
     "metadata": {},
     "output_type": "display_data"
    }
   ],
   "source": [
    "# 4. Complex\n",
    "d <- 5 + 9i\n",
    "d\n",
    "class(d)"
   ]
  },
  {
   "cell_type": "code",
   "execution_count": 17,
   "id": "111297f5",
   "metadata": {},
   "outputs": [
    {
     "data": {
      "text/html": [
       "<ol class=list-inline>\n",
       "\t<li>'Right now'</li>\n",
       "\t<li>'it is'</li>\n",
       "\t<li>'10:15 am'</li>\n",
       "</ol>\n"
      ],
      "text/latex": [
       "\\begin{enumerate*}\n",
       "\\item 'Right now'\n",
       "\\item 'it is'\n",
       "\\item '10:15 am'\n",
       "\\end{enumerate*}\n"
      ],
      "text/markdown": [
       "1. 'Right now'\n",
       "2. 'it is'\n",
       "3. '10:15 am'\n",
       "\n",
       "\n"
      ],
      "text/plain": [
       "[1] \"Right now\" \"it is\"     \"10:15 am\" "
      ]
     },
     "metadata": {},
     "output_type": "display_data"
    },
    {
     "data": {
      "text/html": [
       "'character'"
      ],
      "text/latex": [
       "'character'"
      ],
      "text/markdown": [
       "'character'"
      ],
      "text/plain": [
       "[1] \"character\""
      ]
     },
     "metadata": {},
     "output_type": "display_data"
    }
   ],
   "source": [
    "# 5. Character\n",
    "e <- c(\"Right now\", 'it is', '10:15 am')\n",
    "e\n",
    "class(e)"
   ]
  },
  {
   "cell_type": "code",
   "execution_count": 18,
   "id": "1f2b4bc4",
   "metadata": {},
   "outputs": [
    {
     "data": {
      "text/plain": [
       "  [1] 00 00 00 00 00 00 00 00 00 00 00 00 00 00 00 00 00 00 00 00 00 00 00 00 00\n",
       " [26] 00 00 00 00 00 00 00 00 00 00 00 00 00 00 00 00 00 00 00 00 00 00 00 00 00\n",
       " [51] 00 00 00 00 00 00 00 00 00 00 00 00 00 00 00 00 00 00 00 00 00 00 00 00 00\n",
       " [76] 00 00 00 00 00 00 00 00 00 00 00 00 00 00 00 00 00 00 00 00 00 00 00 00 00"
      ]
     },
     "metadata": {},
     "output_type": "display_data"
    },
    {
     "data": {
      "text/html": [
       "'raw'"
      ],
      "text/latex": [
       "'raw'"
      ],
      "text/markdown": [
       "'raw'"
      ],
      "text/plain": [
       "[1] \"raw\""
      ]
     },
     "metadata": {},
     "output_type": "display_data"
    }
   ],
   "source": [
    "# 6. Raw\n",
    "f <- raw(100)\n",
    "f\n",
    "class(f)"
   ]
  },
  {
   "cell_type": "code",
   "execution_count": 26,
   "id": "6b0fb5a6",
   "metadata": {},
   "outputs": [
    {
     "data": {
      "text/plain": [
       "[1] 6a 6f 68 6e"
      ]
     },
     "metadata": {},
     "output_type": "display_data"
    },
    {
     "data": {
      "text/html": [
       "'raw'"
      ],
      "text/latex": [
       "'raw'"
      ],
      "text/markdown": [
       "'raw'"
      ],
      "text/plain": [
       "[1] \"raw\""
      ]
     },
     "metadata": {},
     "output_type": "display_data"
    }
   ],
   "source": [
    "g <- charToRaw(\"john\")\n",
    "g\n",
    "class(g)"
   ]
  },
  {
   "cell_type": "code",
   "execution_count": 27,
   "id": "0fa7b5b3",
   "metadata": {},
   "outputs": [
    {
     "data": {
      "text/html": [
       "<ol class=list-inline>\n",
       "\t<li>TRUE</li>\n",
       "\t<li>FALSE</li>\n",
       "\t<li>TRUE</li>\n",
       "</ol>\n"
      ],
      "text/latex": [
       "\\begin{enumerate*}\n",
       "\\item TRUE\n",
       "\\item FALSE\n",
       "\\item TRUE\n",
       "\\end{enumerate*}\n"
      ],
      "text/markdown": [
       "1. TRUE\n",
       "2. FALSE\n",
       "3. TRUE\n",
       "\n",
       "\n"
      ],
      "text/plain": [
       "[1]  TRUE FALSE  TRUE"
      ]
     },
     "metadata": {},
     "output_type": "display_data"
    },
    {
     "data": {
      "text/html": [
       "<ol class=list-inline>\n",
       "\t<li>TRUE</li>\n",
       "\t<li>TRUE</li>\n",
       "</ol>\n"
      ],
      "text/latex": [
       "\\begin{enumerate*}\n",
       "\\item TRUE\n",
       "\\item TRUE\n",
       "\\end{enumerate*}\n"
      ],
      "text/markdown": [
       "1. TRUE\n",
       "2. TRUE\n",
       "\n",
       "\n"
      ],
      "text/plain": [
       "[1] TRUE TRUE"
      ]
     },
     "metadata": {},
     "output_type": "display_data"
    }
   ],
   "source": [
    "# accessing vector elements by their indeces or subscripts\n",
    "a[1:3]\n",
    "a[c(1,3)] \n",
    "# a[1:3] != a[c(1,3)]"
   ]
  },
  {
   "cell_type": "code",
   "execution_count": 28,
   "id": "9693f217",
   "metadata": {},
   "outputs": [
    {
     "ename": "ERROR",
     "evalue": "Error in View(a): 'View()' not yet supported in the Jupyter R kernel\n",
     "output_type": "error",
     "traceback": [
      "Error in View(a): 'View()' not yet supported in the Jupyter R kernel\nTraceback:\n",
      "1. View(a)",
      "2. stop(sQuote(\"View()\"), \" not yet supported in the Jupyter R kernel\")"
     ]
    }
   ],
   "source": [
    "# Viewing vectors in tabular format\n",
    "View(a) # only helpful in small length vectors"
   ]
  },
  {
   "cell_type": "code",
   "execution_count": 30,
   "id": "d4f05457",
   "metadata": {},
   "outputs": [
    {
     "data": {
      "text/html": [
       "'list'"
      ],
      "text/latex": [
       "'list'"
      ],
      "text/markdown": [
       "'list'"
      ],
      "text/plain": [
       "[1] \"list\""
      ]
     },
     "metadata": {},
     "output_type": "display_data"
    },
    {
     "data": {
      "text/html": [
       "<ol>\n",
       "\t<li>23</li>\n",
       "\t<li>21.3</li>\n",
       "\t<li><ol class=list-inline>\n",
       "\t<li>2</li>\n",
       "\t<li>5</li>\n",
       "\t<li>3</li>\n",
       "</ol>\n",
       "</li>\n",
       "\t<li>'hello'</li>\n",
       "\t<li>3+5i</li>\n",
       "\t<li>2</li>\n",
       "</ol>\n"
      ],
      "text/latex": [
       "\\begin{enumerate}\n",
       "\\item 23\n",
       "\\item 21.3\n",
       "\\item \\begin{enumerate*}\n",
       "\\item 2\n",
       "\\item 5\n",
       "\\item 3\n",
       "\\end{enumerate*}\n",
       "\n",
       "\\item 'hello'\n",
       "\\item 3+5i\n",
       "\\item 2\n",
       "\\end{enumerate}\n"
      ],
      "text/markdown": [
       "1. 23\n",
       "2. 21.3\n",
       "3. 1. 2\n",
       "2. 5\n",
       "3. 3\n",
       "\n",
       "\n",
       "\n",
       "4. 'hello'\n",
       "5. 3+5i\n",
       "6. 2\n",
       "\n",
       "\n"
      ],
      "text/plain": [
       "[[1]]\n",
       "[1] 23\n",
       "\n",
       "[[2]]\n",
       "[1] 21.3\n",
       "\n",
       "[[3]]\n",
       "[1] 2 5 3\n",
       "\n",
       "[[4]]\n",
       "[1] \"hello\"\n",
       "\n",
       "[[5]]\n",
       "[1] 3+5i\n",
       "\n",
       "[[6]]\n",
       "[1] 2\n"
      ]
     },
     "metadata": {},
     "output_type": "display_data"
    }
   ],
   "source": [
    "# List -  can contain many different types of elements inside it like vectors, \n",
    "# functions and even another list inside it\n",
    "h <- list(23, 21.3, c(2,5,3), \"hello\", sin)\n",
    "h <- c(23, 21.3, c(2,5,3), \"hello\", sin)\n",
    "h <- c(23, 21.3, c(2,5,3), \"hello\")\n",
    "h <- c(23, 21.3, c(2,5,3), \"hello\", 3+5i, 2L)\n",
    "h <- c(23, 21.3, c(2,5,3), \"hello\", 3+5i, 2L, mean)\n",
    "class(h)\n",
    "#View(h)\n",
    "h <- list(23, 21.3, c(2,5,3), \"hello\", 3+5i, 2L)\n",
    "h\n",
    "#View(h)"
   ]
  },
  {
   "cell_type": "code",
   "execution_count": 33,
   "id": "429b3018",
   "metadata": {},
   "outputs": [
    {
     "data": {
      "text/html": [
       "23"
      ],
      "text/latex": [
       "23"
      ],
      "text/markdown": [
       "23"
      ],
      "text/plain": [
       "[1] 23"
      ]
     },
     "metadata": {},
     "output_type": "display_data"
    },
    {
     "data": {
      "text/html": [
       "5"
      ],
      "text/latex": [
       "5"
      ],
      "text/markdown": [
       "5"
      ],
      "text/plain": [
       "[1] 5"
      ]
     },
     "metadata": {},
     "output_type": "display_data"
    }
   ],
   "source": [
    "#Accessing List elements by their index\n",
    "h[[1]]\n",
    "h[[3]][2]"
   ]
  },
  {
   "cell_type": "code",
   "execution_count": 34,
   "id": "067112b5",
   "metadata": {},
   "outputs": [
    {
     "data": {
      "text/html": [
       "<ol class=list-inline>\n",
       "\t<li>2</li>\n",
       "\t<li>5</li>\n",
       "\t<li>3</li>\n",
       "</ol>\n"
      ],
      "text/latex": [
       "\\begin{enumerate*}\n",
       "\\item 2\n",
       "\\item 5\n",
       "\\item 3\n",
       "\\end{enumerate*}\n"
      ],
      "text/markdown": [
       "1. 2\n",
       "2. 5\n",
       "3. 3\n",
       "\n",
       "\n"
      ],
      "text/plain": [
       "[1] 2 5 3"
      ]
     },
     "metadata": {},
     "output_type": "display_data"
    }
   ],
   "source": [
    "h[[3]]"
   ]
  },
  {
   "cell_type": "code",
   "execution_count": 35,
   "id": "01ae1df1",
   "metadata": {},
   "outputs": [
    {
     "data": {
      "text/html": [
       "'matrix'"
      ],
      "text/latex": [
       "'matrix'"
      ],
      "text/markdown": [
       "'matrix'"
      ],
      "text/plain": [
       "[1] \"matrix\""
      ]
     },
     "metadata": {},
     "output_type": "display_data"
    },
    {
     "data": {
      "text/html": [
       "<table>\n",
       "<thead><tr><th></th><th scope=col>c1</th><th scope=col>c2</th></tr></thead>\n",
       "<tbody>\n",
       "\t<tr><th scope=row>r1</th><td>10</td><td>20</td></tr>\n",
       "\t<tr><th scope=row>r2</th><td>30</td><td>10</td></tr>\n",
       "\t<tr><th scope=row>r3</th><td>20</td><td>30</td></tr>\n",
       "</tbody>\n",
       "</table>\n"
      ],
      "text/latex": [
       "\\begin{tabular}{r|ll}\n",
       "  & c1 & c2\\\\\n",
       "\\hline\n",
       "\tr1 & 10 & 20\\\\\n",
       "\tr2 & 30 & 10\\\\\n",
       "\tr3 & 20 & 30\\\\\n",
       "\\end{tabular}\n"
      ],
      "text/markdown": [
       "\n",
       "| <!--/--> | c1 | c2 |\n",
       "|---|---|---|\n",
       "| r1 | 10 | 20 |\n",
       "| r2 | 30 | 10 |\n",
       "| r3 | 20 | 30 |\n",
       "\n"
      ],
      "text/plain": [
       "   c1 c2\n",
       "r1 10 20\n",
       "r2 30 10\n",
       "r3 20 30"
      ]
     },
     "metadata": {},
     "output_type": "display_data"
    }
   ],
   "source": [
    "# Matrix - two-dimensional(rows*columns) rectangular data set \n",
    "# It can be created using a vector input to the matrix function\n",
    "# The data elements must be of the same type\n",
    "# All columns in a matrix must have the same type of mode(numeric, character, etc.) \n",
    "# and the same length\n",
    "i <- matrix(c(10, 20, 30), nrow = 3, ncol = 2, byrow = TRUE, \n",
    "            dimnames = list(c('r1', 'r2', 'r3'), c('c1', 'c2')))\n",
    "# default value for byrow is FALSE\n",
    "class(i)\n",
    "i"
   ]
  },
  {
   "cell_type": "code",
   "execution_count": 36,
   "id": "a27348c0",
   "metadata": {},
   "outputs": [
    {
     "data": {
      "text/html": [
       "30"
      ],
      "text/latex": [
       "30"
      ],
      "text/markdown": [
       "30"
      ],
      "text/plain": [
       "[1] 30"
      ]
     },
     "metadata": {},
     "output_type": "display_data"
    }
   ],
   "source": [
    "# Accessing elements of a matrix\n",
    "i[3,2]"
   ]
  },
  {
   "cell_type": "code",
   "execution_count": 37,
   "id": "7f9de355",
   "metadata": {},
   "outputs": [
    {
     "data": {
      "text/html": [
       "10"
      ],
      "text/latex": [
       "10"
      ],
      "text/markdown": [
       "10"
      ],
      "text/plain": [
       "[1] 10"
      ]
     },
     "metadata": {},
     "output_type": "display_data"
    }
   ],
   "source": [
    "i[1]"
   ]
  },
  {
   "cell_type": "code",
   "execution_count": 38,
   "id": "7367a0bb",
   "metadata": {},
   "outputs": [
    {
     "data": {
      "text/html": [
       "20"
      ],
      "text/latex": [
       "20"
      ],
      "text/markdown": [
       "20"
      ],
      "text/plain": [
       "[1] 20"
      ]
     },
     "metadata": {},
     "output_type": "display_data"
    }
   ],
   "source": [
    "i[1,2]"
   ]
  },
  {
   "cell_type": "code",
   "execution_count": 39,
   "id": "b4d54d37",
   "metadata": {},
   "outputs": [
    {
     "data": {
      "text/html": [],
      "text/latex": [],
      "text/markdown": [],
      "text/plain": [
       "numeric(0)"
      ]
     },
     "metadata": {},
     "output_type": "display_data"
    }
   ],
   "source": [
    "i[2,0]"
   ]
  },
  {
   "cell_type": "code",
   "execution_count": 40,
   "id": "ce138f83",
   "metadata": {},
   "outputs": [
    {
     "data": {
      "text/html": [
       "30"
      ],
      "text/latex": [
       "30"
      ],
      "text/markdown": [
       "30"
      ],
      "text/plain": [
       "[1] 30"
      ]
     },
     "metadata": {},
     "output_type": "display_data"
    }
   ],
   "source": [
    "i[2,1]"
   ]
  },
  {
   "cell_type": "code",
   "execution_count": 42,
   "id": "e389410d",
   "metadata": {},
   "outputs": [
    {
     "data": {
      "text/html": [
       "<ol class=list-inline>\n",
       "\t<li>'R'</li>\n",
       "\t<li>'Programming'</li>\n",
       "\t<li>'Session'</li>\n",
       "\t<li>'R'</li>\n",
       "\t<li>'Programming'</li>\n",
       "\t<li>'Session'</li>\n",
       "\t<li>'R'</li>\n",
       "\t<li>'Programming'</li>\n",
       "\t<li>'Session'</li>\n",
       "\t<li>'R'</li>\n",
       "\t<li>'Programming'</li>\n",
       "\t<li>'Session'</li>\n",
       "\t<li>'R'</li>\n",
       "\t<li>'Programming'</li>\n",
       "\t<li>'Session'</li>\n",
       "\t<li>'R'</li>\n",
       "\t<li>'Programming'</li>\n",
       "\t<li>'Session'</li>\n",
       "\t<li>'R'</li>\n",
       "\t<li>'Programming'</li>\n",
       "\t<li>'Session'</li>\n",
       "\t<li>'R'</li>\n",
       "\t<li>'Programming'</li>\n",
       "\t<li>'Session'</li>\n",
       "\t<li>'R'</li>\n",
       "\t<li>'Programming'</li>\n",
       "\t<li>'Session'</li>\n",
       "\t<li>'R'</li>\n",
       "\t<li>'Programming'</li>\n",
       "\t<li>'Session'</li>\n",
       "\t<li>'R'</li>\n",
       "\t<li>'Programming'</li>\n",
       "\t<li>'Session'</li>\n",
       "\t<li>'R'</li>\n",
       "\t<li>'Programming'</li>\n",
       "\t<li>'Session'</li>\n",
       "\t<li>'R'</li>\n",
       "\t<li>'Programming'</li>\n",
       "\t<li>'Session'</li>\n",
       "\t<li>'R'</li>\n",
       "</ol>\n"
      ],
      "text/latex": [
       "\\begin{enumerate*}\n",
       "\\item 'R'\n",
       "\\item 'Programming'\n",
       "\\item 'Session'\n",
       "\\item 'R'\n",
       "\\item 'Programming'\n",
       "\\item 'Session'\n",
       "\\item 'R'\n",
       "\\item 'Programming'\n",
       "\\item 'Session'\n",
       "\\item 'R'\n",
       "\\item 'Programming'\n",
       "\\item 'Session'\n",
       "\\item 'R'\n",
       "\\item 'Programming'\n",
       "\\item 'Session'\n",
       "\\item 'R'\n",
       "\\item 'Programming'\n",
       "\\item 'Session'\n",
       "\\item 'R'\n",
       "\\item 'Programming'\n",
       "\\item 'Session'\n",
       "\\item 'R'\n",
       "\\item 'Programming'\n",
       "\\item 'Session'\n",
       "\\item 'R'\n",
       "\\item 'Programming'\n",
       "\\item 'Session'\n",
       "\\item 'R'\n",
       "\\item 'Programming'\n",
       "\\item 'Session'\n",
       "\\item 'R'\n",
       "\\item 'Programming'\n",
       "\\item 'Session'\n",
       "\\item 'R'\n",
       "\\item 'Programming'\n",
       "\\item 'Session'\n",
       "\\item 'R'\n",
       "\\item 'Programming'\n",
       "\\item 'Session'\n",
       "\\item 'R'\n",
       "\\end{enumerate*}\n"
      ],
      "text/markdown": [
       "1. 'R'\n",
       "2. 'Programming'\n",
       "3. 'Session'\n",
       "4. 'R'\n",
       "5. 'Programming'\n",
       "6. 'Session'\n",
       "7. 'R'\n",
       "8. 'Programming'\n",
       "9. 'Session'\n",
       "10. 'R'\n",
       "11. 'Programming'\n",
       "12. 'Session'\n",
       "13. 'R'\n",
       "14. 'Programming'\n",
       "15. 'Session'\n",
       "16. 'R'\n",
       "17. 'Programming'\n",
       "18. 'Session'\n",
       "19. 'R'\n",
       "20. 'Programming'\n",
       "21. 'Session'\n",
       "22. 'R'\n",
       "23. 'Programming'\n",
       "24. 'Session'\n",
       "25. 'R'\n",
       "26. 'Programming'\n",
       "27. 'Session'\n",
       "28. 'R'\n",
       "29. 'Programming'\n",
       "30. 'Session'\n",
       "31. 'R'\n",
       "32. 'Programming'\n",
       "33. 'Session'\n",
       "34. 'R'\n",
       "35. 'Programming'\n",
       "36. 'Session'\n",
       "37. 'R'\n",
       "38. 'Programming'\n",
       "39. 'Session'\n",
       "40. 'R'\n",
       "\n",
       "\n"
      ],
      "text/plain": [
       ", , 1\n",
       "\n",
       "     [,1]          [,2]      [,3]          [,4]          [,5]     \n",
       "[1,] \"R\"           \"Session\" \"Programming\" \"R\"           \"Session\"\n",
       "[2,] \"Programming\" \"R\"       \"Session\"     \"Programming\" \"R\"      \n",
       "\n",
       ", , 2\n",
       "\n",
       "     [,1]          [,2]          [,3]      [,4]          [,5]         \n",
       "[1,] \"Programming\" \"R\"           \"Session\" \"Programming\" \"R\"          \n",
       "[2,] \"Session\"     \"Programming\" \"R\"       \"Session\"     \"Programming\"\n",
       "\n",
       ", , 3\n",
       "\n",
       "     [,1]      [,2]          [,3]          [,4]      [,5]         \n",
       "[1,] \"Session\" \"Programming\" \"R\"           \"Session\" \"Programming\"\n",
       "[2,] \"R\"       \"Session\"     \"Programming\" \"R\"       \"Session\"    \n",
       "\n",
       ", , 4\n",
       "\n",
       "     [,1]          [,2]      [,3]          [,4]          [,5]     \n",
       "[1,] \"R\"           \"Session\" \"Programming\" \"R\"           \"Session\"\n",
       "[2,] \"Programming\" \"R\"       \"Session\"     \"Programming\" \"R\"      \n"
      ]
     },
     "metadata": {},
     "output_type": "display_data"
    },
    {
     "data": {
      "text/html": [
       "'array'"
      ],
      "text/latex": [
       "'array'"
      ],
      "text/markdown": [
       "'array'"
      ],
      "text/plain": [
       "[1] \"array\""
      ]
     },
     "metadata": {},
     "output_type": "display_data"
    }
   ],
   "source": [
    "# Array - While matrices are confined to 2 dimensions, arrays can be of any number of dimensions.\n",
    "\n",
    "?array # help for array and details\n",
    "j <- array(c(\"R\", \"Programming\", \"Session\"), dim = c(2, 5, 4))\n",
    "j"
   ]
  },
  {
   "cell_type": "code",
   "execution_count": 43,
   "id": "aa3d01dc",
   "metadata": {},
   "outputs": [
    {
     "data": {
      "text/html": [
       "'array'"
      ],
      "text/latex": [
       "'array'"
      ],
      "text/markdown": [
       "'array'"
      ],
      "text/plain": [
       "[1] \"array\""
      ]
     },
     "metadata": {},
     "output_type": "display_data"
    }
   ],
   "source": [
    "class(j)"
   ]
  },
  {
   "cell_type": "code",
   "execution_count": 44,
   "id": "6c94c6c0",
   "metadata": {},
   "outputs": [
    {
     "data": {
      "text/html": [
       "<table>\n",
       "<tbody>\n",
       "\t<tr><td>R          </td><td>Session    </td><td>Programming</td><td>R          </td><td>Session    </td></tr>\n",
       "\t<tr><td>Programming</td><td>R          </td><td>Session    </td><td>Programming</td><td>R          </td></tr>\n",
       "</tbody>\n",
       "</table>\n"
      ],
      "text/latex": [
       "\\begin{tabular}{lllll}\n",
       "\t R           & Session     & Programming & R           & Session    \\\\\n",
       "\t Programming & R           & Session     & Programming & R          \\\\\n",
       "\\end{tabular}\n"
      ],
      "text/markdown": [
       "\n",
       "| R           | Session     | Programming | R           | Session     |\n",
       "| Programming | R           | Session     | Programming | R           |\n",
       "\n"
      ],
      "text/plain": [
       "     [,1]        [,2]    [,3]        [,4]        [,5]   \n",
       "[1,] R           Session Programming R           Session\n",
       "[2,] Programming R       Session     Programming R      "
      ]
     },
     "metadata": {},
     "output_type": "display_data"
    },
    {
     "data": {
      "text/html": [
       "'R'"
      ],
      "text/latex": [
       "'R'"
      ],
      "text/markdown": [
       "'R'"
      ],
      "text/plain": [
       "[1] \"R\""
      ]
     },
     "metadata": {},
     "output_type": "display_data"
    }
   ],
   "source": [
    "# Accessing an array\n",
    "j[,,4] # 4th array \n",
    "# Accessing individual element from an array\n",
    "j[2,5,4] # 2nd row, 5th column, 4th array "
   ]
  },
  {
   "cell_type": "code",
   "execution_count": 46,
   "id": "0e2f153e",
   "metadata": {},
   "outputs": [
    {
     "data": {
      "text/html": [
       "'character'"
      ],
      "text/latex": [
       "'character'"
      ],
      "text/markdown": [
       "'character'"
      ],
      "text/plain": [
       "[1] \"character\""
      ]
     },
     "metadata": {},
     "output_type": "display_data"
    },
    {
     "data": {
      "text/html": [
       "'factor'"
      ],
      "text/latex": [
       "'factor'"
      ],
      "text/markdown": [
       "'factor'"
      ],
      "text/plain": [
       "[1] \"factor\""
      ]
     },
     "metadata": {},
     "output_type": "display_data"
    },
    {
     "data": {
      "text/html": [
       "<ol class=list-inline>\n",
       "\t<li>red</li>\n",
       "\t<li>green</li>\n",
       "\t<li>blue</li>\n",
       "\t<li>blue</li>\n",
       "\t<li>red</li>\n",
       "\t<li>red</li>\n",
       "</ol>\n",
       "\n",
       "<details>\n",
       "\t<summary style=display:list-item;cursor:pointer>\n",
       "\t\t<strong>Levels</strong>:\n",
       "\t</summary>\n",
       "\t<ol class=list-inline>\n",
       "\t\t<li>'blue'</li>\n",
       "\t\t<li>'green'</li>\n",
       "\t\t<li>'red'</li>\n",
       "\t</ol>\n",
       "</details>"
      ],
      "text/latex": [
       "\\begin{enumerate*}\n",
       "\\item red\n",
       "\\item green\n",
       "\\item blue\n",
       "\\item blue\n",
       "\\item red\n",
       "\\item red\n",
       "\\end{enumerate*}\n",
       "\n",
       "\\emph{Levels}: \\begin{enumerate*}\n",
       "\\item 'blue'\n",
       "\\item 'green'\n",
       "\\item 'red'\n",
       "\\end{enumerate*}\n"
      ],
      "text/markdown": [
       "1. red\n",
       "2. green\n",
       "3. blue\n",
       "4. blue\n",
       "5. red\n",
       "6. red\n",
       "\n",
       "\n",
       "\n",
       "**Levels**: 1. 'blue'\n",
       "2. 'green'\n",
       "3. 'red'\n",
       "\n",
       "\n"
      ],
      "text/plain": [
       "[1] red   green blue  blue  red   red  \n",
       "Levels: blue green red"
      ]
     },
     "metadata": {},
     "output_type": "display_data"
    }
   ],
   "source": [
    "# Factor - variable which can take certain values(levels) and not any\n",
    "k <- c(\"red\", \"green\", \"blue\", \"blue\", \"red\", \"red\")\n",
    "class(k)\n",
    "factor_k <- factor(k)\n",
    "class(factor_k)\n",
    "factor_k"
   ]
  },
  {
   "cell_type": "code",
   "execution_count": 47,
   "id": "1511efc2",
   "metadata": {},
   "outputs": [
    {
     "data": {
      "text/html": [
       "<ol class=list-inline>\n",
       "\t<li>red</li>\n",
       "\t<li>green</li>\n",
       "\t<li>blue</li>\n",
       "\t<li>blue</li>\n",
       "\t<li>red</li>\n",
       "\t<li>red</li>\n",
       "</ol>\n",
       "\n",
       "<details>\n",
       "\t<summary style=display:list-item;cursor:pointer>\n",
       "\t\t<strong>Levels</strong>:\n",
       "\t</summary>\n",
       "\t<ol class=list-inline>\n",
       "\t\t<li>'blue'</li>\n",
       "\t\t<li>'green'</li>\n",
       "\t\t<li>'red'</li>\n",
       "\t</ol>\n",
       "</details>"
      ],
      "text/latex": [
       "\\begin{enumerate*}\n",
       "\\item red\n",
       "\\item green\n",
       "\\item blue\n",
       "\\item blue\n",
       "\\item red\n",
       "\\item red\n",
       "\\end{enumerate*}\n",
       "\n",
       "\\emph{Levels}: \\begin{enumerate*}\n",
       "\\item 'blue'\n",
       "\\item 'green'\n",
       "\\item 'red'\n",
       "\\end{enumerate*}\n"
      ],
      "text/markdown": [
       "1. red\n",
       "2. green\n",
       "3. blue\n",
       "4. blue\n",
       "5. red\n",
       "6. red\n",
       "\n",
       "\n",
       "\n",
       "**Levels**: 1. 'blue'\n",
       "2. 'green'\n",
       "3. 'red'\n",
       "\n",
       "\n"
      ],
      "text/plain": [
       "[1] red   green blue  blue  red   red  \n",
       "Levels: blue green red"
      ]
     },
     "metadata": {},
     "output_type": "display_data"
    }
   ],
   "source": [
    "factor_k"
   ]
  },
  {
   "cell_type": "code",
   "execution_count": 48,
   "id": "75d29694",
   "metadata": {},
   "outputs": [
    {
     "data": {
      "text/html": [
       "<ol class=list-inline>\n",
       "\t<li>1</li>\n",
       "\t<li>2</li>\n",
       "\t<li>3</li>\n",
       "\t<li>4</li>\n",
       "\t<li>4</li>\n",
       "\t<li>5</li>\n",
       "\t<li>3</li>\n",
       "\t<li>2</li>\n",
       "\t<li>5.1</li>\n",
       "</ol>\n"
      ],
      "text/latex": [
       "\\begin{enumerate*}\n",
       "\\item 1\n",
       "\\item 2\n",
       "\\item 3\n",
       "\\item 4\n",
       "\\item 4\n",
       "\\item 5\n",
       "\\item 3\n",
       "\\item 2\n",
       "\\item 5.1\n",
       "\\end{enumerate*}\n"
      ],
      "text/markdown": [
       "1. 1\n",
       "2. 2\n",
       "3. 3\n",
       "4. 4\n",
       "5. 4\n",
       "6. 5\n",
       "7. 3\n",
       "8. 2\n",
       "9. 5.1\n",
       "\n",
       "\n"
      ],
      "text/plain": [
       "[1] 1.0 2.0 3.0 4.0 4.0 5.0 3.0 2.0 5.1"
      ]
     },
     "metadata": {},
     "output_type": "display_data"
    },
    {
     "data": {
      "text/html": [
       "'numeric'"
      ],
      "text/latex": [
       "'numeric'"
      ],
      "text/markdown": [
       "'numeric'"
      ],
      "text/plain": [
       "[1] \"numeric\""
      ]
     },
     "metadata": {},
     "output_type": "display_data"
    },
    {
     "data": {
      "text/html": [
       "'factor'"
      ],
      "text/latex": [
       "'factor'"
      ],
      "text/markdown": [
       "'factor'"
      ],
      "text/plain": [
       "[1] \"factor\""
      ]
     },
     "metadata": {},
     "output_type": "display_data"
    },
    {
     "data": {
      "text/html": [
       "<ol class=list-inline>\n",
       "\t<li>1</li>\n",
       "\t<li>2</li>\n",
       "\t<li>3</li>\n",
       "\t<li>4</li>\n",
       "\t<li>4</li>\n",
       "\t<li>5</li>\n",
       "\t<li>3</li>\n",
       "\t<li>2</li>\n",
       "\t<li>5.1</li>\n",
       "</ol>\n",
       "\n",
       "<details>\n",
       "\t<summary style=display:list-item;cursor:pointer>\n",
       "\t\t<strong>Levels</strong>:\n",
       "\t</summary>\n",
       "\t<ol class=list-inline>\n",
       "\t\t<li>'1'</li>\n",
       "\t\t<li>'2'</li>\n",
       "\t\t<li>'3'</li>\n",
       "\t\t<li>'4'</li>\n",
       "\t\t<li>'5'</li>\n",
       "\t\t<li>'5.1'</li>\n",
       "\t</ol>\n",
       "</details>"
      ],
      "text/latex": [
       "\\begin{enumerate*}\n",
       "\\item 1\n",
       "\\item 2\n",
       "\\item 3\n",
       "\\item 4\n",
       "\\item 4\n",
       "\\item 5\n",
       "\\item 3\n",
       "\\item 2\n",
       "\\item 5.1\n",
       "\\end{enumerate*}\n",
       "\n",
       "\\emph{Levels}: \\begin{enumerate*}\n",
       "\\item '1'\n",
       "\\item '2'\n",
       "\\item '3'\n",
       "\\item '4'\n",
       "\\item '5'\n",
       "\\item '5.1'\n",
       "\\end{enumerate*}\n"
      ],
      "text/markdown": [
       "1. 1\n",
       "2. 2\n",
       "3. 3\n",
       "4. 4\n",
       "5. 4\n",
       "6. 5\n",
       "7. 3\n",
       "8. 2\n",
       "9. 5.1\n",
       "\n",
       "\n",
       "\n",
       "**Levels**: 1. '1'\n",
       "2. '2'\n",
       "3. '3'\n",
       "4. '4'\n",
       "5. '5'\n",
       "6. '5.1'\n",
       "\n",
       "\n"
      ],
      "text/plain": [
       "[1] 1   2   3   4   4   5   3   2   5.1\n",
       "Levels: 1 2 3 4 5 5.1"
      ]
     },
     "metadata": {},
     "output_type": "display_data"
    }
   ],
   "source": [
    "l <- c(1, 2, 3, 4, 4, 5, 3, 2, 5.1)\n",
    "l\n",
    "class(l)\n",
    "factor_l <- factor(l)\n",
    "class(factor_l)\n",
    "factor_l"
   ]
  },
  {
   "cell_type": "code",
   "execution_count": 49,
   "id": "c0848958",
   "metadata": {},
   "outputs": [
    {
     "data": {
      "text/html": [
       "'data.frame'"
      ],
      "text/latex": [
       "'data.frame'"
      ],
      "text/markdown": [
       "'data.frame'"
      ],
      "text/plain": [
       "[1] \"data.frame\""
      ]
     },
     "metadata": {},
     "output_type": "display_data"
    },
    {
     "data": {
      "text/html": [
       "<table>\n",
       "<thead><tr><th scope=col>gender</th><th scope=col>height</th><th scope=col>weight</th><th scope=col>Age</th></tr></thead>\n",
       "<tbody>\n",
       "\t<tr><td>Male  </td><td>152.0 </td><td>81    </td><td>42    </td></tr>\n",
       "\t<tr><td>Male  </td><td>171.5 </td><td>93    </td><td>38    </td></tr>\n",
       "\t<tr><td>Female</td><td>165.0 </td><td>78    </td><td>26    </td></tr>\n",
       "</tbody>\n",
       "</table>\n"
      ],
      "text/latex": [
       "\\begin{tabular}{r|llll}\n",
       " gender & height & weight & Age\\\\\n",
       "\\hline\n",
       "\t Male   & 152.0  & 81     & 42    \\\\\n",
       "\t Male   & 171.5  & 93     & 38    \\\\\n",
       "\t Female & 165.0  & 78     & 26    \\\\\n",
       "\\end{tabular}\n"
      ],
      "text/markdown": [
       "\n",
       "| gender | height | weight | Age |\n",
       "|---|---|---|---|\n",
       "| Male   | 152.0  | 81     | 42     |\n",
       "| Male   | 171.5  | 93     | 38     |\n",
       "| Female | 165.0  | 78     | 26     |\n",
       "\n"
      ],
      "text/plain": [
       "  gender height weight Age\n",
       "1 Male   152.0  81     42 \n",
       "2 Male   171.5  93     38 \n",
       "3 Female 165.0  78     26 "
      ]
     },
     "metadata": {},
     "output_type": "display_data"
    }
   ],
   "source": [
    "# Data Frame\n",
    "# Unlike a matrix in data frame each column can contain different modes of data\n",
    "# It is a list of vectors of equal length\n",
    "m <- data.frame(gender = c(\"Male\", \"Male\",\"Female\"), height = c(152, 171.5, 165), \n",
    "                weight = c(81,93, 78), Age = c(42,38,26))\n",
    "class(m)\n",
    "m"
   ]
  },
  {
   "cell_type": "code",
   "execution_count": 53,
   "id": "47079b6b",
   "metadata": {},
   "outputs": [
    {
     "data": {
      "text/html": [
       "<table>\n",
       "<thead><tr><th scope=col>gender</th></tr></thead>\n",
       "<tbody>\n",
       "\t<tr><td>Male  </td></tr>\n",
       "\t<tr><td>Male  </td></tr>\n",
       "\t<tr><td>Female</td></tr>\n",
       "</tbody>\n",
       "</table>\n"
      ],
      "text/latex": [
       "\\begin{tabular}{r|l}\n",
       " gender\\\\\n",
       "\\hline\n",
       "\t Male  \\\\\n",
       "\t Male  \\\\\n",
       "\t Female\\\\\n",
       "\\end{tabular}\n"
      ],
      "text/markdown": [
       "\n",
       "| gender |\n",
       "|---|\n",
       "| Male   |\n",
       "| Male   |\n",
       "| Female |\n",
       "\n"
      ],
      "text/plain": [
       "  gender\n",
       "1 Male  \n",
       "2 Male  \n",
       "3 Female"
      ]
     },
     "metadata": {},
     "output_type": "display_data"
    }
   ],
   "source": [
    "# Accessing columns/features of a data frame\n",
    "m[1]"
   ]
  },
  {
   "cell_type": "code",
   "execution_count": 54,
   "id": "be9c3e17",
   "metadata": {},
   "outputs": [
    {
     "data": {
      "text/html": [
       "'data.frame'"
      ],
      "text/latex": [
       "'data.frame'"
      ],
      "text/markdown": [
       "'data.frame'"
      ],
      "text/plain": [
       "[1] \"data.frame\""
      ]
     },
     "metadata": {},
     "output_type": "display_data"
    }
   ],
   "source": [
    "class(m[1])"
   ]
  },
  {
   "cell_type": "code",
   "execution_count": 55,
   "id": "fc239636",
   "metadata": {},
   "outputs": [
    {
     "data": {
      "text/html": [
       "<ol class=list-inline>\n",
       "\t<li>Male</li>\n",
       "\t<li>Male</li>\n",
       "\t<li>Female</li>\n",
       "</ol>\n",
       "\n",
       "<details>\n",
       "\t<summary style=display:list-item;cursor:pointer>\n",
       "\t\t<strong>Levels</strong>:\n",
       "\t</summary>\n",
       "\t<ol class=list-inline>\n",
       "\t\t<li>'Female'</li>\n",
       "\t\t<li>'Male'</li>\n",
       "\t</ol>\n",
       "</details>"
      ],
      "text/latex": [
       "\\begin{enumerate*}\n",
       "\\item Male\n",
       "\\item Male\n",
       "\\item Female\n",
       "\\end{enumerate*}\n",
       "\n",
       "\\emph{Levels}: \\begin{enumerate*}\n",
       "\\item 'Female'\n",
       "\\item 'Male'\n",
       "\\end{enumerate*}\n"
      ],
      "text/markdown": [
       "1. Male\n",
       "2. Male\n",
       "3. Female\n",
       "\n",
       "\n",
       "\n",
       "**Levels**: 1. 'Female'\n",
       "2. 'Male'\n",
       "\n",
       "\n"
      ],
      "text/plain": [
       "[1] Male   Male   Female\n",
       "Levels: Female Male"
      ]
     },
     "metadata": {},
     "output_type": "display_data"
    },
    {
     "data": {
      "text/html": [
       "'factor'"
      ],
      "text/latex": [
       "'factor'"
      ],
      "text/markdown": [
       "'factor'"
      ],
      "text/plain": [
       "[1] \"factor\""
      ]
     },
     "metadata": {},
     "output_type": "display_data"
    },
    {
     "data": {
      "text/html": [
       "Female\n",
       "<details>\n",
       "\t<summary style=display:list-item;cursor:pointer>\n",
       "\t\t<strong>Levels</strong>:\n",
       "\t</summary>\n",
       "\t<ol class=list-inline>\n",
       "\t\t<li>'Female'</li>\n",
       "\t\t<li>'Male'</li>\n",
       "\t</ol>\n",
       "</details>"
      ],
      "text/latex": [
       "Female\n",
       "\\emph{Levels}: \\begin{enumerate*}\n",
       "\\item 'Female'\n",
       "\\item 'Male'\n",
       "\\end{enumerate*}\n"
      ],
      "text/markdown": [
       "Female\n",
       "**Levels**: 1. 'Female'\n",
       "2. 'Male'\n",
       "\n",
       "\n"
      ],
      "text/plain": [
       "[1] Female\n",
       "Levels: Female Male"
      ]
     },
     "metadata": {},
     "output_type": "display_data"
    },
    {
     "data": {
      "text/html": [
       "'factor'"
      ],
      "text/latex": [
       "'factor'"
      ],
      "text/markdown": [
       "'factor'"
      ],
      "text/plain": [
       "[1] \"factor\""
      ]
     },
     "metadata": {},
     "output_type": "display_data"
    }
   ],
   "source": [
    "# Accessing elements of a data frame\n",
    "m$gender\n",
    "class(m$gender)\n",
    "m$gender[3]\n",
    "class(m$gender[3])"
   ]
  },
  {
   "cell_type": "code",
   "execution_count": 56,
   "id": "e114a370",
   "metadata": {},
   "outputs": [
    {
     "data": {
      "text/html": [
       "<ol class=list-inline>\n",
       "\t<li>Male</li>\n",
       "\t<li>Male</li>\n",
       "\t<li>Female</li>\n",
       "</ol>\n",
       "\n",
       "<details>\n",
       "\t<summary style=display:list-item;cursor:pointer>\n",
       "\t\t<strong>Levels</strong>:\n",
       "\t</summary>\n",
       "\t<ol class=list-inline>\n",
       "\t\t<li>'Female'</li>\n",
       "\t\t<li>'Male'</li>\n",
       "\t</ol>\n",
       "</details>"
      ],
      "text/latex": [
       "\\begin{enumerate*}\n",
       "\\item Male\n",
       "\\item Male\n",
       "\\item Female\n",
       "\\end{enumerate*}\n",
       "\n",
       "\\emph{Levels}: \\begin{enumerate*}\n",
       "\\item 'Female'\n",
       "\\item 'Male'\n",
       "\\end{enumerate*}\n"
      ],
      "text/markdown": [
       "1. Male\n",
       "2. Male\n",
       "3. Female\n",
       "\n",
       "\n",
       "\n",
       "**Levels**: 1. 'Female'\n",
       "2. 'Male'\n",
       "\n",
       "\n"
      ],
      "text/plain": [
       "[1] Male   Male   Female\n",
       "Levels: Female Male"
      ]
     },
     "metadata": {},
     "output_type": "display_data"
    }
   ],
   "source": [
    "m$gender\n"
   ]
  },
  {
   "cell_type": "code",
   "execution_count": 57,
   "id": "60fe3b8a",
   "metadata": {},
   "outputs": [
    {
     "data": {
      "text/html": [
       "Female\n",
       "<details>\n",
       "\t<summary style=display:list-item;cursor:pointer>\n",
       "\t\t<strong>Levels</strong>:\n",
       "\t</summary>\n",
       "\t<ol class=list-inline>\n",
       "\t\t<li>'Female'</li>\n",
       "\t\t<li>'Male'</li>\n",
       "\t</ol>\n",
       "</details>"
      ],
      "text/latex": [
       "Female\n",
       "\\emph{Levels}: \\begin{enumerate*}\n",
       "\\item 'Female'\n",
       "\\item 'Male'\n",
       "\\end{enumerate*}\n"
      ],
      "text/markdown": [
       "Female\n",
       "**Levels**: 1. 'Female'\n",
       "2. 'Male'\n",
       "\n",
       "\n"
      ],
      "text/plain": [
       "[1] Female\n",
       "Levels: Female Male"
      ]
     },
     "metadata": {},
     "output_type": "display_data"
    }
   ],
   "source": [
    "m$gender[3]\n"
   ]
  },
  {
   "cell_type": "code",
   "execution_count": 58,
   "id": "be13bcba",
   "metadata": {},
   "outputs": [
    {
     "data": {
      "text/html": [
       "'factor'"
      ],
      "text/latex": [
       "'factor'"
      ],
      "text/markdown": [
       "'factor'"
      ],
      "text/plain": [
       "[1] \"factor\""
      ]
     },
     "metadata": {},
     "output_type": "display_data"
    }
   ],
   "source": [
    "class(m$gender[3])"
   ]
  },
  {
   "cell_type": "code",
   "execution_count": 59,
   "id": "863090c7",
   "metadata": {},
   "outputs": [
    {
     "data": {
      "text/html": [
       "'factor'"
      ],
      "text/latex": [
       "'factor'"
      ],
      "text/markdown": [
       "'factor'"
      ],
      "text/plain": [
       "[1] \"factor\""
      ]
     },
     "metadata": {},
     "output_type": "display_data"
    }
   ],
   "source": [
    "class(m$gender)"
   ]
  },
  {
   "cell_type": "code",
   "execution_count": 60,
   "id": "9a6f8d57",
   "metadata": {},
   "outputs": [
    {
     "data": {
      "text/html": [
       "<ol class=list-inline>\n",
       "\t<li>152</li>\n",
       "\t<li>171.5</li>\n",
       "\t<li>165</li>\n",
       "</ol>\n"
      ],
      "text/latex": [
       "\\begin{enumerate*}\n",
       "\\item 152\n",
       "\\item 171.5\n",
       "\\item 165\n",
       "\\end{enumerate*}\n"
      ],
      "text/markdown": [
       "1. 152\n",
       "2. 171.5\n",
       "3. 165\n",
       "\n",
       "\n"
      ],
      "text/plain": [
       "[1] 152.0 171.5 165.0"
      ]
     },
     "metadata": {},
     "output_type": "display_data"
    },
    {
     "data": {
      "text/html": [
       "'numeric'"
      ],
      "text/latex": [
       "'numeric'"
      ],
      "text/markdown": [
       "'numeric'"
      ],
      "text/plain": [
       "[1] \"numeric\""
      ]
     },
     "metadata": {},
     "output_type": "display_data"
    },
    {
     "data": {
      "text/html": [
       "171.5"
      ],
      "text/latex": [
       "171.5"
      ],
      "text/markdown": [
       "171.5"
      ],
      "text/plain": [
       "[1] 171.5"
      ]
     },
     "metadata": {},
     "output_type": "display_data"
    }
   ],
   "source": [
    "m[[2]]\n",
    "class(m[[2]])\n",
    "m[[2]][2]"
   ]
  },
  {
   "cell_type": "code",
   "execution_count": 61,
   "id": "bb4037f6",
   "metadata": {},
   "outputs": [
    {
     "data": {
      "text/html": [
       "<ol class=list-inline>\n",
       "\t<li>152</li>\n",
       "\t<li>171.5</li>\n",
       "</ol>\n"
      ],
      "text/latex": [
       "\\begin{enumerate*}\n",
       "\\item 152\n",
       "\\item 171.5\n",
       "\\end{enumerate*}\n"
      ],
      "text/markdown": [
       "1. 152\n",
       "2. 171.5\n",
       "\n",
       "\n"
      ],
      "text/plain": [
       "[1] 152.0 171.5"
      ]
     },
     "metadata": {},
     "output_type": "display_data"
    }
   ],
   "source": [
    "m[c(1,2), 2] # accessing multiple items from a data frame"
   ]
  },
  {
   "cell_type": "markdown",
   "id": "19cf739f",
   "metadata": {},
   "source": [
    "#### End of Data Types"
   ]
  },
  {
   "cell_type": "markdown",
   "id": "06c88bcc",
   "metadata": {},
   "source": [
    "##### Variables or Objects in R"
   ]
  },
  {
   "cell_type": "code",
   "execution_count": 62,
   "id": "a939b731",
   "metadata": {},
   "outputs": [],
   "source": [
    "# valid & invalid variable types\n",
    "# Valid\n",
    "var_name2. <- 1 # Has letters, numbers, dot and underscore\n",
    ".var_name <- 2 # Can start with a dot(.) but the dot(.)should not be followed by a number\n",
    "var.name <- 3"
   ]
  },
  {
   "cell_type": "code",
   "execution_count": 63,
   "id": "023fbd48",
   "metadata": {},
   "outputs": [
    {
     "ename": "ERROR",
     "evalue": "Error in parse(text = x, srcfile = src): <text>:2:9: unexpected input\n1: # Invalid \n2: var_name% <- 4 # Only dot(.) and underscore allowed \n           ^\n",
     "output_type": "error",
     "traceback": [
      "Error in parse(text = x, srcfile = src): <text>:2:9: unexpected input\n1: # Invalid \n2: var_name% <- 4 # Only dot(.) and underscore allowed \n           ^\nTraceback:\n"
     ]
    }
   ],
   "source": [
    "# Invalid \n",
    "var_name% <- 4 # Only dot(.) and underscore allowed \n",
    "2var_name <- 5 # cannot start with a number\n",
    ".2var_name <- 6 # dot followed by a number makes it invalid\n",
    "_var_name <- 7 # cannot start with _"
   ]
  },
  {
   "cell_type": "code",
   "execution_count": 64,
   "id": "cad19b18",
   "metadata": {},
   "outputs": [],
   "source": [
    "# Variable Assignment\n",
    "# The variables can be assigned values using leftward, rightward and equal to operator"
   ]
  },
  {
   "cell_type": "code",
   "execution_count": 65,
   "id": "b72cbbea",
   "metadata": {},
   "outputs": [],
   "source": [
    "# Assignment using leftward operator\n",
    "var.1 <- c(\"R\",\"Programming\") \n",
    "# Assignment using rightward operator\n",
    "c(TRUE,1) -> var.2   \n",
    "# Assignment using equal operator\n",
    "var.3 = c(0,1,2,3)"
   ]
  },
  {
   "cell_type": "code",
   "execution_count": 67,
   "id": "23ab1ead",
   "metadata": {},
   "outputs": [
    {
     "data": {
      "text/html": [
       "<ol class=list-inline>\n",
       "\t<li>'a'</li>\n",
       "\t<li>'a1'</li>\n",
       "\t<li>'b'</li>\n",
       "\t<li>'c'</li>\n",
       "\t<li>'d'</li>\n",
       "\t<li>'df'</li>\n",
       "\t<li>'e'</li>\n",
       "\t<li>'f'</li>\n",
       "\t<li>'factor_k'</li>\n",
       "\t<li>'factor_l'</li>\n",
       "\t<li>'g'</li>\n",
       "\t<li>'h'</li>\n",
       "\t<li>'i'</li>\n",
       "\t<li>'j'</li>\n",
       "\t<li>'k'</li>\n",
       "\t<li>'l'</li>\n",
       "\t<li>'m'</li>\n",
       "\t<li>'var.1'</li>\n",
       "\t<li>'var.2'</li>\n",
       "\t<li>'var.3'</li>\n",
       "\t<li>'var.name'</li>\n",
       "\t<li>'var_name2.'</li>\n",
       "</ol>\n"
      ],
      "text/latex": [
       "\\begin{enumerate*}\n",
       "\\item 'a'\n",
       "\\item 'a1'\n",
       "\\item 'b'\n",
       "\\item 'c'\n",
       "\\item 'd'\n",
       "\\item 'df'\n",
       "\\item 'e'\n",
       "\\item 'f'\n",
       "\\item 'factor\\_k'\n",
       "\\item 'factor\\_l'\n",
       "\\item 'g'\n",
       "\\item 'h'\n",
       "\\item 'i'\n",
       "\\item 'j'\n",
       "\\item 'k'\n",
       "\\item 'l'\n",
       "\\item 'm'\n",
       "\\item 'var.1'\n",
       "\\item 'var.2'\n",
       "\\item 'var.3'\n",
       "\\item 'var.name'\n",
       "\\item 'var\\_name2.'\n",
       "\\end{enumerate*}\n"
      ],
      "text/markdown": [
       "1. 'a'\n",
       "2. 'a1'\n",
       "3. 'b'\n",
       "4. 'c'\n",
       "5. 'd'\n",
       "6. 'df'\n",
       "7. 'e'\n",
       "8. 'f'\n",
       "9. 'factor_k'\n",
       "10. 'factor_l'\n",
       "11. 'g'\n",
       "12. 'h'\n",
       "13. 'i'\n",
       "14. 'j'\n",
       "15. 'k'\n",
       "16. 'l'\n",
       "17. 'm'\n",
       "18. 'var.1'\n",
       "19. 'var.2'\n",
       "20. 'var.3'\n",
       "21. 'var.name'\n",
       "22. 'var_name2.'\n",
       "\n",
       "\n"
      ],
      "text/plain": [
       " [1] \"a\"          \"a1\"         \"b\"          \"c\"          \"d\"         \n",
       " [6] \"df\"         \"e\"          \"f\"          \"factor_k\"   \"factor_l\"  \n",
       "[11] \"g\"          \"h\"          \"i\"          \"j\"          \"k\"         \n",
       "[16] \"l\"          \"m\"          \"var.1\"      \"var.2\"      \"var.3\"     \n",
       "[21] \"var.name\"   \"var_name2.\""
      ]
     },
     "metadata": {},
     "output_type": "display_data"
    }
   ],
   "source": [
    "# Finding Variables in Environment\n",
    "ls()"
   ]
  },
  {
   "cell_type": "code",
   "execution_count": 75,
   "id": "41413148",
   "metadata": {},
   "outputs": [
    {
     "data": {
      "text/html": [],
      "text/latex": [],
      "text/markdown": [],
      "text/plain": [
       "character(0)"
      ]
     },
     "metadata": {},
     "output_type": "display_data"
    }
   ],
   "source": [
    "# ls(pattern = \"var\") # displays variable with var text in it"
   ]
  },
  {
   "cell_type": "code",
   "execution_count": 69,
   "id": "35f69065",
   "metadata": {},
   "outputs": [
    {
     "data": {
      "text/html": [
       "<ol class=list-inline>\n",
       "\t<li>'.pbd_env'</li>\n",
       "\t<li>'.var_name'</li>\n",
       "\t<li>'a'</li>\n",
       "\t<li>'a1'</li>\n",
       "\t<li>'b'</li>\n",
       "\t<li>'c'</li>\n",
       "\t<li>'d'</li>\n",
       "\t<li>'df'</li>\n",
       "\t<li>'e'</li>\n",
       "\t<li>'f'</li>\n",
       "\t<li>'factor_k'</li>\n",
       "\t<li>'factor_l'</li>\n",
       "\t<li>'g'</li>\n",
       "\t<li>'h'</li>\n",
       "\t<li>'i'</li>\n",
       "\t<li>'j'</li>\n",
       "\t<li>'k'</li>\n",
       "\t<li>'l'</li>\n",
       "\t<li>'m'</li>\n",
       "\t<li>'var.1'</li>\n",
       "\t<li>'var.2'</li>\n",
       "\t<li>'var.3'</li>\n",
       "\t<li>'var.name'</li>\n",
       "\t<li>'var_name2.'</li>\n",
       "</ol>\n"
      ],
      "text/latex": [
       "\\begin{enumerate*}\n",
       "\\item '.pbd\\_env'\n",
       "\\item '.var\\_name'\n",
       "\\item 'a'\n",
       "\\item 'a1'\n",
       "\\item 'b'\n",
       "\\item 'c'\n",
       "\\item 'd'\n",
       "\\item 'df'\n",
       "\\item 'e'\n",
       "\\item 'f'\n",
       "\\item 'factor\\_k'\n",
       "\\item 'factor\\_l'\n",
       "\\item 'g'\n",
       "\\item 'h'\n",
       "\\item 'i'\n",
       "\\item 'j'\n",
       "\\item 'k'\n",
       "\\item 'l'\n",
       "\\item 'm'\n",
       "\\item 'var.1'\n",
       "\\item 'var.2'\n",
       "\\item 'var.3'\n",
       "\\item 'var.name'\n",
       "\\item 'var\\_name2.'\n",
       "\\end{enumerate*}\n"
      ],
      "text/markdown": [
       "1. '.pbd_env'\n",
       "2. '.var_name'\n",
       "3. 'a'\n",
       "4. 'a1'\n",
       "5. 'b'\n",
       "6. 'c'\n",
       "7. 'd'\n",
       "8. 'df'\n",
       "9. 'e'\n",
       "10. 'f'\n",
       "11. 'factor_k'\n",
       "12. 'factor_l'\n",
       "13. 'g'\n",
       "14. 'h'\n",
       "15. 'i'\n",
       "16. 'j'\n",
       "17. 'k'\n",
       "18. 'l'\n",
       "19. 'm'\n",
       "20. 'var.1'\n",
       "21. 'var.2'\n",
       "22. 'var.3'\n",
       "23. 'var.name'\n",
       "24. 'var_name2.'\n",
       "\n",
       "\n"
      ],
      "text/plain": [
       " [1] \".pbd_env\"   \".var_name\"  \"a\"          \"a1\"         \"b\"         \n",
       " [6] \"c\"          \"d\"          \"df\"         \"e\"          \"f\"         \n",
       "[11] \"factor_k\"   \"factor_l\"   \"g\"          \"h\"          \"i\"         \n",
       "[16] \"j\"          \"k\"          \"l\"          \"m\"          \"var.1\"     \n",
       "[21] \"var.2\"      \"var.3\"      \"var.name\"   \"var_name2.\""
      ]
     },
     "metadata": {},
     "output_type": "display_data"
    }
   ],
   "source": [
    "ls(all.name = TRUE) # also displays hidden(starting with .) variables"
   ]
  },
  {
   "cell_type": "code",
   "execution_count": 73,
   "id": "ee539e02",
   "metadata": {},
   "outputs": [
    {
     "data": {
      "text/html": [
       "'var1'"
      ],
      "text/latex": [
       "'var1'"
      ],
      "text/markdown": [
       "'var1'"
      ],
      "text/plain": [
       "[1] \"var1\""
      ]
     },
     "metadata": {},
     "output_type": "display_data"
    }
   ],
   "source": [
    "# Deleting variables \n",
    "var1 <- 1\n",
    "ls(pattern = \"var\")\n"
   ]
  },
  {
   "cell_type": "code",
   "execution_count": 74,
   "id": "6201c2f4",
   "metadata": {},
   "outputs": [],
   "source": [
    "rm(list = ls(pattern = \"var\")) # will remove all variables with var text in it"
   ]
  },
  {
   "cell_type": "markdown",
   "id": "fac5614a",
   "metadata": {},
   "source": [
    "##### End of Variables"
   ]
  },
  {
   "cell_type": "markdown",
   "id": "3016d330",
   "metadata": {},
   "source": [
    "#### Operators in R\n"
   ]
  },
  {
   "cell_type": "code",
   "execution_count": 76,
   "id": "e865fb6b",
   "metadata": {},
   "outputs": [
    {
     "data": {
      "text/html": [
       "<ol class=list-inline>\n",
       "\t<li>5.9</li>\n",
       "\t<li>9.1</li>\n",
       "\t<li>21.1</li>\n",
       "</ol>\n"
      ],
      "text/latex": [
       "\\begin{enumerate*}\n",
       "\\item 5.9\n",
       "\\item 9.1\n",
       "\\item 21.1\n",
       "\\end{enumerate*}\n"
      ],
      "text/markdown": [
       "1. 5.9\n",
       "2. 9.1\n",
       "3. 21.1\n",
       "\n",
       "\n"
      ],
      "text/plain": [
       "[1]  5.9  9.1 21.1"
      ]
     },
     "metadata": {},
     "output_type": "display_data"
    }
   ],
   "source": [
    "# 5 = Arithmetic, Relational, Logical, Assignment, Miscellaneous \n",
    "\n",
    "# Arithmetic Operators\n",
    "n <- c(1, 2.4, 5)\n",
    "o <- c(3, 4.7, 9.1)\n",
    "p <- c(1.9, 2, 7)\n",
    "# 1. + addition\n",
    "n+o+p"
   ]
  },
  {
   "cell_type": "code",
   "execution_count": 77,
   "id": "3782d1ba",
   "metadata": {},
   "outputs": [
    {
     "data": {
      "text/html": [
       "<ol class=list-inline>\n",
       "\t<li>-2</li>\n",
       "\t<li>-2.3</li>\n",
       "\t<li>-4.1</li>\n",
       "</ol>\n"
      ],
      "text/latex": [
       "\\begin{enumerate*}\n",
       "\\item -2\n",
       "\\item -2.3\n",
       "\\item -4.1\n",
       "\\end{enumerate*}\n"
      ],
      "text/markdown": [
       "1. -2\n",
       "2. -2.3\n",
       "3. -4.1\n",
       "\n",
       "\n"
      ],
      "text/plain": [
       "[1] -2.0 -2.3 -4.1"
      ]
     },
     "metadata": {},
     "output_type": "display_data"
    },
    {
     "data": {
      "text/html": [
       "<ol class=list-inline>\n",
       "\t<li>-3.9</li>\n",
       "\t<li>-4.3</li>\n",
       "\t<li>-11.1</li>\n",
       "</ol>\n"
      ],
      "text/latex": [
       "\\begin{enumerate*}\n",
       "\\item -3.9\n",
       "\\item -4.3\n",
       "\\item -11.1\n",
       "\\end{enumerate*}\n"
      ],
      "text/markdown": [
       "1. -3.9\n",
       "2. -4.3\n",
       "3. -11.1\n",
       "\n",
       "\n"
      ],
      "text/plain": [
       "[1]  -3.9  -4.3 -11.1"
      ]
     },
     "metadata": {},
     "output_type": "display_data"
    }
   ],
   "source": [
    "# 2. - subtraction\n",
    "n-o\n",
    "n-o-p"
   ]
  },
  {
   "cell_type": "code",
   "execution_count": 78,
   "id": "87b70b8a",
   "metadata": {},
   "outputs": [
    {
     "data": {
      "text/html": [
       "<ol class=list-inline>\n",
       "\t<li>5.7</li>\n",
       "\t<li>22.56</li>\n",
       "\t<li>318.5</li>\n",
       "</ol>\n"
      ],
      "text/latex": [
       "\\begin{enumerate*}\n",
       "\\item 5.7\n",
       "\\item 22.56\n",
       "\\item 318.5\n",
       "\\end{enumerate*}\n"
      ],
      "text/markdown": [
       "1. 5.7\n",
       "2. 22.56\n",
       "3. 318.5\n",
       "\n",
       "\n"
      ],
      "text/plain": [
       "[1]   5.70  22.56 318.50"
      ]
     },
     "metadata": {},
     "output_type": "display_data"
    },
    {
     "data": {
      "text/html": [
       "<ol class=list-inline>\n",
       "\t<li>0.175438596491228</li>\n",
       "\t<li>0.25531914893617</li>\n",
       "\t<li>0.0784929356357928</li>\n",
       "</ol>\n"
      ],
      "text/latex": [
       "\\begin{enumerate*}\n",
       "\\item 0.175438596491228\n",
       "\\item 0.25531914893617\n",
       "\\item 0.0784929356357928\n",
       "\\end{enumerate*}\n"
      ],
      "text/markdown": [
       "1. 0.175438596491228\n",
       "2. 0.25531914893617\n",
       "3. 0.0784929356357928\n",
       "\n",
       "\n"
      ],
      "text/plain": [
       "[1] 0.17543860 0.25531915 0.07849294"
      ]
     },
     "metadata": {},
     "output_type": "display_data"
    }
   ],
   "source": [
    "# 3. * multiplication\n",
    "n*o*p\n",
    "\n",
    "# 4. / division\n",
    "n/o/p"
   ]
  },
  {
   "cell_type": "code",
   "execution_count": 79,
   "id": "d45d5e88",
   "metadata": {},
   "outputs": [
    {
     "data": {
      "text/html": [
       "<ol class=list-inline>\n",
       "\t<li>1</li>\n",
       "\t<li>2.4</li>\n",
       "\t<li>5</li>\n",
       "</ol>\n"
      ],
      "text/latex": [
       "\\begin{enumerate*}\n",
       "\\item 1\n",
       "\\item 2.4\n",
       "\\item 5\n",
       "\\end{enumerate*}\n"
      ],
      "text/markdown": [
       "1. 1\n",
       "2. 2.4\n",
       "3. 5\n",
       "\n",
       "\n"
      ],
      "text/plain": [
       "[1] 1.0 2.4 5.0"
      ]
     },
     "metadata": {},
     "output_type": "display_data"
    },
    {
     "data": {
      "text/html": [
       "<ol class=list-inline>\n",
       "\t<li>0</li>\n",
       "\t<li>0</li>\n",
       "\t<li>0</li>\n",
       "</ol>\n"
      ],
      "text/latex": [
       "\\begin{enumerate*}\n",
       "\\item 0\n",
       "\\item 0\n",
       "\\item 0\n",
       "\\end{enumerate*}\n"
      ],
      "text/markdown": [
       "1. 0\n",
       "2. 0\n",
       "3. 0\n",
       "\n",
       "\n"
      ],
      "text/plain": [
       "[1] 0 0 0"
      ]
     },
     "metadata": {},
     "output_type": "display_data"
    },
    {
     "data": {
      "text/html": [
       "<ol class=list-inline>\n",
       "\t<li>6.859</li>\n",
       "\t<li>25.9920766833995</li>\n",
       "\t<li>49022128.5112332</li>\n",
       "</ol>\n"
      ],
      "text/latex": [
       "\\begin{enumerate*}\n",
       "\\item 6.859\n",
       "\\item 25.9920766833995\n",
       "\\item 49022128.5112332\n",
       "\\end{enumerate*}\n"
      ],
      "text/markdown": [
       "1. 6.859\n",
       "2. 25.9920766833995\n",
       "3. 49022128.5112332\n",
       "\n",
       "\n"
      ],
      "text/plain": [
       "[1] 6.859000e+00 2.599208e+01 4.902213e+07"
      ]
     },
     "metadata": {},
     "output_type": "display_data"
    }
   ],
   "source": [
    "# 5. %% Give the remainder of the first vector with the second\n",
    "n%%o \n",
    "\n",
    "# 6. %/% The result of division of first vector with second (quotient)\n",
    "n%/%o \n",
    "\n",
    "# 7. ^ The first vector raised to the exponent of second vector\t\n",
    "p^o"
   ]
  },
  {
   "cell_type": "code",
   "execution_count": 80,
   "id": "01a71a50",
   "metadata": {},
   "outputs": [],
   "source": [
    "# Relational Operators - returns boolean values\n",
    "q <- c(1, 3, 4, 3, 2)\n",
    "r <- c(2, 4, 4, 5, 2)"
   ]
  },
  {
   "cell_type": "code",
   "execution_count": 81,
   "id": "1a465a50",
   "metadata": {},
   "outputs": [
    {
     "data": {
      "text/html": [
       "FALSE"
      ],
      "text/latex": [
       "FALSE"
      ],
      "text/markdown": [
       "FALSE"
      ],
      "text/plain": [
       "[1] FALSE"
      ]
     },
     "metadata": {},
     "output_type": "display_data"
    },
    {
     "data": {
      "text/html": [
       "<ol class=list-inline>\n",
       "\t<li>TRUE</li>\n",
       "\t<li>TRUE</li>\n",
       "\t<li>FALSE</li>\n",
       "\t<li>TRUE</li>\n",
       "\t<li>FALSE</li>\n",
       "</ol>\n"
      ],
      "text/latex": [
       "\\begin{enumerate*}\n",
       "\\item TRUE\n",
       "\\item TRUE\n",
       "\\item FALSE\n",
       "\\item TRUE\n",
       "\\item FALSE\n",
       "\\end{enumerate*}\n"
      ],
      "text/markdown": [
       "1. TRUE\n",
       "2. TRUE\n",
       "3. FALSE\n",
       "4. TRUE\n",
       "5. FALSE\n",
       "\n",
       "\n"
      ],
      "text/plain": [
       "[1]  TRUE  TRUE FALSE  TRUE FALSE"
      ]
     },
     "metadata": {},
     "output_type": "display_data"
    },
    {
     "data": {
      "text/html": [
       "<ol class=list-inline>\n",
       "\t<li>FALSE</li>\n",
       "\t<li>FALSE</li>\n",
       "\t<li>TRUE</li>\n",
       "\t<li>FALSE</li>\n",
       "\t<li>TRUE</li>\n",
       "</ol>\n"
      ],
      "text/latex": [
       "\\begin{enumerate*}\n",
       "\\item FALSE\n",
       "\\item FALSE\n",
       "\\item TRUE\n",
       "\\item FALSE\n",
       "\\item TRUE\n",
       "\\end{enumerate*}\n"
      ],
      "text/markdown": [
       "1. FALSE\n",
       "2. FALSE\n",
       "3. TRUE\n",
       "4. FALSE\n",
       "5. TRUE\n",
       "\n",
       "\n"
      ],
      "text/plain": [
       "[1] FALSE FALSE  TRUE FALSE  TRUE"
      ]
     },
     "metadata": {},
     "output_type": "display_data"
    },
    {
     "data": {
      "text/html": [
       "<ol class=list-inline>\n",
       "\t<li>FALSE</li>\n",
       "\t<li>FALSE</li>\n",
       "\t<li>TRUE</li>\n",
       "\t<li>FALSE</li>\n",
       "\t<li>TRUE</li>\n",
       "</ol>\n"
      ],
      "text/latex": [
       "\\begin{enumerate*}\n",
       "\\item FALSE\n",
       "\\item FALSE\n",
       "\\item TRUE\n",
       "\\item FALSE\n",
       "\\item TRUE\n",
       "\\end{enumerate*}\n"
      ],
      "text/markdown": [
       "1. FALSE\n",
       "2. FALSE\n",
       "3. TRUE\n",
       "4. FALSE\n",
       "5. TRUE\n",
       "\n",
       "\n"
      ],
      "text/plain": [
       "[1] FALSE FALSE  TRUE FALSE  TRUE"
      ]
     },
     "metadata": {},
     "output_type": "display_data"
    },
    {
     "data": {
      "text/html": [
       "<ol class=list-inline>\n",
       "\t<li>TRUE</li>\n",
       "\t<li>TRUE</li>\n",
       "\t<li>TRUE</li>\n",
       "\t<li>TRUE</li>\n",
       "\t<li>TRUE</li>\n",
       "</ol>\n"
      ],
      "text/latex": [
       "\\begin{enumerate*}\n",
       "\\item TRUE\n",
       "\\item TRUE\n",
       "\\item TRUE\n",
       "\\item TRUE\n",
       "\\item TRUE\n",
       "\\end{enumerate*}\n"
      ],
      "text/markdown": [
       "1. TRUE\n",
       "2. TRUE\n",
       "3. TRUE\n",
       "4. TRUE\n",
       "5. TRUE\n",
       "\n",
       "\n"
      ],
      "text/plain": [
       "[1] TRUE TRUE TRUE TRUE TRUE"
      ]
     },
     "metadata": {},
     "output_type": "display_data"
    },
    {
     "data": {
      "text/html": [
       "<ol class=list-inline>\n",
       "\t<li>TRUE</li>\n",
       "\t<li>TRUE</li>\n",
       "\t<li>FALSE</li>\n",
       "\t<li>TRUE</li>\n",
       "\t<li>FALSE</li>\n",
       "</ol>\n"
      ],
      "text/latex": [
       "\\begin{enumerate*}\n",
       "\\item TRUE\n",
       "\\item TRUE\n",
       "\\item FALSE\n",
       "\\item TRUE\n",
       "\\item FALSE\n",
       "\\end{enumerate*}\n"
      ],
      "text/markdown": [
       "1. TRUE\n",
       "2. TRUE\n",
       "3. FALSE\n",
       "4. TRUE\n",
       "5. FALSE\n",
       "\n",
       "\n"
      ],
      "text/plain": [
       "[1]  TRUE  TRUE FALSE  TRUE FALSE"
      ]
     },
     "metadata": {},
     "output_type": "display_data"
    }
   ],
   "source": [
    "# 1. > greater than \n",
    "q[1] > r[2]\n",
    "\n",
    "# 2. < lesser than\n",
    "q < r\n",
    "\n",
    "# 3. == equal to\n",
    "q == r\n",
    "\n",
    "# 4. >= greater than or equal to\n",
    "q >= r\n",
    "\n",
    "# 5. <= lesser than or equal to \n",
    "q <= r\n",
    "\n",
    "# 6. != not equal to \n",
    "q != r"
   ]
  },
  {
   "cell_type": "code",
   "execution_count": 82,
   "id": "eb26a691",
   "metadata": {},
   "outputs": [],
   "source": [
    "# Relational Operators\n",
    "# Condition: All numbers greater than 1 are considered as logical value TRUE\n",
    "s <- c(3, 1, TRUE, 2+2i) \n",
    "t <- c(4, 1, FALSE, 2+3i)"
   ]
  },
  {
   "cell_type": "code",
   "execution_count": 83,
   "id": "d4656eab",
   "metadata": {},
   "outputs": [
    {
     "data": {
      "text/html": [
       "<ol class=list-inline>\n",
       "\t<li>TRUE</li>\n",
       "\t<li>TRUE</li>\n",
       "\t<li>FALSE</li>\n",
       "\t<li>TRUE</li>\n",
       "</ol>\n"
      ],
      "text/latex": [
       "\\begin{enumerate*}\n",
       "\\item TRUE\n",
       "\\item TRUE\n",
       "\\item FALSE\n",
       "\\item TRUE\n",
       "\\end{enumerate*}\n"
      ],
      "text/markdown": [
       "1. TRUE\n",
       "2. TRUE\n",
       "3. FALSE\n",
       "4. TRUE\n",
       "\n",
       "\n"
      ],
      "text/plain": [
       "[1]  TRUE  TRUE FALSE  TRUE"
      ]
     },
     "metadata": {},
     "output_type": "display_data"
    },
    {
     "data": {
      "text/html": [
       "<ol class=list-inline>\n",
       "\t<li>TRUE</li>\n",
       "\t<li>TRUE</li>\n",
       "\t<li>TRUE</li>\n",
       "\t<li>TRUE</li>\n",
       "</ol>\n"
      ],
      "text/latex": [
       "\\begin{enumerate*}\n",
       "\\item TRUE\n",
       "\\item TRUE\n",
       "\\item TRUE\n",
       "\\item TRUE\n",
       "\\end{enumerate*}\n"
      ],
      "text/markdown": [
       "1. TRUE\n",
       "2. TRUE\n",
       "3. TRUE\n",
       "4. TRUE\n",
       "\n",
       "\n"
      ],
      "text/plain": [
       "[1] TRUE TRUE TRUE TRUE"
      ]
     },
     "metadata": {},
     "output_type": "display_data"
    },
    {
     "data": {
      "text/html": [
       "<ol class=list-inline>\n",
       "\t<li>FALSE</li>\n",
       "\t<li>FALSE</li>\n",
       "\t<li>TRUE</li>\n",
       "\t<li>FALSE</li>\n",
       "</ol>\n"
      ],
      "text/latex": [
       "\\begin{enumerate*}\n",
       "\\item FALSE\n",
       "\\item FALSE\n",
       "\\item TRUE\n",
       "\\item FALSE\n",
       "\\end{enumerate*}\n"
      ],
      "text/markdown": [
       "1. FALSE\n",
       "2. FALSE\n",
       "3. TRUE\n",
       "4. FALSE\n",
       "\n",
       "\n"
      ],
      "text/plain": [
       "[1] FALSE FALSE  TRUE FALSE"
      ]
     },
     "metadata": {},
     "output_type": "display_data"
    },
    {
     "data": {
      "text/html": [
       "<ol class=list-inline>\n",
       "\t<li>FALSE</li>\n",
       "\t<li>FALSE</li>\n",
       "\t<li>FALSE</li>\n",
       "\t<li>FALSE</li>\n",
       "</ol>\n"
      ],
      "text/latex": [
       "\\begin{enumerate*}\n",
       "\\item FALSE\n",
       "\\item FALSE\n",
       "\\item FALSE\n",
       "\\item FALSE\n",
       "\\end{enumerate*}\n"
      ],
      "text/markdown": [
       "1. FALSE\n",
       "2. FALSE\n",
       "3. FALSE\n",
       "4. FALSE\n",
       "\n",
       "\n"
      ],
      "text/plain": [
       "[1] FALSE FALSE FALSE FALSE"
      ]
     },
     "metadata": {},
     "output_type": "display_data"
    }
   ],
   "source": [
    "# 1. & Element-wise Logical AND \n",
    "s&t\n",
    "# 2. | Element-wise Logical OR \n",
    "s|t\n",
    "# 3. ! Logical NOT - can be appied on a single vector\n",
    "!(s&t)\n",
    "!(s|t)"
   ]
  },
  {
   "cell_type": "code",
   "execution_count": 84,
   "id": "2a804a78",
   "metadata": {},
   "outputs": [
    {
     "data": {
      "text/html": [
       "TRUE"
      ],
      "text/latex": [
       "TRUE"
      ],
      "text/markdown": [
       "TRUE"
      ],
      "text/plain": [
       "[1] TRUE"
      ]
     },
     "metadata": {},
     "output_type": "display_data"
    }
   ],
   "source": [
    "# Logical Operators (&& || considers only 1st element of the vectors and give a vector of \n",
    "# single element as output)\n",
    "# 4. && Logical AND\n",
    "u <- c(3, 0, TRUE, 2+2i)\n",
    "v <- c(1, 3, TRUE, 2+3i)\n",
    "u&&v"
   ]
  },
  {
   "cell_type": "code",
   "execution_count": 85,
   "id": "611c36b9",
   "metadata": {},
   "outputs": [
    {
     "data": {
      "text/html": [
       "FALSE"
      ],
      "text/latex": [
       "FALSE"
      ],
      "text/markdown": [
       "FALSE"
      ],
      "text/plain": [
       "[1] FALSE"
      ]
     },
     "metadata": {},
     "output_type": "display_data"
    }
   ],
   "source": [
    "# 5. || Logical OR\n",
    "x <- c(0,0,TRUE,2+2i)\n",
    "y <- c(0,3,TRUE,2+3i)\n",
    "x||y"
   ]
  },
  {
   "cell_type": "code",
   "execution_count": 86,
   "id": "b871719e",
   "metadata": {},
   "outputs": [],
   "source": [
    "# Assignment Operators\n",
    "# 1. Left Assignment <- or == or <<-\n",
    "v1 <- c(3,1,TRUE,2+3i)\n",
    "v2 <<- c(3,1,TRUE,2+3i)\n",
    "v3 = c(3,1,TRUE,2+3i)"
   ]
  },
  {
   "cell_type": "code",
   "execution_count": 87,
   "id": "95514348",
   "metadata": {},
   "outputs": [
    {
     "data": {
      "text/html": [
       "<ol class=list-inline>\n",
       "\t<li>3+0i</li>\n",
       "\t<li>1+0i</li>\n",
       "\t<li>1+0i</li>\n",
       "\t<li>2+3i</li>\n",
       "</ol>\n"
      ],
      "text/latex": [
       "\\begin{enumerate*}\n",
       "\\item 3+0i\n",
       "\\item 1+0i\n",
       "\\item 1+0i\n",
       "\\item 2+3i\n",
       "\\end{enumerate*}\n"
      ],
      "text/markdown": [
       "1. 3+0i\n",
       "2. 1+0i\n",
       "3. 1+0i\n",
       "4. 2+3i\n",
       "\n",
       "\n"
      ],
      "text/plain": [
       "[1] 3+0i 1+0i 1+0i 2+3i"
      ]
     },
     "metadata": {},
     "output_type": "display_data"
    }
   ],
   "source": [
    "v1"
   ]
  },
  {
   "cell_type": "code",
   "execution_count": 88,
   "id": "1c837f14",
   "metadata": {},
   "outputs": [
    {
     "data": {
      "text/html": [
       "<ol class=list-inline>\n",
       "\t<li>3+0i</li>\n",
       "\t<li>1+0i</li>\n",
       "\t<li>1+0i</li>\n",
       "\t<li>2+3i</li>\n",
       "</ol>\n"
      ],
      "text/latex": [
       "\\begin{enumerate*}\n",
       "\\item 3+0i\n",
       "\\item 1+0i\n",
       "\\item 1+0i\n",
       "\\item 2+3i\n",
       "\\end{enumerate*}\n"
      ],
      "text/markdown": [
       "1. 3+0i\n",
       "2. 1+0i\n",
       "3. 1+0i\n",
       "4. 2+3i\n",
       "\n",
       "\n"
      ],
      "text/plain": [
       "[1] 3+0i 1+0i 1+0i 2+3i"
      ]
     },
     "metadata": {},
     "output_type": "display_data"
    }
   ],
   "source": [
    "v2"
   ]
  },
  {
   "cell_type": "code",
   "execution_count": 89,
   "id": "311823fa",
   "metadata": {},
   "outputs": [
    {
     "data": {
      "text/html": [
       "<ol class=list-inline>\n",
       "\t<li>3+0i</li>\n",
       "\t<li>1+0i</li>\n",
       "\t<li>1+0i</li>\n",
       "\t<li>2+3i</li>\n",
       "</ol>\n"
      ],
      "text/latex": [
       "\\begin{enumerate*}\n",
       "\\item 3+0i\n",
       "\\item 1+0i\n",
       "\\item 1+0i\n",
       "\\item 2+3i\n",
       "\\end{enumerate*}\n"
      ],
      "text/markdown": [
       "1. 3+0i\n",
       "2. 1+0i\n",
       "3. 1+0i\n",
       "4. 2+3i\n",
       "\n",
       "\n"
      ],
      "text/plain": [
       "[1] 3+0i 1+0i 1+0i 2+3i"
      ]
     },
     "metadata": {},
     "output_type": "display_data"
    }
   ],
   "source": [
    "v3"
   ]
  },
  {
   "cell_type": "code",
   "execution_count": 90,
   "id": "16f6421b",
   "metadata": {},
   "outputs": [
    {
     "data": {
      "text/html": [
       "<ol class=list-inline>\n",
       "\t<li>3+0i</li>\n",
       "\t<li>1+0i</li>\n",
       "\t<li>1+0i</li>\n",
       "\t<li>2+3i</li>\n",
       "</ol>\n"
      ],
      "text/latex": [
       "\\begin{enumerate*}\n",
       "\\item 3+0i\n",
       "\\item 1+0i\n",
       "\\item 1+0i\n",
       "\\item 2+3i\n",
       "\\end{enumerate*}\n"
      ],
      "text/markdown": [
       "1. 3+0i\n",
       "2. 1+0i\n",
       "3. 1+0i\n",
       "4. 2+3i\n",
       "\n",
       "\n"
      ],
      "text/plain": [
       "[1] 3+0i 1+0i 1+0i 2+3i"
      ]
     },
     "metadata": {},
     "output_type": "display_data"
    },
    {
     "data": {
      "text/html": [
       "<ol class=list-inline>\n",
       "\t<li>3+0i</li>\n",
       "\t<li>1+0i</li>\n",
       "\t<li>1+0i</li>\n",
       "\t<li>2+3i</li>\n",
       "</ol>\n"
      ],
      "text/latex": [
       "\\begin{enumerate*}\n",
       "\\item 3+0i\n",
       "\\item 1+0i\n",
       "\\item 1+0i\n",
       "\\item 2+3i\n",
       "\\end{enumerate*}\n"
      ],
      "text/markdown": [
       "1. 3+0i\n",
       "2. 1+0i\n",
       "3. 1+0i\n",
       "4. 2+3i\n",
       "\n",
       "\n"
      ],
      "text/plain": [
       "[1] 3+0i 1+0i 1+0i 2+3i"
      ]
     },
     "metadata": {},
     "output_type": "display_data"
    }
   ],
   "source": [
    "# 2. Right Assignment -> or ->>\n",
    "c(3,1,TRUE,2+3i) -> v4\n",
    "c(3,1,TRUE,2+3i) ->> v5\n",
    "v4\n",
    "v5"
   ]
  },
  {
   "cell_type": "code",
   "execution_count": 91,
   "id": "af634bc9",
   "metadata": {},
   "outputs": [
    {
     "data": {
      "text/html": [
       "<ol class=list-inline>\n",
       "\t<li>1.5</li>\n",
       "\t<li>2.5</li>\n",
       "\t<li>3.5</li>\n",
       "\t<li>4.5</li>\n",
       "\t<li>5.5</li>\n",
       "\t<li>6.5</li>\n",
       "\t<li>7.5</li>\n",
       "\t<li>8.5</li>\n",
       "\t<li>9.5</li>\n",
       "\t<li>10.5</li>\n",
       "</ol>\n"
      ],
      "text/latex": [
       "\\begin{enumerate*}\n",
       "\\item 1.5\n",
       "\\item 2.5\n",
       "\\item 3.5\n",
       "\\item 4.5\n",
       "\\item 5.5\n",
       "\\item 6.5\n",
       "\\item 7.5\n",
       "\\item 8.5\n",
       "\\item 9.5\n",
       "\\item 10.5\n",
       "\\end{enumerate*}\n"
      ],
      "text/markdown": [
       "1. 1.5\n",
       "2. 2.5\n",
       "3. 3.5\n",
       "4. 4.5\n",
       "5. 5.5\n",
       "6. 6.5\n",
       "7. 7.5\n",
       "8. 8.5\n",
       "9. 9.5\n",
       "10. 10.5\n",
       "\n",
       "\n"
      ],
      "text/plain": [
       " [1]  1.5  2.5  3.5  4.5  5.5  6.5  7.5  8.5  9.5 10.5"
      ]
     },
     "metadata": {},
     "output_type": "display_data"
    }
   ],
   "source": [
    "# Miscellaneous Operators\n",
    "# 1. : Colon Operator - It creates the series of numbers in sequence for a vector\n",
    "v6 <- 1.5:10.5\n",
    "v6"
   ]
  },
  {
   "cell_type": "code",
   "execution_count": 92,
   "id": "4bca2f58",
   "metadata": {},
   "outputs": [
    {
     "data": {
      "text/html": [
       "<ol class=list-inline>\n",
       "\t<li>TRUE</li>\n",
       "\t<li>TRUE</li>\n",
       "\t<li>TRUE</li>\n",
       "</ol>\n"
      ],
      "text/latex": [
       "\\begin{enumerate*}\n",
       "\\item TRUE\n",
       "\\item TRUE\n",
       "\\item TRUE\n",
       "\\end{enumerate*}\n"
      ],
      "text/markdown": [
       "1. TRUE\n",
       "2. TRUE\n",
       "3. TRUE\n",
       "\n",
       "\n"
      ],
      "text/plain": [
       "[1] TRUE TRUE TRUE"
      ]
     },
     "metadata": {},
     "output_type": "display_data"
    },
    {
     "data": {
      "text/html": [
       "<ol class=list-inline>\n",
       "\t<li>FALSE</li>\n",
       "\t<li>FALSE</li>\n",
       "\t<li>FALSE</li>\n",
       "</ol>\n"
      ],
      "text/latex": [
       "\\begin{enumerate*}\n",
       "\\item FALSE\n",
       "\\item FALSE\n",
       "\\item FALSE\n",
       "\\end{enumerate*}\n"
      ],
      "text/markdown": [
       "1. FALSE\n",
       "2. FALSE\n",
       "3. FALSE\n",
       "\n",
       "\n"
      ],
      "text/plain": [
       "[1] FALSE FALSE FALSE"
      ]
     },
     "metadata": {},
     "output_type": "display_data"
    }
   ],
   "source": [
    "# 2. %in% - an element belongs to a vector\n",
    "v7 <- c(8, 9, 10)\n",
    "v8 <- c(12, 13, 14)\n",
    "t <- 1:10\n",
    "v7 %in% t\n",
    "v8 %in% t"
   ]
  },
  {
   "cell_type": "code",
   "execution_count": 93,
   "id": "b9020391",
   "metadata": {},
   "outputs": [
    {
     "data": {
      "text/html": [
       "<table>\n",
       "<tbody>\n",
       "\t<tr><td>2 </td><td> 6</td><td>5 </td></tr>\n",
       "\t<tr><td>1 </td><td>10</td><td>4 </td></tr>\n",
       "</tbody>\n",
       "</table>\n"
      ],
      "text/latex": [
       "\\begin{tabular}{lll}\n",
       "\t 2  &  6 & 5 \\\\\n",
       "\t 1  & 10 & 4 \\\\\n",
       "\\end{tabular}\n"
      ],
      "text/markdown": [
       "\n",
       "| 2  |  6 | 5  |\n",
       "| 1  | 10 | 4  |\n",
       "\n"
      ],
      "text/plain": [
       "     [,1] [,2] [,3]\n",
       "[1,] 2     6   5   \n",
       "[2,] 1    10   4   "
      ]
     },
     "metadata": {},
     "output_type": "display_data"
    },
    {
     "data": {
      "text/html": [
       "<table>\n",
       "<tbody>\n",
       "\t<tr><td>2 </td><td> 1</td></tr>\n",
       "\t<tr><td>6 </td><td>10</td></tr>\n",
       "\t<tr><td>5 </td><td> 4</td></tr>\n",
       "</tbody>\n",
       "</table>\n"
      ],
      "text/latex": [
       "\\begin{tabular}{ll}\n",
       "\t 2  &  1\\\\\n",
       "\t 6  & 10\\\\\n",
       "\t 5  &  4\\\\\n",
       "\\end{tabular}\n"
      ],
      "text/markdown": [
       "\n",
       "| 2  |  1 |\n",
       "| 6  | 10 |\n",
       "| 5  |  4 |\n",
       "\n"
      ],
      "text/plain": [
       "     [,1] [,2]\n",
       "[1,] 2     1  \n",
       "[2,] 6    10  \n",
       "[3,] 5     4  "
      ]
     },
     "metadata": {},
     "output_type": "display_data"
    },
    {
     "data": {
      "text/html": [
       "<table>\n",
       "<tbody>\n",
       "\t<tr><td>65 </td><td> 82</td></tr>\n",
       "\t<tr><td>82 </td><td>117</td></tr>\n",
       "</tbody>\n",
       "</table>\n"
      ],
      "text/latex": [
       "\\begin{tabular}{ll}\n",
       "\t 65  &  82\\\\\n",
       "\t 82  & 117\\\\\n",
       "\\end{tabular}\n"
      ],
      "text/markdown": [
       "\n",
       "| 65  |  82 |\n",
       "| 82  | 117 |\n",
       "\n"
      ],
      "text/plain": [
       "     [,1] [,2]\n",
       "[1,] 65    82 \n",
       "[2,] 82   117 "
      ]
     },
     "metadata": {},
     "output_type": "display_data"
    }
   ],
   "source": [
    "# 3. %*% - multiply a matrix with its transpose\n",
    "v9 <- matrix( c(2, 6, 5, 1, 10, 4), nrow = 2, ncol = 3, byrow = TRUE)\n",
    "v9\n",
    "t(v9)\n",
    "v9t <- v9 %*% t(v9)\n",
    "v9t"
   ]
  },
  {
   "cell_type": "code",
   "execution_count": null,
   "id": "99535704",
   "metadata": {},
   "outputs": [],
   "source": []
  }
 ],
 "metadata": {
  "kernelspec": {
   "display_name": "R",
   "language": "R",
   "name": "ir"
  },
  "language_info": {
   "codemirror_mode": "r",
   "file_extension": ".r",
   "mimetype": "text/x-r-source",
   "name": "R",
   "pygments_lexer": "r",
   "version": "3.6.1"
  }
 },
 "nbformat": 4,
 "nbformat_minor": 5
}

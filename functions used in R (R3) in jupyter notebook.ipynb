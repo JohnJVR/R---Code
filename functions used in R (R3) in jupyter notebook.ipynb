{
 "cells": [
  {
   "cell_type": "code",
   "execution_count": 1,
   "id": "6327393f",
   "metadata": {},
   "outputs": [],
   "source": [
    "# Common Functions used in R\n",
    "\n",
    "# Strings\n",
    "# Paste - combine character strings in R"
   ]
  },
  {
   "cell_type": "code",
   "execution_count": 2,
   "id": "ad45f5f7",
   "metadata": {},
   "outputs": [
    {
     "data": {
      "text/html": [
       "'one 2 three 4 five'"
      ],
      "text/latex": [
       "'one 2 three 4 five'"
      ],
      "text/markdown": [
       "'one 2 three 4 five'"
      ],
      "text/plain": [
       "[1] \"one 2 three 4 five\""
      ]
     },
     "metadata": {},
     "output_type": "display_data"
    }
   ],
   "source": [
    "# simple paste function \n",
    "paste('one',2,'three',4,'five') # default sep is space ' '"
   ]
  },
  {
   "cell_type": "code",
   "execution_count": 3,
   "id": "6296cf6e",
   "metadata": {},
   "outputs": [
    {
     "data": {
      "text/html": [
       "<ol class=list-inline>\n",
       "\t<li>'X1'</li>\n",
       "\t<li>'X2'</li>\n",
       "\t<li>'X3'</li>\n",
       "\t<li>'X4'</li>\n",
       "\t<li>'X5'</li>\n",
       "</ol>\n"
      ],
      "text/latex": [
       "\\begin{enumerate*}\n",
       "\\item 'X1'\n",
       "\\item 'X2'\n",
       "\\item 'X3'\n",
       "\\item 'X4'\n",
       "\\item 'X5'\n",
       "\\end{enumerate*}\n"
      ],
      "text/markdown": [
       "1. 'X1'\n",
       "2. 'X2'\n",
       "3. 'X3'\n",
       "4. 'X4'\n",
       "5. 'X5'\n",
       "\n",
       "\n"
      ],
      "text/plain": [
       "[1] \"X1\" \"X2\" \"X3\" \"X4\" \"X5\""
      ]
     },
     "metadata": {},
     "output_type": "display_data"
    }
   ],
   "source": [
    "# paste function with sep argument\n",
    "paste('X', 1:5,sep = '') # sep = to separate the terms"
   ]
  },
  {
   "cell_type": "code",
   "execution_count": 4,
   "id": "72bee5cf",
   "metadata": {},
   "outputs": [
    {
     "data": {
      "text/html": [
       "'one and two and three and four'"
      ],
      "text/latex": [
       "'one and two and three and four'"
      ],
      "text/markdown": [
       "'one and two and three and four'"
      ],
      "text/plain": [
       "[1] \"one and two and three and four\""
      ]
     },
     "metadata": {},
     "output_type": "display_data"
    }
   ],
   "source": [
    "# paste function with collapse Argument\n",
    "paste(c('one','two','three','four'), collapse = ' and ') # collapse =  to separate the results"
   ]
  },
  {
   "cell_type": "code",
   "execution_count": 5,
   "id": "ad0c0d68",
   "metadata": {},
   "outputs": [
    {
     "data": {
      "text/html": [
       "'X_1 and Y_2 and X_3 and Y_4 and X_5'"
      ],
      "text/latex": [
       "'X\\_1 and Y\\_2 and X\\_3 and Y\\_4 and X\\_5'"
      ],
      "text/markdown": [
       "'X_1 and Y_2 and X_3 and Y_4 and X_5'"
      ],
      "text/plain": [
       "[1] \"X_1 and Y_2 and X_3 and Y_4 and X_5\""
      ]
     },
     "metadata": {},
     "output_type": "display_data"
    }
   ],
   "source": [
    "# paste function in R with separator and collapse Argument\n",
    "paste(c('X','Y'), 1:5, sep = '_', collapse = ' and ')"
   ]
  },
  {
   "cell_type": "code",
   "execution_count": 6,
   "id": "abb8e2df",
   "metadata": {},
   "outputs": [
    {
     "data": {
      "text/html": [
       "'one2three4five'"
      ],
      "text/latex": [
       "'one2three4five'"
      ],
      "text/markdown": [
       "'one2three4five'"
      ],
      "text/plain": [
       "[1] \"one2three4five\""
      ]
     },
     "metadata": {},
     "output_type": "display_data"
    }
   ],
   "source": [
    "# paste(0)\n",
    "paste0('one',2,'three',4,'five')"
   ]
  },
  {
   "cell_type": "code",
   "execution_count": 7,
   "id": "fb57d1b0",
   "metadata": {},
   "outputs": [],
   "source": [
    "# Sort - sort numerical values or character strings\n",
    "# numerical vector sort\n",
    "v1 <- c(1,2,4,5,7,11)"
   ]
  },
  {
   "cell_type": "code",
   "execution_count": 8,
   "id": "a8d1a4fa",
   "metadata": {},
   "outputs": [
    {
     "data": {
      "text/html": [
       "<ol class=list-inline>\n",
       "\t<li>1</li>\n",
       "\t<li>2</li>\n",
       "\t<li>4</li>\n",
       "\t<li>5</li>\n",
       "\t<li>7</li>\n",
       "\t<li>11</li>\n",
       "</ol>\n"
      ],
      "text/latex": [
       "\\begin{enumerate*}\n",
       "\\item 1\n",
       "\\item 2\n",
       "\\item 4\n",
       "\\item 5\n",
       "\\item 7\n",
       "\\item 11\n",
       "\\end{enumerate*}\n"
      ],
      "text/markdown": [
       "1. 1\n",
       "2. 2\n",
       "3. 4\n",
       "4. 5\n",
       "5. 7\n",
       "6. 11\n",
       "\n",
       "\n"
      ],
      "text/plain": [
       "[1]  1  2  4  5  7 11"
      ]
     },
     "metadata": {},
     "output_type": "display_data"
    }
   ],
   "source": [
    "sort(v1) # increasing is default"
   ]
  },
  {
   "cell_type": "code",
   "execution_count": 9,
   "id": "206aec75",
   "metadata": {},
   "outputs": [
    {
     "data": {
      "text/html": [
       "<ol class=list-inline>\n",
       "\t<li>11</li>\n",
       "\t<li>7</li>\n",
       "\t<li>5</li>\n",
       "\t<li>4</li>\n",
       "\t<li>2</li>\n",
       "\t<li>1</li>\n",
       "</ol>\n"
      ],
      "text/latex": [
       "\\begin{enumerate*}\n",
       "\\item 11\n",
       "\\item 7\n",
       "\\item 5\n",
       "\\item 4\n",
       "\\item 2\n",
       "\\item 1\n",
       "\\end{enumerate*}\n"
      ],
      "text/markdown": [
       "1. 11\n",
       "2. 7\n",
       "3. 5\n",
       "4. 4\n",
       "5. 2\n",
       "6. 1\n",
       "\n",
       "\n"
      ],
      "text/plain": [
       "[1] 11  7  5  4  2  1"
      ]
     },
     "metadata": {},
     "output_type": "display_data"
    }
   ],
   "source": [
    "sort(v1, decreasing=TRUE) # sorts in descending order"
   ]
  },
  {
   "cell_type": "code",
   "execution_count": 10,
   "id": "542ba0bb",
   "metadata": {},
   "outputs": [],
   "source": [
    "# Character vector sort\n",
    "v2 <- c(\"Cherry\",\"BlueBerry\",\"Apple\",\"Pineapple\")"
   ]
  },
  {
   "cell_type": "code",
   "execution_count": 11,
   "id": "293eb678",
   "metadata": {},
   "outputs": [
    {
     "data": {
      "text/html": [
       "<ol class=list-inline>\n",
       "\t<li>'Apple'</li>\n",
       "\t<li>'BlueBerry'</li>\n",
       "\t<li>'Cherry'</li>\n",
       "\t<li>'Pineapple'</li>\n",
       "</ol>\n"
      ],
      "text/latex": [
       "\\begin{enumerate*}\n",
       "\\item 'Apple'\n",
       "\\item 'BlueBerry'\n",
       "\\item 'Cherry'\n",
       "\\item 'Pineapple'\n",
       "\\end{enumerate*}\n"
      ],
      "text/markdown": [
       "1. 'Apple'\n",
       "2. 'BlueBerry'\n",
       "3. 'Cherry'\n",
       "4. 'Pineapple'\n",
       "\n",
       "\n"
      ],
      "text/plain": [
       "[1] \"Apple\"     \"BlueBerry\" \"Cherry\"    \"Pineapple\""
      ]
     },
     "metadata": {},
     "output_type": "display_data"
    }
   ],
   "source": [
    "sort(v2) # sorts in Alphabetical order which is default"
   ]
  },
  {
   "cell_type": "code",
   "execution_count": 12,
   "id": "35fe5ee9",
   "metadata": {},
   "outputs": [
    {
     "data": {
      "text/html": [
       "<ol class=list-inline>\n",
       "\t<li>'Pineapple'</li>\n",
       "\t<li>'Cherry'</li>\n",
       "\t<li>'BlueBerry'</li>\n",
       "\t<li>'Apple'</li>\n",
       "</ol>\n"
      ],
      "text/latex": [
       "\\begin{enumerate*}\n",
       "\\item 'Pineapple'\n",
       "\\item 'Cherry'\n",
       "\\item 'BlueBerry'\n",
       "\\item 'Apple'\n",
       "\\end{enumerate*}\n"
      ],
      "text/markdown": [
       "1. 'Pineapple'\n",
       "2. 'Cherry'\n",
       "3. 'BlueBerry'\n",
       "4. 'Apple'\n",
       "\n",
       "\n"
      ],
      "text/plain": [
       "[1] \"Pineapple\" \"Cherry\"    \"BlueBerry\" \"Apple\"    "
      ]
     },
     "metadata": {},
     "output_type": "display_data"
    }
   ],
   "source": [
    "sort(v2,decreasing = TRUE) # sorts in Reverse Alphabetical order"
   ]
  },
  {
   "cell_type": "code",
   "execution_count": 13,
   "id": "612690f5",
   "metadata": {},
   "outputs": [
    {
     "data": {
      "text/html": [
       "<ol>\n",
       "\t<li><ol class=list-inline>\n",
       "\t<li>1</li>\n",
       "\t<li>4</li>\n",
       "\t<li>6</li>\n",
       "</ol>\n",
       "</li>\n",
       "\t<li>'dog'</li>\n",
       "\t<li>3</li>\n",
       "\t<li>'cat'</li>\n",
       "\t<li>TRUE</li>\n",
       "\t<li><ol class=list-inline>\n",
       "\t<li>9</li>\n",
       "\t<li>10</li>\n",
       "\t<li>11</li>\n",
       "</ol>\n",
       "</li>\n",
       "</ol>\n"
      ],
      "text/latex": [
       "\\begin{enumerate}\n",
       "\\item \\begin{enumerate*}\n",
       "\\item 1\n",
       "\\item 4\n",
       "\\item 6\n",
       "\\end{enumerate*}\n",
       "\n",
       "\\item 'dog'\n",
       "\\item 3\n",
       "\\item 'cat'\n",
       "\\item TRUE\n",
       "\\item \\begin{enumerate*}\n",
       "\\item 9\n",
       "\\item 10\n",
       "\\item 11\n",
       "\\end{enumerate*}\n",
       "\n",
       "\\end{enumerate}\n"
      ],
      "text/markdown": [
       "1. 1. 1\n",
       "2. 4\n",
       "3. 6\n",
       "\n",
       "\n",
       "\n",
       "2. 'dog'\n",
       "3. 3\n",
       "4. 'cat'\n",
       "5. TRUE\n",
       "6. 1. 9\n",
       "2. 10\n",
       "3. 11\n",
       "\n",
       "\n",
       "\n",
       "\n",
       "\n"
      ],
      "text/plain": [
       "[[1]]\n",
       "[1] 1 4 6\n",
       "\n",
       "[[2]]\n",
       "[1] \"dog\"\n",
       "\n",
       "[[3]]\n",
       "[1] 3\n",
       "\n",
       "[[4]]\n",
       "[1] \"cat\"\n",
       "\n",
       "[[5]]\n",
       "[1] TRUE\n",
       "\n",
       "[[6]]\n",
       "[1]  9 10 11\n"
      ]
     },
     "metadata": {},
     "output_type": "display_data"
    }
   ],
   "source": [
    "# unlist\n",
    "mylist = list(c(1,4,6),\"dog\",3,\"cat\",TRUE,c(9,10,11))\n",
    "mylist"
   ]
  },
  {
   "cell_type": "code",
   "execution_count": 14,
   "id": "e86c0452",
   "metadata": {},
   "outputs": [
    {
     "data": {
      "text/html": [
       "'list'"
      ],
      "text/latex": [
       "'list'"
      ],
      "text/markdown": [
       "'list'"
      ],
      "text/plain": [
       "[1] \"list\""
      ]
     },
     "metadata": {},
     "output_type": "display_data"
    }
   ],
   "source": [
    "class(mylist)"
   ]
  },
  {
   "cell_type": "code",
   "execution_count": 15,
   "id": "3db176e6",
   "metadata": {},
   "outputs": [
    {
     "data": {
      "text/html": [
       "<ol class=list-inline>\n",
       "\t<li>'1'</li>\n",
       "\t<li>'4'</li>\n",
       "\t<li>'6'</li>\n",
       "\t<li>'dog'</li>\n",
       "\t<li>'3'</li>\n",
       "\t<li>'cat'</li>\n",
       "\t<li>'TRUE'</li>\n",
       "\t<li>'9'</li>\n",
       "\t<li>'10'</li>\n",
       "\t<li>'11'</li>\n",
       "</ol>\n"
      ],
      "text/latex": [
       "\\begin{enumerate*}\n",
       "\\item '1'\n",
       "\\item '4'\n",
       "\\item '6'\n",
       "\\item 'dog'\n",
       "\\item '3'\n",
       "\\item 'cat'\n",
       "\\item 'TRUE'\n",
       "\\item '9'\n",
       "\\item '10'\n",
       "\\item '11'\n",
       "\\end{enumerate*}\n"
      ],
      "text/markdown": [
       "1. '1'\n",
       "2. '4'\n",
       "3. '6'\n",
       "4. 'dog'\n",
       "5. '3'\n",
       "6. 'cat'\n",
       "7. 'TRUE'\n",
       "8. '9'\n",
       "9. '10'\n",
       "10. '11'\n",
       "\n",
       "\n"
      ],
      "text/plain": [
       " [1] \"1\"    \"4\"    \"6\"    \"dog\"  \"3\"    \"cat\"  \"TRUE\" \"9\"    \"10\"   \"11\"  "
      ]
     },
     "metadata": {},
     "output_type": "display_data"
    }
   ],
   "source": [
    "unlist(mylist)"
   ]
  },
  {
   "cell_type": "code",
   "execution_count": 16,
   "id": "4ec2d419",
   "metadata": {},
   "outputs": [
    {
     "data": {
      "text/html": [
       "'character'"
      ],
      "text/latex": [
       "'character'"
      ],
      "text/markdown": [
       "'character'"
      ],
      "text/plain": [
       "[1] \"character\""
      ]
     },
     "metadata": {},
     "output_type": "display_data"
    }
   ],
   "source": [
    "class(unlist(mylist))"
   ]
  },
  {
   "cell_type": "code",
   "execution_count": 17,
   "id": "5b1e4583",
   "metadata": {},
   "outputs": [],
   "source": [
    "# Merge Lists\n",
    "list1 <- list(1,2,3)\n",
    "list2 <- list(\"Jan\",\"Feb\",\"Mar\")"
   ]
  },
  {
   "cell_type": "code",
   "execution_count": 18,
   "id": "85f0e97e",
   "metadata": {},
   "outputs": [
    {
     "data": {
      "text/html": [
       "<ol>\n",
       "\t<li>1</li>\n",
       "\t<li>2</li>\n",
       "\t<li>3</li>\n",
       "\t<li>'Jan'</li>\n",
       "\t<li>'Feb'</li>\n",
       "\t<li>'Mar'</li>\n",
       "</ol>\n"
      ],
      "text/latex": [
       "\\begin{enumerate}\n",
       "\\item 1\n",
       "\\item 2\n",
       "\\item 3\n",
       "\\item 'Jan'\n",
       "\\item 'Feb'\n",
       "\\item 'Mar'\n",
       "\\end{enumerate}\n"
      ],
      "text/markdown": [
       "1. 1\n",
       "2. 2\n",
       "3. 3\n",
       "4. 'Jan'\n",
       "5. 'Feb'\n",
       "6. 'Mar'\n",
       "\n",
       "\n"
      ],
      "text/plain": [
       "[[1]]\n",
       "[1] 1\n",
       "\n",
       "[[2]]\n",
       "[1] 2\n",
       "\n",
       "[[3]]\n",
       "[1] 3\n",
       "\n",
       "[[4]]\n",
       "[1] \"Jan\"\n",
       "\n",
       "[[5]]\n",
       "[1] \"Feb\"\n",
       "\n",
       "[[6]]\n",
       "[1] \"Mar\"\n"
      ]
     },
     "metadata": {},
     "output_type": "display_data"
    }
   ],
   "source": [
    "merged.list <- c(list1,list2)\n",
    "merged.list"
   ]
  },
  {
   "cell_type": "code",
   "execution_count": 19,
   "id": "fe394509",
   "metadata": {},
   "outputs": [
    {
     "data": {
      "text/html": [
       "<table>\n",
       "<tbody>\n",
       "\t<tr><td>1</td><td>5</td></tr>\n",
       "\t<tr><td>3</td><td>7</td></tr>\n",
       "</tbody>\n",
       "</table>\n"
      ],
      "text/latex": [
       "\\begin{tabular}{ll}\n",
       "\t 1 & 5\\\\\n",
       "\t 3 & 7\\\\\n",
       "\\end{tabular}\n"
      ],
      "text/markdown": [
       "\n",
       "| 1 | 5 |\n",
       "| 3 | 7 |\n",
       "\n"
      ],
      "text/plain": [
       "     [,1] [,2]\n",
       "[1,] 1    5   \n",
       "[2,] 3    7   "
      ]
     },
     "metadata": {},
     "output_type": "display_data"
    },
    {
     "data": {
      "text/html": [
       "<table>\n",
       "<tbody>\n",
       "\t<tr><td>2</td><td>6</td></tr>\n",
       "\t<tr><td>4</td><td>8</td></tr>\n",
       "</tbody>\n",
       "</table>\n"
      ],
      "text/latex": [
       "\\begin{tabular}{ll}\n",
       "\t 2 & 6\\\\\n",
       "\t 4 & 8\\\\\n",
       "\\end{tabular}\n"
      ],
      "text/markdown": [
       "\n",
       "| 2 | 6 |\n",
       "| 4 | 8 |\n",
       "\n"
      ],
      "text/plain": [
       "     [,1] [,2]\n",
       "[1,] 2    6   \n",
       "[2,] 4    8   "
      ]
     },
     "metadata": {},
     "output_type": "display_data"
    }
   ],
   "source": [
    "# Matrix Computations\n",
    "matrix1 <- matrix(c(1, 3, 5, 7), nrow = 2)\n",
    "matrix2 <- matrix(c(2, 4, 6, 8), nrow = 2)\n",
    "matrix1\n",
    "matrix2"
   ]
  },
  {
   "cell_type": "code",
   "execution_count": 20,
   "id": "b9b4cbe0",
   "metadata": {},
   "outputs": [
    {
     "data": {
      "text/html": [
       "<table>\n",
       "<tbody>\n",
       "\t<tr><td>3 </td><td>11</td></tr>\n",
       "\t<tr><td>7 </td><td>15</td></tr>\n",
       "</tbody>\n",
       "</table>\n"
      ],
      "text/latex": [
       "\\begin{tabular}{ll}\n",
       "\t 3  & 11\\\\\n",
       "\t 7  & 15\\\\\n",
       "\\end{tabular}\n"
      ],
      "text/markdown": [
       "\n",
       "| 3  | 11 |\n",
       "| 7  | 15 |\n",
       "\n"
      ],
      "text/plain": [
       "     [,1] [,2]\n",
       "[1,] 3    11  \n",
       "[2,] 7    15  "
      ]
     },
     "metadata": {},
     "output_type": "display_data"
    }
   ],
   "source": [
    "# Add the matrices.\n",
    "Mat.Add <- matrix1 + matrix2\n",
    "Mat.Add"
   ]
  },
  {
   "cell_type": "code",
   "execution_count": 21,
   "id": "f8c9b751",
   "metadata": {},
   "outputs": [
    {
     "data": {
      "text/html": [
       "<table>\n",
       "<tbody>\n",
       "\t<tr><td>-1</td><td>-1</td></tr>\n",
       "\t<tr><td>-1</td><td>-1</td></tr>\n",
       "</tbody>\n",
       "</table>\n"
      ],
      "text/latex": [
       "\\begin{tabular}{ll}\n",
       "\t -1 & -1\\\\\n",
       "\t -1 & -1\\\\\n",
       "\\end{tabular}\n"
      ],
      "text/markdown": [
       "\n",
       "| -1 | -1 |\n",
       "| -1 | -1 |\n",
       "\n"
      ],
      "text/plain": [
       "     [,1] [,2]\n",
       "[1,] -1   -1  \n",
       "[2,] -1   -1  "
      ]
     },
     "metadata": {},
     "output_type": "display_data"
    }
   ],
   "source": [
    "# Subtract the matrices\n",
    "Mat.Sub <- matrix1 - matrix2\n",
    "Mat.Sub"
   ]
  },
  {
   "cell_type": "code",
   "execution_count": 24,
   "id": "d984c7ee",
   "metadata": {},
   "outputs": [
    {
     "data": {
      "text/html": [
       "<table>\n",
       "<tbody>\n",
       "\t<tr><td> 2</td><td>30</td></tr>\n",
       "\t<tr><td>12</td><td>56</td></tr>\n",
       "</tbody>\n",
       "</table>\n"
      ],
      "text/latex": [
       "\\begin{tabular}{ll}\n",
       "\t  2 & 30\\\\\n",
       "\t 12 & 56\\\\\n",
       "\\end{tabular}\n"
      ],
      "text/markdown": [
       "\n",
       "|  2 | 30 |\n",
       "| 12 | 56 |\n",
       "\n"
      ],
      "text/plain": [
       "     [,1] [,2]\n",
       "[1,]  2   30  \n",
       "[2,] 12   56  "
      ]
     },
     "metadata": {},
     "output_type": "display_data"
    }
   ],
   "source": [
    "# Multiply the matrices.\n",
    "Mat.Multi <- matrix1 * matrix2\n",
    "Mat.Multi"
   ]
  },
  {
   "cell_type": "code",
   "execution_count": 25,
   "id": "139cc5a6",
   "metadata": {},
   "outputs": [
    {
     "data": {
      "text/html": [
       "<table>\n",
       "<tbody>\n",
       "\t<tr><td>0.50     </td><td>0.8333333</td></tr>\n",
       "\t<tr><td>0.75     </td><td>0.8750000</td></tr>\n",
       "</tbody>\n",
       "</table>\n"
      ],
      "text/latex": [
       "\\begin{tabular}{ll}\n",
       "\t 0.50      & 0.8333333\\\\\n",
       "\t 0.75      & 0.8750000\\\\\n",
       "\\end{tabular}\n"
      ],
      "text/markdown": [
       "\n",
       "| 0.50      | 0.8333333 |\n",
       "| 0.75      | 0.8750000 |\n",
       "\n"
      ],
      "text/plain": [
       "     [,1] [,2]     \n",
       "[1,] 0.50 0.8333333\n",
       "[2,] 0.75 0.8750000"
      ]
     },
     "metadata": {},
     "output_type": "display_data"
    }
   ],
   "source": [
    "# Divide the matrices\n",
    "Mat.Div <- matrix1 / matrix2\n",
    "Mat.Div"
   ]
  },
  {
   "cell_type": "code",
   "execution_count": 26,
   "id": "b1725df0",
   "metadata": {},
   "outputs": [
    {
     "data": {
      "text/html": [
       "<ol class=list-inline>\n",
       "\t<li>'sunday'</li>\n",
       "\t<li>'monday'</li>\n",
       "\t<li>'tuesday'</li>\n",
       "\t<li>'wednesday'</li>\n",
       "\t<li>'thursday'</li>\n",
       "\t<li>'friday'</li>\n",
       "\t<li>'saturday'</li>\n",
       "\t<li>'wednesday'</li>\n",
       "\t<li>'tuesday'</li>\n",
       "\t<li>'thursday'</li>\n",
       "\t<li>'wednesday'</li>\n",
       "</ol>\n"
      ],
      "text/latex": [
       "\\begin{enumerate*}\n",
       "\\item 'sunday'\n",
       "\\item 'monday'\n",
       "\\item 'tuesday'\n",
       "\\item 'wednesday'\n",
       "\\item 'thursday'\n",
       "\\item 'friday'\n",
       "\\item 'saturday'\n",
       "\\item 'wednesday'\n",
       "\\item 'tuesday'\n",
       "\\item 'thursday'\n",
       "\\item 'wednesday'\n",
       "\\end{enumerate*}\n"
      ],
      "text/markdown": [
       "1. 'sunday'\n",
       "2. 'monday'\n",
       "3. 'tuesday'\n",
       "4. 'wednesday'\n",
       "5. 'thursday'\n",
       "6. 'friday'\n",
       "7. 'saturday'\n",
       "8. 'wednesday'\n",
       "9. 'tuesday'\n",
       "10. 'thursday'\n",
       "11. 'wednesday'\n",
       "\n",
       "\n"
      ],
      "text/plain": [
       " [1] \"sunday\"    \"monday\"    \"tuesday\"   \"wednesday\" \"thursday\"  \"friday\"   \n",
       " [7] \"saturday\"  \"wednesday\" \"tuesday\"   \"thursday\"  \"wednesday\""
      ]
     },
     "metadata": {},
     "output_type": "display_data"
    }
   ],
   "source": [
    "week = c(\"sunday\",\"monday\",\"tuesday\",\"wednesday\",\"thursday\",\"friday\",\"saturday\",\"wednesday\",\"tuesday\",\"thursday\",\"wednesday\")\n",
    "week"
   ]
  },
  {
   "cell_type": "code",
   "execution_count": 27,
   "id": "d97482fe",
   "metadata": {},
   "outputs": [
    {
     "data": {
      "text/plain": [
       "week\n",
       "   friday    monday  saturday    sunday  thursday   tuesday wednesday \n",
       "        1         1         1         1         2         2         3 "
      ]
     },
     "metadata": {},
     "output_type": "display_data"
    }
   ],
   "source": [
    "table(week)"
   ]
  },
  {
   "cell_type": "code",
   "execution_count": 28,
   "id": "6a0d3953",
   "metadata": {},
   "outputs": [
    {
     "data": {
      "text/plain": [
       "week\n",
       "   friday    monday  saturday    sunday  thursday   tuesday wednesday \n",
       " 9.090909  9.090909  9.090909  9.090909 18.181818 18.181818 27.272727 "
      ]
     },
     "metadata": {},
     "output_type": "display_data"
    }
   ],
   "source": [
    "prop.table(table(week))*100"
   ]
  },
  {
   "cell_type": "code",
   "execution_count": 29,
   "id": "fdd21787",
   "metadata": {},
   "outputs": [
    {
     "data": {
      "text/html": [
       "<ol class=list-inline>\n",
       "\t<li>sunday</li>\n",
       "\t<li>monday</li>\n",
       "\t<li>tuesday</li>\n",
       "\t<li>wednesday</li>\n",
       "\t<li>thursday</li>\n",
       "\t<li>friday</li>\n",
       "\t<li>saturday</li>\n",
       "\t<li>wednesday</li>\n",
       "\t<li>tuesday</li>\n",
       "\t<li>thursday</li>\n",
       "\t<li>wednesday</li>\n",
       "</ol>\n",
       "\n",
       "<details>\n",
       "\t<summary style=display:list-item;cursor:pointer>\n",
       "\t\t<strong>Levels</strong>:\n",
       "\t</summary>\n",
       "\t<ol class=list-inline>\n",
       "\t\t<li>'sunday'</li>\n",
       "\t\t<li>'monday'</li>\n",
       "\t\t<li>'tuesday'</li>\n",
       "\t\t<li>'wednesday'</li>\n",
       "\t\t<li>'thursday'</li>\n",
       "\t\t<li>'friday'</li>\n",
       "\t\t<li>'saturday'</li>\n",
       "\t</ol>\n",
       "</details>"
      ],
      "text/latex": [
       "\\begin{enumerate*}\n",
       "\\item sunday\n",
       "\\item monday\n",
       "\\item tuesday\n",
       "\\item wednesday\n",
       "\\item thursday\n",
       "\\item friday\n",
       "\\item saturday\n",
       "\\item wednesday\n",
       "\\item tuesday\n",
       "\\item thursday\n",
       "\\item wednesday\n",
       "\\end{enumerate*}\n",
       "\n",
       "\\emph{Levels}: \\begin{enumerate*}\n",
       "\\item 'sunday'\n",
       "\\item 'monday'\n",
       "\\item 'tuesday'\n",
       "\\item 'wednesday'\n",
       "\\item 'thursday'\n",
       "\\item 'friday'\n",
       "\\item 'saturday'\n",
       "\\end{enumerate*}\n"
      ],
      "text/markdown": [
       "1. sunday\n",
       "2. monday\n",
       "3. tuesday\n",
       "4. wednesday\n",
       "5. thursday\n",
       "6. friday\n",
       "7. saturday\n",
       "8. wednesday\n",
       "9. tuesday\n",
       "10. thursday\n",
       "11. wednesday\n",
       "\n",
       "\n",
       "\n",
       "**Levels**: 1. 'sunday'\n",
       "2. 'monday'\n",
       "3. 'tuesday'\n",
       "4. 'wednesday'\n",
       "5. 'thursday'\n",
       "6. 'friday'\n",
       "7. 'saturday'\n",
       "\n",
       "\n"
      ],
      "text/plain": [
       " [1] sunday    monday    tuesday   wednesday thursday  friday    saturday \n",
       " [8] wednesday tuesday   thursday  wednesday\n",
       "7 Levels: sunday < monday < tuesday < wednesday < thursday < ... < saturday"
      ]
     },
     "metadata": {},
     "output_type": "display_data"
    }
   ],
   "source": [
    "week_ordered = factor(week, levels=c(\"sunday\",\"monday\",\"tuesday\",\"wednesday\",\"thursday\",\"friday\",\"saturday\"), ordered=TRUE)\n",
    "week_ordered"
   ]
  },
  {
   "cell_type": "code",
   "execution_count": 30,
   "id": "55bd81f3",
   "metadata": {},
   "outputs": [
    {
     "data": {
      "text/plain": [
       "week_ordered\n",
       "   sunday    monday   tuesday wednesday  thursday    friday  saturday \n",
       "        1         1         2         3         2         1         1 "
      ]
     },
     "metadata": {},
     "output_type": "display_data"
    }
   ],
   "source": [
    "table(week_ordered)"
   ]
  },
  {
   "cell_type": "code",
   "execution_count": 31,
   "id": "9f929a68",
   "metadata": {},
   "outputs": [
    {
     "data": {
      "text/plain": [
       "week_ordered\n",
       "    sunday     monday    tuesday  wednesday   thursday     friday   saturday \n",
       "0.09090909 0.09090909 0.18181818 0.27272727 0.18181818 0.09090909 0.09090909 "
      ]
     },
     "metadata": {},
     "output_type": "display_data"
    }
   ],
   "source": [
    "prop.table(table(week_ordered))"
   ]
  },
  {
   "cell_type": "code",
   "execution_count": 32,
   "id": "00c602d9",
   "metadata": {},
   "outputs": [
    {
     "data": {
      "text/plain": [
       "week_ordered\n",
       "    sunday     monday     friday   saturday    tuesday   thursday  wednesday \n",
       "0.09090909 0.09090909 0.09090909 0.09090909 0.18181818 0.18181818 0.27272727 "
      ]
     },
     "metadata": {},
     "output_type": "display_data"
    }
   ],
   "source": [
    "sort(prop.table(table(week_ordered))) # increasing order by default"
   ]
  },
  {
   "cell_type": "code",
   "execution_count": 33,
   "id": "b783c52b",
   "metadata": {},
   "outputs": [
    {
     "data": {
      "text/plain": [
       "week_ordered\n",
       " wednesday    tuesday   thursday     sunday     monday     friday   saturday \n",
       "0.27272727 0.18181818 0.18181818 0.09090909 0.09090909 0.09090909 0.09090909 "
      ]
     },
     "metadata": {},
     "output_type": "display_data"
    }
   ],
   "source": [
    "sort(prop.table(table(week_ordered)), decreasing = TRUE) # decreasing order"
   ]
  },
  {
   "cell_type": "code",
   "execution_count": 35,
   "id": "985427f6",
   "metadata": {},
   "outputs": [],
   "source": [
    "\n",
    "# Create the data frame.\n",
    "emp.data <- data.frame(emp_id = c (1:5),\n",
    "                       emp_name = c(\"john\",\"marsh\",\"mitchell\",\"lara\",\"peter\"),\n",
    "                       salary = c(6213,1515,4113,3729,2843),\n",
    "                       joining_date = as.Date(c(\"2012-12-01\",\"2014-07-23\",\"2012-11-15\",\"2015-05-11\",\"2016-03-27\")),\n",
    "                       stringsAsFactors=FALSE )"
   ]
  },
  {
   "cell_type": "code",
   "execution_count": 36,
   "id": "3c91e926",
   "metadata": {},
   "outputs": [
    {
     "data": {
      "text/html": [
       "<table>\n",
       "<thead><tr><th scope=col>emp_id</th><th scope=col>emp_name</th><th scope=col>salary</th><th scope=col>joining_date</th></tr></thead>\n",
       "<tbody>\n",
       "\t<tr><td>1         </td><td>john      </td><td>6213      </td><td>2012-12-01</td></tr>\n",
       "\t<tr><td>2         </td><td>marsh     </td><td>1515      </td><td>2014-07-23</td></tr>\n",
       "\t<tr><td>3         </td><td>mitchell  </td><td>4113      </td><td>2012-11-15</td></tr>\n",
       "\t<tr><td>4         </td><td>lara      </td><td>3729      </td><td>2015-05-11</td></tr>\n",
       "\t<tr><td>5         </td><td>peter     </td><td>2843      </td><td>2016-03-27</td></tr>\n",
       "</tbody>\n",
       "</table>\n"
      ],
      "text/latex": [
       "\\begin{tabular}{r|llll}\n",
       " emp\\_id & emp\\_name & salary & joining\\_date\\\\\n",
       "\\hline\n",
       "\t 1          & john       & 6213       & 2012-12-01\\\\\n",
       "\t 2          & marsh      & 1515       & 2014-07-23\\\\\n",
       "\t 3          & mitchell   & 4113       & 2012-11-15\\\\\n",
       "\t 4          & lara       & 3729       & 2015-05-11\\\\\n",
       "\t 5          & peter      & 2843       & 2016-03-27\\\\\n",
       "\\end{tabular}\n"
      ],
      "text/markdown": [
       "\n",
       "| emp_id | emp_name | salary | joining_date |\n",
       "|---|---|---|---|\n",
       "| 1          | john       | 6213       | 2012-12-01 |\n",
       "| 2          | marsh      | 1515       | 2014-07-23 |\n",
       "| 3          | mitchell   | 4113       | 2012-11-15 |\n",
       "| 4          | lara       | 3729       | 2015-05-11 |\n",
       "| 5          | peter      | 2843       | 2016-03-27 |\n",
       "\n"
      ],
      "text/plain": [
       "  emp_id emp_name salary joining_date\n",
       "1 1      john     6213   2012-12-01  \n",
       "2 2      marsh    1515   2014-07-23  \n",
       "3 3      mitchell 4113   2012-11-15  \n",
       "4 4      lara     3729   2015-05-11  \n",
       "5 5      peter    2843   2016-03-27  "
      ]
     },
     "metadata": {},
     "output_type": "display_data"
    }
   ],
   "source": [
    "emp.data"
   ]
  },
  {
   "cell_type": "code",
   "execution_count": 37,
   "id": "5a91f044",
   "metadata": {},
   "outputs": [
    {
     "data": {
      "text/html": [
       "<table>\n",
       "<thead><tr><th scope=col>emp_id</th><th scope=col>emp_name</th><th scope=col>salary</th><th scope=col>joining_date</th></tr></thead>\n",
       "<tbody>\n",
       "\t<tr><td>1         </td><td>john      </td><td>6213      </td><td>2012-12-01</td></tr>\n",
       "\t<tr><td>2         </td><td>marsh     </td><td>1515      </td><td>2014-07-23</td></tr>\n",
       "</tbody>\n",
       "</table>\n"
      ],
      "text/latex": [
       "\\begin{tabular}{r|llll}\n",
       " emp\\_id & emp\\_name & salary & joining\\_date\\\\\n",
       "\\hline\n",
       "\t 1          & john       & 6213       & 2012-12-01\\\\\n",
       "\t 2          & marsh      & 1515       & 2014-07-23\\\\\n",
       "\\end{tabular}\n"
      ],
      "text/markdown": [
       "\n",
       "| emp_id | emp_name | salary | joining_date |\n",
       "|---|---|---|---|\n",
       "| 1          | john       | 6213       | 2012-12-01 |\n",
       "| 2          | marsh      | 1515       | 2014-07-23 |\n",
       "\n"
      ],
      "text/plain": [
       "  emp_id emp_name salary joining_date\n",
       "1 1      john     6213   2012-12-01  \n",
       "2 2      marsh    1515   2014-07-23  "
      ]
     },
     "metadata": {},
     "output_type": "display_data"
    }
   ],
   "source": [
    "emp.data[1:2, ] # accessing 1st 2 cols & all rows"
   ]
  },
  {
   "cell_type": "code",
   "execution_count": 38,
   "id": "bc442347",
   "metadata": {},
   "outputs": [
    {
     "data": {
      "text/html": [
       "<table>\n",
       "<thead><tr><th scope=col>emp_id</th><th scope=col>emp_name</th><th scope=col>salary</th></tr></thead>\n",
       "<tbody>\n",
       "\t<tr><td>1       </td><td>john    </td><td>6213    </td></tr>\n",
       "\t<tr><td>2       </td><td>marsh   </td><td>1515    </td></tr>\n",
       "\t<tr><td>3       </td><td>mitchell</td><td>4113    </td></tr>\n",
       "\t<tr><td>4       </td><td>lara    </td><td>3729    </td></tr>\n",
       "\t<tr><td>5       </td><td>peter   </td><td>2843    </td></tr>\n",
       "</tbody>\n",
       "</table>\n"
      ],
      "text/latex": [
       "\\begin{tabular}{r|lll}\n",
       " emp\\_id & emp\\_name & salary\\\\\n",
       "\\hline\n",
       "\t 1        & john     & 6213    \\\\\n",
       "\t 2        & marsh    & 1515    \\\\\n",
       "\t 3        & mitchell & 4113    \\\\\n",
       "\t 4        & lara     & 3729    \\\\\n",
       "\t 5        & peter    & 2843    \\\\\n",
       "\\end{tabular}\n"
      ],
      "text/markdown": [
       "\n",
       "| emp_id | emp_name | salary |\n",
       "|---|---|---|\n",
       "| 1        | john     | 6213     |\n",
       "| 2        | marsh    | 1515     |\n",
       "| 3        | mitchell | 4113     |\n",
       "| 4        | lara     | 3729     |\n",
       "| 5        | peter    | 2843     |\n",
       "\n"
      ],
      "text/plain": [
       "  emp_id emp_name salary\n",
       "1 1      john     6213  \n",
       "2 2      marsh    1515  \n",
       "3 3      mitchell 4113  \n",
       "4 4      lara     3729  \n",
       "5 5      peter    2843  "
      ]
     },
     "metadata": {},
     "output_type": "display_data"
    }
   ],
   "source": [
    "emp.data[ ,1:3] # accessing all rows & 1st 3 cols"
   ]
  },
  {
   "cell_type": "code",
   "execution_count": 39,
   "id": "f6a75d0f",
   "metadata": {},
   "outputs": [
    {
     "data": {
      "text/html": [
       "<table>\n",
       "<thead><tr><th></th><th scope=col>emp_name</th><th scope=col>joining_date</th></tr></thead>\n",
       "<tbody>\n",
       "\t<tr><th scope=row>3</th><td>mitchell  </td><td>2012-11-15</td></tr>\n",
       "\t<tr><th scope=row>5</th><td>peter     </td><td>2016-03-27</td></tr>\n",
       "</tbody>\n",
       "</table>\n"
      ],
      "text/latex": [
       "\\begin{tabular}{r|ll}\n",
       "  & emp\\_name & joining\\_date\\\\\n",
       "\\hline\n",
       "\t3 & mitchell   & 2012-11-15\\\\\n",
       "\t5 & peter      & 2016-03-27\\\\\n",
       "\\end{tabular}\n"
      ],
      "text/markdown": [
       "\n",
       "| <!--/--> | emp_name | joining_date |\n",
       "|---|---|---|\n",
       "| 3 | mitchell   | 2012-11-15 |\n",
       "| 5 | peter      | 2016-03-27 |\n",
       "\n"
      ],
      "text/plain": [
       "  emp_name joining_date\n",
       "3 mitchell 2012-11-15  \n",
       "5 peter    2016-03-27  "
      ]
     },
     "metadata": {},
     "output_type": "display_data"
    }
   ],
   "source": [
    "emp.data[c(3,5),c(2,4)] # accessing 3,5 rows and 2,4 cols"
   ]
  },
  {
   "cell_type": "code",
   "execution_count": 40,
   "id": "9ff1e0a7",
   "metadata": {},
   "outputs": [
    {
     "data": {
      "text/html": [
       "<table>\n",
       "<thead><tr><th scope=col>emp_id</th><th scope=col>emp_name</th><th scope=col>salary</th><th scope=col>joining_date</th><th scope=col>dept</th></tr></thead>\n",
       "<tbody>\n",
       "\t<tr><td>1         </td><td>john      </td><td>6213      </td><td>2012-12-01</td><td>IT        </td></tr>\n",
       "\t<tr><td>2         </td><td>marsh     </td><td>1515      </td><td>2014-07-23</td><td>Operations</td></tr>\n",
       "\t<tr><td>3         </td><td>mitchell  </td><td>4113      </td><td>2012-11-15</td><td>IT        </td></tr>\n",
       "\t<tr><td>4         </td><td>lara      </td><td>3729      </td><td>2015-05-11</td><td>HR        </td></tr>\n",
       "\t<tr><td>5         </td><td>peter     </td><td>2843      </td><td>2016-03-27</td><td>Finance   </td></tr>\n",
       "</tbody>\n",
       "</table>\n"
      ],
      "text/latex": [
       "\\begin{tabular}{r|lllll}\n",
       " emp\\_id & emp\\_name & salary & joining\\_date & dept\\\\\n",
       "\\hline\n",
       "\t 1          & john       & 6213       & 2012-12-01 & IT        \\\\\n",
       "\t 2          & marsh      & 1515       & 2014-07-23 & Operations\\\\\n",
       "\t 3          & mitchell   & 4113       & 2012-11-15 & IT        \\\\\n",
       "\t 4          & lara       & 3729       & 2015-05-11 & HR        \\\\\n",
       "\t 5          & peter      & 2843       & 2016-03-27 & Finance   \\\\\n",
       "\\end{tabular}\n"
      ],
      "text/markdown": [
       "\n",
       "| emp_id | emp_name | salary | joining_date | dept |\n",
       "|---|---|---|---|---|\n",
       "| 1          | john       | 6213       | 2012-12-01 | IT         |\n",
       "| 2          | marsh      | 1515       | 2014-07-23 | Operations |\n",
       "| 3          | mitchell   | 4113       | 2012-11-15 | IT         |\n",
       "| 4          | lara       | 3729       | 2015-05-11 | HR         |\n",
       "| 5          | peter      | 2843       | 2016-03-27 | Finance    |\n",
       "\n"
      ],
      "text/plain": [
       "  emp_id emp_name salary joining_date dept      \n",
       "1 1      john     6213   2012-12-01   IT        \n",
       "2 2      marsh    1515   2014-07-23   Operations\n",
       "3 3      mitchell 4113   2012-11-15   IT        \n",
       "4 4      lara     3729   2015-05-11   HR        \n",
       "5 5      peter    2843   2016-03-27   Finance   "
      ]
     },
     "metadata": {},
     "output_type": "display_data"
    }
   ],
   "source": [
    "# cbind \n",
    "# adding col without cbind\n",
    "emp.data$dept <- c(\"IT\",\"Operations\",\"IT\",\"HR\",\"Finance\") # adding the \"dept\" column\n",
    "emp.data"
   ]
  },
  {
   "cell_type": "code",
   "execution_count": 41,
   "id": "51dfbfd2",
   "metadata": {},
   "outputs": [
    {
     "data": {
      "text/html": [
       "<table>\n",
       "<thead><tr><th scope=col>emp_id</th><th scope=col>emp_name</th><th scope=col>salary</th><th scope=col>joining_date</th><th scope=col>dept</th><th scope=col>designation</th></tr></thead>\n",
       "<tbody>\n",
       "\t<tr><td>1                   </td><td>john                </td><td>6213                </td><td>2012-12-01          </td><td>IT                  </td><td>Entry level         </td></tr>\n",
       "\t<tr><td>2                   </td><td>marsh               </td><td>1515                </td><td>2014-07-23          </td><td>Operations          </td><td>Manager             </td></tr>\n",
       "\t<tr><td>3                   </td><td>mitchell            </td><td>4113                </td><td>2012-11-15          </td><td>IT                  </td><td>Technical specialist</td></tr>\n",
       "\t<tr><td>4                   </td><td>lara                </td><td>3729                </td><td>2015-05-11          </td><td>HR                  </td><td>Entry level         </td></tr>\n",
       "\t<tr><td>5                   </td><td>peter               </td><td>2843                </td><td>2016-03-27          </td><td>Finance             </td><td>Senior Level        </td></tr>\n",
       "</tbody>\n",
       "</table>\n"
      ],
      "text/latex": [
       "\\begin{tabular}{r|llllll}\n",
       " emp\\_id & emp\\_name & salary & joining\\_date & dept & designation\\\\\n",
       "\\hline\n",
       "\t 1                    & john                 & 6213                 & 2012-12-01           & IT                   & Entry level         \\\\\n",
       "\t 2                    & marsh                & 1515                 & 2014-07-23           & Operations           & Manager             \\\\\n",
       "\t 3                    & mitchell             & 4113                 & 2012-11-15           & IT                   & Technical specialist\\\\\n",
       "\t 4                    & lara                 & 3729                 & 2015-05-11           & HR                   & Entry level         \\\\\n",
       "\t 5                    & peter                & 2843                 & 2016-03-27           & Finance              & Senior Level        \\\\\n",
       "\\end{tabular}\n"
      ],
      "text/markdown": [
       "\n",
       "| emp_id | emp_name | salary | joining_date | dept | designation |\n",
       "|---|---|---|---|---|---|\n",
       "| 1                    | john                 | 6213                 | 2012-12-01           | IT                   | Entry level          |\n",
       "| 2                    | marsh                | 1515                 | 2014-07-23           | Operations           | Manager              |\n",
       "| 3                    | mitchell             | 4113                 | 2012-11-15           | IT                   | Technical specialist |\n",
       "| 4                    | lara                 | 3729                 | 2015-05-11           | HR                   | Entry level          |\n",
       "| 5                    | peter                | 2843                 | 2016-03-27           | Finance              | Senior Level         |\n",
       "\n"
      ],
      "text/plain": [
       "  emp_id emp_name salary joining_date dept       designation         \n",
       "1 1      john     6213   2012-12-01   IT         Entry level         \n",
       "2 2      marsh    1515   2014-07-23   Operations Manager             \n",
       "3 3      mitchell 4113   2012-11-15   IT         Technical specialist\n",
       "4 4      lara     3729   2015-05-11   HR         Entry level         \n",
       "5 5      peter    2843   2016-03-27   Finance    Senior Level        "
      ]
     },
     "metadata": {},
     "output_type": "display_data"
    }
   ],
   "source": [
    "# adding col using cbind\n",
    "designation <- c (\"Entry level\",\"Manager\",\"Technical specialist\",\"Entry level\",\"Senior Level\")\n",
    "emp.table<-cbind(emp.data,designation)\n",
    "emp.table"
   ]
  },
  {
   "cell_type": "code",
   "execution_count": 42,
   "id": "6286247f",
   "metadata": {},
   "outputs": [
    {
     "data": {
      "text/html": [
       "<table>\n",
       "<thead><tr><th scope=col>designation</th><th scope=col>emp_id</th><th scope=col>emp_name</th><th scope=col>salary</th><th scope=col>joining_date</th><th scope=col>dept</th></tr></thead>\n",
       "<tbody>\n",
       "\t<tr><td>Entry level         </td><td>1                   </td><td>john                </td><td>6213                </td><td>2012-12-01          </td><td>IT                  </td></tr>\n",
       "\t<tr><td>Manager             </td><td>2                   </td><td>marsh               </td><td>1515                </td><td>2014-07-23          </td><td>Operations          </td></tr>\n",
       "\t<tr><td>Technical specialist</td><td>3                   </td><td>mitchell            </td><td>4113                </td><td>2012-11-15          </td><td>IT                  </td></tr>\n",
       "\t<tr><td>Entry level         </td><td>4                   </td><td>lara                </td><td>3729                </td><td>2015-05-11          </td><td>HR                  </td></tr>\n",
       "\t<tr><td>Senior Level        </td><td>5                   </td><td>peter               </td><td>2843                </td><td>2016-03-27          </td><td>Finance             </td></tr>\n",
       "</tbody>\n",
       "</table>\n"
      ],
      "text/latex": [
       "\\begin{tabular}{r|llllll}\n",
       " designation & emp\\_id & emp\\_name & salary & joining\\_date & dept\\\\\n",
       "\\hline\n",
       "\t Entry level          & 1                    & john                 & 6213                 & 2012-12-01           & IT                  \\\\\n",
       "\t Manager              & 2                    & marsh                & 1515                 & 2014-07-23           & Operations          \\\\\n",
       "\t Technical specialist & 3                    & mitchell             & 4113                 & 2012-11-15           & IT                  \\\\\n",
       "\t Entry level          & 4                    & lara                 & 3729                 & 2015-05-11           & HR                  \\\\\n",
       "\t Senior Level         & 5                    & peter                & 2843                 & 2016-03-27           & Finance             \\\\\n",
       "\\end{tabular}\n"
      ],
      "text/markdown": [
       "\n",
       "| designation | emp_id | emp_name | salary | joining_date | dept |\n",
       "|---|---|---|---|---|---|\n",
       "| Entry level          | 1                    | john                 | 6213                 | 2012-12-01           | IT                   |\n",
       "| Manager              | 2                    | marsh                | 1515                 | 2014-07-23           | Operations           |\n",
       "| Technical specialist | 3                    | mitchell             | 4113                 | 2012-11-15           | IT                   |\n",
       "| Entry level          | 4                    | lara                 | 3729                 | 2015-05-11           | HR                   |\n",
       "| Senior Level         | 5                    | peter                | 2843                 | 2016-03-27           | Finance              |\n",
       "\n"
      ],
      "text/plain": [
       "  designation          emp_id emp_name salary joining_date dept      \n",
       "1 Entry level          1      john     6213   2012-12-01   IT        \n",
       "2 Manager              2      marsh    1515   2014-07-23   Operations\n",
       "3 Technical specialist 3      mitchell 4113   2012-11-15   IT        \n",
       "4 Entry level          4      lara     3729   2015-05-11   HR        \n",
       "5 Senior Level         5      peter    2843   2016-03-27   Finance   "
      ]
     },
     "metadata": {},
     "output_type": "display_data"
    }
   ],
   "source": [
    "emp1 <- cbind(designation, emp.data)\n",
    "emp1"
   ]
  },
  {
   "cell_type": "code",
   "execution_count": 43,
   "id": "f50664c9",
   "metadata": {},
   "outputs": [
    {
     "data": {
      "text/html": [
       "<ol class=list-inline>\n",
       "\t<li>'designation'</li>\n",
       "\t<li>'emp_id'</li>\n",
       "\t<li>'emp_name'</li>\n",
       "\t<li>'salary'</li>\n",
       "\t<li>'joining_date'</li>\n",
       "\t<li>'dept'</li>\n",
       "</ol>\n"
      ],
      "text/latex": [
       "\\begin{enumerate*}\n",
       "\\item 'designation'\n",
       "\\item 'emp\\_id'\n",
       "\\item 'emp\\_name'\n",
       "\\item 'salary'\n",
       "\\item 'joining\\_date'\n",
       "\\item 'dept'\n",
       "\\end{enumerate*}\n"
      ],
      "text/markdown": [
       "1. 'designation'\n",
       "2. 'emp_id'\n",
       "3. 'emp_name'\n",
       "4. 'salary'\n",
       "5. 'joining_date'\n",
       "6. 'dept'\n",
       "\n",
       "\n"
      ],
      "text/plain": [
       "[1] \"designation\"  \"emp_id\"       \"emp_name\"     \"salary\"       \"joining_date\"\n",
       "[6] \"dept\"        "
      ]
     },
     "metadata": {},
     "output_type": "display_data"
    }
   ],
   "source": [
    "names(emp1)"
   ]
  },
  {
   "cell_type": "code",
   "execution_count": 44,
   "id": "a78dff4f",
   "metadata": {},
   "outputs": [
    {
     "data": {
      "text/html": [
       "<table>\n",
       "<thead><tr><th scope=col>emp_id</th><th scope=col>emp_name</th><th scope=col>designation</th><th scope=col>salary</th><th scope=col>joining_date</th><th scope=col>dept</th></tr></thead>\n",
       "<tbody>\n",
       "\t<tr><td>1                   </td><td>john                </td><td>Entry level         </td><td>6213                </td><td>2012-12-01          </td><td>IT                  </td></tr>\n",
       "\t<tr><td>2                   </td><td>marsh               </td><td>Manager             </td><td>1515                </td><td>2014-07-23          </td><td>Operations          </td></tr>\n",
       "\t<tr><td>3                   </td><td>mitchell            </td><td>Technical specialist</td><td>4113                </td><td>2012-11-15          </td><td>IT                  </td></tr>\n",
       "\t<tr><td>4                   </td><td>lara                </td><td>Entry level         </td><td>3729                </td><td>2015-05-11          </td><td>HR                  </td></tr>\n",
       "\t<tr><td>5                   </td><td>peter               </td><td>Senior Level        </td><td>2843                </td><td>2016-03-27          </td><td>Finance             </td></tr>\n",
       "</tbody>\n",
       "</table>\n"
      ],
      "text/latex": [
       "\\begin{tabular}{r|llllll}\n",
       " emp\\_id & emp\\_name & designation & salary & joining\\_date & dept\\\\\n",
       "\\hline\n",
       "\t 1                    & john                 & Entry level          & 6213                 & 2012-12-01           & IT                  \\\\\n",
       "\t 2                    & marsh                & Manager              & 1515                 & 2014-07-23           & Operations          \\\\\n",
       "\t 3                    & mitchell             & Technical specialist & 4113                 & 2012-11-15           & IT                  \\\\\n",
       "\t 4                    & lara                 & Entry level          & 3729                 & 2015-05-11           & HR                  \\\\\n",
       "\t 5                    & peter                & Senior Level         & 2843                 & 2016-03-27           & Finance             \\\\\n",
       "\\end{tabular}\n"
      ],
      "text/markdown": [
       "\n",
       "| emp_id | emp_name | designation | salary | joining_date | dept |\n",
       "|---|---|---|---|---|---|\n",
       "| 1                    | john                 | Entry level          | 6213                 | 2012-12-01           | IT                   |\n",
       "| 2                    | marsh                | Manager              | 1515                 | 2014-07-23           | Operations           |\n",
       "| 3                    | mitchell             | Technical specialist | 4113                 | 2012-11-15           | IT                   |\n",
       "| 4                    | lara                 | Entry level          | 3729                 | 2015-05-11           | HR                   |\n",
       "| 5                    | peter                | Senior Level         | 2843                 | 2016-03-27           | Finance              |\n",
       "\n"
      ],
      "text/plain": [
       "  emp_id emp_name designation          salary joining_date dept      \n",
       "1 1      john     Entry level          6213   2012-12-01   IT        \n",
       "2 2      marsh    Manager              1515   2014-07-23   Operations\n",
       "3 3      mitchell Technical specialist 4113   2012-11-15   IT        \n",
       "4 4      lara     Entry level          3729   2015-05-11   HR        \n",
       "5 5      peter    Senior Level         2843   2016-03-27   Finance   "
      ]
     },
     "metadata": {},
     "output_type": "display_data"
    }
   ],
   "source": [
    "emp1 = emp1[,c(2,3,1,4:6)]\n",
    "emp1"
   ]
  },
  {
   "cell_type": "code",
   "execution_count": 45,
   "id": "02322db0",
   "metadata": {},
   "outputs": [],
   "source": [
    "# rbind\n",
    "# Create the second data frame. \n",
    "emp.table.new <- data.frame(\n",
    "  emp_id = c (6:8),\n",
    "  emp_name = c(\"lila\",\"raj\",\"tera\"),\n",
    "  salary = c(2413,5415,6413),\n",
    "  joining_date = as.Date(c(\"2014-03-01\",\"2015-07-23\",\"2016-11-15\")),\n",
    "  dept=c(\"IT\",\"Finance\",\"Operartions\"),\n",
    "  designation = c(\"Manager\",\"Entry level\",\"Senior Level\"),\n",
    "  stringsAsFactors=FALSE\n",
    ")"
   ]
  },
  {
   "cell_type": "code",
   "execution_count": 46,
   "id": "fade9a8b",
   "metadata": {},
   "outputs": [
    {
     "data": {
      "text/html": [
       "<table>\n",
       "<thead><tr><th scope=col>emp_id</th><th scope=col>emp_name</th><th scope=col>salary</th><th scope=col>joining_date</th><th scope=col>dept</th><th scope=col>designation</th></tr></thead>\n",
       "<tbody>\n",
       "\t<tr><td>6           </td><td>lila        </td><td>2413        </td><td>2014-03-01  </td><td>IT          </td><td>Manager     </td></tr>\n",
       "\t<tr><td>7           </td><td>raj         </td><td>5415        </td><td>2015-07-23  </td><td>Finance     </td><td>Entry level </td></tr>\n",
       "\t<tr><td>8           </td><td>tera        </td><td>6413        </td><td>2016-11-15  </td><td>Operartions </td><td>Senior Level</td></tr>\n",
       "</tbody>\n",
       "</table>\n"
      ],
      "text/latex": [
       "\\begin{tabular}{r|llllll}\n",
       " emp\\_id & emp\\_name & salary & joining\\_date & dept & designation\\\\\n",
       "\\hline\n",
       "\t 6            & lila         & 2413         & 2014-03-01   & IT           & Manager     \\\\\n",
       "\t 7            & raj          & 5415         & 2015-07-23   & Finance      & Entry level \\\\\n",
       "\t 8            & tera         & 6413         & 2016-11-15   & Operartions  & Senior Level\\\\\n",
       "\\end{tabular}\n"
      ],
      "text/markdown": [
       "\n",
       "| emp_id | emp_name | salary | joining_date | dept | designation |\n",
       "|---|---|---|---|---|---|\n",
       "| 6            | lila         | 2413         | 2014-03-01   | IT           | Manager      |\n",
       "| 7            | raj          | 5415         | 2015-07-23   | Finance      | Entry level  |\n",
       "| 8            | tera         | 6413         | 2016-11-15   | Operartions  | Senior Level |\n",
       "\n"
      ],
      "text/plain": [
       "  emp_id emp_name salary joining_date dept        designation \n",
       "1 6      lila     2413   2014-03-01   IT          Manager     \n",
       "2 7      raj      5415   2015-07-23   Finance     Entry level \n",
       "3 8      tera     6413   2016-11-15   Operartions Senior Level"
      ]
     },
     "metadata": {},
     "output_type": "display_data"
    }
   ],
   "source": [
    "emp.table.new"
   ]
  },
  {
   "cell_type": "code",
   "execution_count": 47,
   "id": "3223f366",
   "metadata": {},
   "outputs": [
    {
     "data": {
      "text/html": [
       "<table>\n",
       "<thead><tr><th scope=col>emp_id</th><th scope=col>emp_name</th><th scope=col>salary</th><th scope=col>joining_date</th><th scope=col>dept</th><th scope=col>designation</th></tr></thead>\n",
       "<tbody>\n",
       "\t<tr><td>1                   </td><td>john                </td><td>6213                </td><td>2012-12-01          </td><td>IT                  </td><td>Entry level         </td></tr>\n",
       "\t<tr><td>2                   </td><td>marsh               </td><td>1515                </td><td>2014-07-23          </td><td>Operations          </td><td>Manager             </td></tr>\n",
       "\t<tr><td>3                   </td><td>mitchell            </td><td>4113                </td><td>2012-11-15          </td><td>IT                  </td><td>Technical specialist</td></tr>\n",
       "\t<tr><td>4                   </td><td>lara                </td><td>3729                </td><td>2015-05-11          </td><td>HR                  </td><td>Entry level         </td></tr>\n",
       "\t<tr><td>5                   </td><td>peter               </td><td>2843                </td><td>2016-03-27          </td><td>Finance             </td><td>Senior Level        </td></tr>\n",
       "\t<tr><td>6                   </td><td>lila                </td><td>2413                </td><td>2014-03-01          </td><td>IT                  </td><td>Manager             </td></tr>\n",
       "\t<tr><td>7                   </td><td>raj                 </td><td>5415                </td><td>2015-07-23          </td><td>Finance             </td><td>Entry level         </td></tr>\n",
       "\t<tr><td>8                   </td><td>tera                </td><td>6413                </td><td>2016-11-15          </td><td>Operartions         </td><td>Senior Level        </td></tr>\n",
       "</tbody>\n",
       "</table>\n"
      ],
      "text/latex": [
       "\\begin{tabular}{r|llllll}\n",
       " emp\\_id & emp\\_name & salary & joining\\_date & dept & designation\\\\\n",
       "\\hline\n",
       "\t 1                    & john                 & 6213                 & 2012-12-01           & IT                   & Entry level         \\\\\n",
       "\t 2                    & marsh                & 1515                 & 2014-07-23           & Operations           & Manager             \\\\\n",
       "\t 3                    & mitchell             & 4113                 & 2012-11-15           & IT                   & Technical specialist\\\\\n",
       "\t 4                    & lara                 & 3729                 & 2015-05-11           & HR                   & Entry level         \\\\\n",
       "\t 5                    & peter                & 2843                 & 2016-03-27           & Finance              & Senior Level        \\\\\n",
       "\t 6                    & lila                 & 2413                 & 2014-03-01           & IT                   & Manager             \\\\\n",
       "\t 7                    & raj                  & 5415                 & 2015-07-23           & Finance              & Entry level         \\\\\n",
       "\t 8                    & tera                 & 6413                 & 2016-11-15           & Operartions          & Senior Level        \\\\\n",
       "\\end{tabular}\n"
      ],
      "text/markdown": [
       "\n",
       "| emp_id | emp_name | salary | joining_date | dept | designation |\n",
       "|---|---|---|---|---|---|\n",
       "| 1                    | john                 | 6213                 | 2012-12-01           | IT                   | Entry level          |\n",
       "| 2                    | marsh                | 1515                 | 2014-07-23           | Operations           | Manager              |\n",
       "| 3                    | mitchell             | 4113                 | 2012-11-15           | IT                   | Technical specialist |\n",
       "| 4                    | lara                 | 3729                 | 2015-05-11           | HR                   | Entry level          |\n",
       "| 5                    | peter                | 2843                 | 2016-03-27           | Finance              | Senior Level         |\n",
       "| 6                    | lila                 | 2413                 | 2014-03-01           | IT                   | Manager              |\n",
       "| 7                    | raj                  | 5415                 | 2015-07-23           | Finance              | Entry level          |\n",
       "| 8                    | tera                 | 6413                 | 2016-11-15           | Operartions          | Senior Level         |\n",
       "\n"
      ],
      "text/plain": [
       "  emp_id emp_name salary joining_date dept        designation         \n",
       "1 1      john     6213   2012-12-01   IT          Entry level         \n",
       "2 2      marsh    1515   2014-07-23   Operations  Manager             \n",
       "3 3      mitchell 4113   2012-11-15   IT          Technical specialist\n",
       "4 4      lara     3729   2015-05-11   HR          Entry level         \n",
       "5 5      peter    2843   2016-03-27   Finance     Senior Level        \n",
       "6 6      lila     2413   2014-03-01   IT          Manager             \n",
       "7 7      raj      5415   2015-07-23   Finance     Entry level         \n",
       "8 8      tera     6413   2016-11-15   Operartions Senior Level        "
      ]
     },
     "metadata": {},
     "output_type": "display_data"
    }
   ],
   "source": [
    "# Binds the two data frames\n",
    "emp.table.final<- rbind(emp.table,emp.table.new)\n",
    "emp.table.final"
   ]
  },
  {
   "cell_type": "code",
   "execution_count": 48,
   "id": "c1bd4cbc",
   "metadata": {},
   "outputs": [
    {
     "data": {
      "text/html": [
       "<table>\n",
       "<thead><tr><th scope=col>CustomerId</th><th scope=col>Product</th></tr></thead>\n",
       "<tbody>\n",
       "\t<tr><td>1         </td><td>Oven      </td></tr>\n",
       "\t<tr><td>2         </td><td>Oven      </td></tr>\n",
       "\t<tr><td>3         </td><td>Oven      </td></tr>\n",
       "\t<tr><td>4         </td><td>Television</td></tr>\n",
       "\t<tr><td>5         </td><td>Television</td></tr>\n",
       "\t<tr><td>6         </td><td>Television</td></tr>\n",
       "</tbody>\n",
       "</table>\n"
      ],
      "text/latex": [
       "\\begin{tabular}{r|ll}\n",
       " CustomerId & Product\\\\\n",
       "\\hline\n",
       "\t 1          & Oven      \\\\\n",
       "\t 2          & Oven      \\\\\n",
       "\t 3          & Oven      \\\\\n",
       "\t 4          & Television\\\\\n",
       "\t 5          & Television\\\\\n",
       "\t 6          & Television\\\\\n",
       "\\end{tabular}\n"
      ],
      "text/markdown": [
       "\n",
       "| CustomerId | Product |\n",
       "|---|---|\n",
       "| 1          | Oven       |\n",
       "| 2          | Oven       |\n",
       "| 3          | Oven       |\n",
       "| 4          | Television |\n",
       "| 5          | Television |\n",
       "| 6          | Television |\n",
       "\n"
      ],
      "text/plain": [
       "  CustomerId Product   \n",
       "1 1          Oven      \n",
       "2 2          Oven      \n",
       "3 3          Oven      \n",
       "4 4          Television\n",
       "5 5          Television\n",
       "6 6          Television"
      ]
     },
     "metadata": {},
     "output_type": "display_data"
    }
   ],
   "source": [
    "# Join (Merge) data frames (inner, outer, left, right) \n",
    "df1 = data.frame(CustomerId = c(1:6), Product = c(rep(\"Oven\", 3), rep(\"Television\", 3)))\n",
    "df1"
   ]
  },
  {
   "cell_type": "code",
   "execution_count": 49,
   "id": "a8e89460",
   "metadata": {},
   "outputs": [
    {
     "data": {
      "text/html": [
       "<table>\n",
       "<thead><tr><th scope=col>CustomerId</th><th scope=col>State</th></tr></thead>\n",
       "<tbody>\n",
       "\t<tr><td>2         </td><td>California</td></tr>\n",
       "\t<tr><td>4         </td><td>California</td></tr>\n",
       "\t<tr><td>6         </td><td>Texas     </td></tr>\n",
       "</tbody>\n",
       "</table>\n"
      ],
      "text/latex": [
       "\\begin{tabular}{r|ll}\n",
       " CustomerId & State\\\\\n",
       "\\hline\n",
       "\t 2          & California\\\\\n",
       "\t 4          & California\\\\\n",
       "\t 6          & Texas     \\\\\n",
       "\\end{tabular}\n"
      ],
      "text/markdown": [
       "\n",
       "| CustomerId | State |\n",
       "|---|---|\n",
       "| 2          | California |\n",
       "| 4          | California |\n",
       "| 6          | Texas      |\n",
       "\n"
      ],
      "text/plain": [
       "  CustomerId State     \n",
       "1 2          California\n",
       "2 4          California\n",
       "3 6          Texas     "
      ]
     },
     "metadata": {},
     "output_type": "display_data"
    }
   ],
   "source": [
    "df2 = data.frame(CustomerId = c(2, 4, 6), State = c(rep(\"California\", 2), rep(\"Texas\", 1)))\n",
    "df2"
   ]
  },
  {
   "cell_type": "code",
   "execution_count": 50,
   "id": "a365d12e",
   "metadata": {},
   "outputs": [
    {
     "data": {
      "text/html": [
       "<table>\n",
       "<thead><tr><th scope=col>CustomerId</th><th scope=col>Product</th><th scope=col>State</th></tr></thead>\n",
       "<tbody>\n",
       "\t<tr><td>2         </td><td>Oven      </td><td>California</td></tr>\n",
       "\t<tr><td>4         </td><td>Television</td><td>California</td></tr>\n",
       "\t<tr><td>6         </td><td>Television</td><td>Texas     </td></tr>\n",
       "</tbody>\n",
       "</table>\n"
      ],
      "text/latex": [
       "\\begin{tabular}{r|lll}\n",
       " CustomerId & Product & State\\\\\n",
       "\\hline\n",
       "\t 2          & Oven       & California\\\\\n",
       "\t 4          & Television & California\\\\\n",
       "\t 6          & Television & Texas     \\\\\n",
       "\\end{tabular}\n"
      ],
      "text/markdown": [
       "\n",
       "| CustomerId | Product | State |\n",
       "|---|---|---|\n",
       "| 2          | Oven       | California |\n",
       "| 4          | Television | California |\n",
       "| 6          | Television | Texas      |\n",
       "\n"
      ],
      "text/plain": [
       "  CustomerId Product    State     \n",
       "1 2          Oven       California\n",
       "2 4          Television California\n",
       "3 6          Television Texas     "
      ]
     },
     "metadata": {},
     "output_type": "display_data"
    }
   ],
   "source": [
    "# Merging happens based on the common column name in both the data sets\n",
    "# Inner Join\n",
    "df<-merge(x=df1,y=df2,by=\"CustomerId\")\n",
    "df"
   ]
  },
  {
   "cell_type": "code",
   "execution_count": 51,
   "id": "4887cf7b",
   "metadata": {},
   "outputs": [
    {
     "data": {
      "text/html": [
       "<table>\n",
       "<thead><tr><th scope=col>CustomerId</th><th scope=col>Product</th><th scope=col>State</th></tr></thead>\n",
       "<tbody>\n",
       "\t<tr><td>1         </td><td>Oven      </td><td>NA        </td></tr>\n",
       "\t<tr><td>2         </td><td>Oven      </td><td>California</td></tr>\n",
       "\t<tr><td>3         </td><td>Oven      </td><td>NA        </td></tr>\n",
       "\t<tr><td>4         </td><td>Television</td><td>California</td></tr>\n",
       "\t<tr><td>5         </td><td>Television</td><td>NA        </td></tr>\n",
       "\t<tr><td>6         </td><td>Television</td><td>Texas     </td></tr>\n",
       "</tbody>\n",
       "</table>\n"
      ],
      "text/latex": [
       "\\begin{tabular}{r|lll}\n",
       " CustomerId & Product & State\\\\\n",
       "\\hline\n",
       "\t 1          & Oven       & NA        \\\\\n",
       "\t 2          & Oven       & California\\\\\n",
       "\t 3          & Oven       & NA        \\\\\n",
       "\t 4          & Television & California\\\\\n",
       "\t 5          & Television & NA        \\\\\n",
       "\t 6          & Television & Texas     \\\\\n",
       "\\end{tabular}\n"
      ],
      "text/markdown": [
       "\n",
       "| CustomerId | Product | State |\n",
       "|---|---|---|\n",
       "| 1          | Oven       | NA         |\n",
       "| 2          | Oven       | California |\n",
       "| 3          | Oven       | NA         |\n",
       "| 4          | Television | California |\n",
       "| 5          | Television | NA         |\n",
       "| 6          | Television | Texas      |\n",
       "\n"
      ],
      "text/plain": [
       "  CustomerId Product    State     \n",
       "1 1          Oven       NA        \n",
       "2 2          Oven       California\n",
       "3 3          Oven       NA        \n",
       "4 4          Television California\n",
       "5 5          Television NA        \n",
       "6 6          Television Texas     "
      ]
     },
     "metadata": {},
     "output_type": "display_data"
    }
   ],
   "source": [
    "# Outer Join\n",
    "df<-merge(x=df1,y=df2,by=\"CustomerId\",all=TRUE)\n",
    "df"
   ]
  },
  {
   "cell_type": "code",
   "execution_count": 52,
   "id": "1919615a",
   "metadata": {},
   "outputs": [
    {
     "data": {
      "text/html": [
       "<table>\n",
       "<thead><tr><th scope=col>CustomerId</th><th scope=col>Product</th><th scope=col>State</th></tr></thead>\n",
       "<tbody>\n",
       "\t<tr><td>1         </td><td>Oven      </td><td>NA        </td></tr>\n",
       "\t<tr><td>2         </td><td>Oven      </td><td>California</td></tr>\n",
       "\t<tr><td>3         </td><td>Oven      </td><td>NA        </td></tr>\n",
       "\t<tr><td>4         </td><td>Television</td><td>California</td></tr>\n",
       "\t<tr><td>5         </td><td>Television</td><td>NA        </td></tr>\n",
       "\t<tr><td>6         </td><td>Television</td><td>Texas     </td></tr>\n",
       "</tbody>\n",
       "</table>\n"
      ],
      "text/latex": [
       "\\begin{tabular}{r|lll}\n",
       " CustomerId & Product & State\\\\\n",
       "\\hline\n",
       "\t 1          & Oven       & NA        \\\\\n",
       "\t 2          & Oven       & California\\\\\n",
       "\t 3          & Oven       & NA        \\\\\n",
       "\t 4          & Television & California\\\\\n",
       "\t 5          & Television & NA        \\\\\n",
       "\t 6          & Television & Texas     \\\\\n",
       "\\end{tabular}\n"
      ],
      "text/markdown": [
       "\n",
       "| CustomerId | Product | State |\n",
       "|---|---|---|\n",
       "| 1          | Oven       | NA         |\n",
       "| 2          | Oven       | California |\n",
       "| 3          | Oven       | NA         |\n",
       "| 4          | Television | California |\n",
       "| 5          | Television | NA         |\n",
       "| 6          | Television | Texas      |\n",
       "\n"
      ],
      "text/plain": [
       "  CustomerId Product    State     \n",
       "1 1          Oven       NA        \n",
       "2 2          Oven       California\n",
       "3 3          Oven       NA        \n",
       "4 4          Television California\n",
       "5 5          Television NA        \n",
       "6 6          Television Texas     "
      ]
     },
     "metadata": {},
     "output_type": "display_data"
    }
   ],
   "source": [
    "# Left outer join\n",
    "df<-merge(x=df1,y=df2,by=\"CustomerId\",all.x=TRUE)\n",
    "df"
   ]
  },
  {
   "cell_type": "code",
   "execution_count": 53,
   "id": "c8321658",
   "metadata": {},
   "outputs": [
    {
     "data": {
      "text/html": [
       "<table>\n",
       "<thead><tr><th scope=col>CustomerId</th><th scope=col>Product</th><th scope=col>State</th></tr></thead>\n",
       "<tbody>\n",
       "\t<tr><td>2         </td><td>Oven      </td><td>California</td></tr>\n",
       "\t<tr><td>4         </td><td>Television</td><td>California</td></tr>\n",
       "\t<tr><td>6         </td><td>Television</td><td>Texas     </td></tr>\n",
       "</tbody>\n",
       "</table>\n"
      ],
      "text/latex": [
       "\\begin{tabular}{r|lll}\n",
       " CustomerId & Product & State\\\\\n",
       "\\hline\n",
       "\t 2          & Oven       & California\\\\\n",
       "\t 4          & Television & California\\\\\n",
       "\t 6          & Television & Texas     \\\\\n",
       "\\end{tabular}\n"
      ],
      "text/markdown": [
       "\n",
       "| CustomerId | Product | State |\n",
       "|---|---|---|\n",
       "| 2          | Oven       | California |\n",
       "| 4          | Television | California |\n",
       "| 6          | Television | Texas      |\n",
       "\n"
      ],
      "text/plain": [
       "  CustomerId Product    State     \n",
       "1 2          Oven       California\n",
       "2 4          Television California\n",
       "3 6          Television Texas     "
      ]
     },
     "metadata": {},
     "output_type": "display_data"
    }
   ],
   "source": [
    "# Right outer join \n",
    "df<-merge(x=df1,y=df2,by=\"CustomerId\",all.y=TRUE)\n",
    "df"
   ]
  },
  {
   "cell_type": "code",
   "execution_count": 54,
   "id": "b8a08900",
   "metadata": {},
   "outputs": [
    {
     "data": {
      "text/html": [
       "<table>\n",
       "<thead><tr><th scope=col>CustomerId.x</th><th scope=col>Product</th><th scope=col>CustomerId.y</th><th scope=col>State</th></tr></thead>\n",
       "<tbody>\n",
       "\t<tr><td>1         </td><td>Oven      </td><td>2         </td><td>California</td></tr>\n",
       "\t<tr><td>2         </td><td>Oven      </td><td>2         </td><td>California</td></tr>\n",
       "\t<tr><td>3         </td><td>Oven      </td><td>2         </td><td>California</td></tr>\n",
       "\t<tr><td>4         </td><td>Television</td><td>2         </td><td>California</td></tr>\n",
       "\t<tr><td>5         </td><td>Television</td><td>2         </td><td>California</td></tr>\n",
       "\t<tr><td>6         </td><td>Television</td><td>2         </td><td>California</td></tr>\n",
       "\t<tr><td>1         </td><td>Oven      </td><td>4         </td><td>California</td></tr>\n",
       "\t<tr><td>2         </td><td>Oven      </td><td>4         </td><td>California</td></tr>\n",
       "\t<tr><td>3         </td><td>Oven      </td><td>4         </td><td>California</td></tr>\n",
       "\t<tr><td>4         </td><td>Television</td><td>4         </td><td>California</td></tr>\n",
       "\t<tr><td>5         </td><td>Television</td><td>4         </td><td>California</td></tr>\n",
       "\t<tr><td>6         </td><td>Television</td><td>4         </td><td>California</td></tr>\n",
       "\t<tr><td>1         </td><td>Oven      </td><td>6         </td><td>Texas     </td></tr>\n",
       "\t<tr><td>2         </td><td>Oven      </td><td>6         </td><td>Texas     </td></tr>\n",
       "\t<tr><td>3         </td><td>Oven      </td><td>6         </td><td>Texas     </td></tr>\n",
       "\t<tr><td>4         </td><td>Television</td><td>6         </td><td>Texas     </td></tr>\n",
       "\t<tr><td>5         </td><td>Television</td><td>6         </td><td>Texas     </td></tr>\n",
       "\t<tr><td>6         </td><td>Television</td><td>6         </td><td>Texas     </td></tr>\n",
       "</tbody>\n",
       "</table>\n"
      ],
      "text/latex": [
       "\\begin{tabular}{r|llll}\n",
       " CustomerId.x & Product & CustomerId.y & State\\\\\n",
       "\\hline\n",
       "\t 1          & Oven       & 2          & California\\\\\n",
       "\t 2          & Oven       & 2          & California\\\\\n",
       "\t 3          & Oven       & 2          & California\\\\\n",
       "\t 4          & Television & 2          & California\\\\\n",
       "\t 5          & Television & 2          & California\\\\\n",
       "\t 6          & Television & 2          & California\\\\\n",
       "\t 1          & Oven       & 4          & California\\\\\n",
       "\t 2          & Oven       & 4          & California\\\\\n",
       "\t 3          & Oven       & 4          & California\\\\\n",
       "\t 4          & Television & 4          & California\\\\\n",
       "\t 5          & Television & 4          & California\\\\\n",
       "\t 6          & Television & 4          & California\\\\\n",
       "\t 1          & Oven       & 6          & Texas     \\\\\n",
       "\t 2          & Oven       & 6          & Texas     \\\\\n",
       "\t 3          & Oven       & 6          & Texas     \\\\\n",
       "\t 4          & Television & 6          & Texas     \\\\\n",
       "\t 5          & Television & 6          & Texas     \\\\\n",
       "\t 6          & Television & 6          & Texas     \\\\\n",
       "\\end{tabular}\n"
      ],
      "text/markdown": [
       "\n",
       "| CustomerId.x | Product | CustomerId.y | State |\n",
       "|---|---|---|---|\n",
       "| 1          | Oven       | 2          | California |\n",
       "| 2          | Oven       | 2          | California |\n",
       "| 3          | Oven       | 2          | California |\n",
       "| 4          | Television | 2          | California |\n",
       "| 5          | Television | 2          | California |\n",
       "| 6          | Television | 2          | California |\n",
       "| 1          | Oven       | 4          | California |\n",
       "| 2          | Oven       | 4          | California |\n",
       "| 3          | Oven       | 4          | California |\n",
       "| 4          | Television | 4          | California |\n",
       "| 5          | Television | 4          | California |\n",
       "| 6          | Television | 4          | California |\n",
       "| 1          | Oven       | 6          | Texas      |\n",
       "| 2          | Oven       | 6          | Texas      |\n",
       "| 3          | Oven       | 6          | Texas      |\n",
       "| 4          | Television | 6          | Texas      |\n",
       "| 5          | Television | 6          | Texas      |\n",
       "| 6          | Television | 6          | Texas      |\n",
       "\n"
      ],
      "text/plain": [
       "   CustomerId.x Product    CustomerId.y State     \n",
       "1  1            Oven       2            California\n",
       "2  2            Oven       2            California\n",
       "3  3            Oven       2            California\n",
       "4  4            Television 2            California\n",
       "5  5            Television 2            California\n",
       "6  6            Television 2            California\n",
       "7  1            Oven       4            California\n",
       "8  2            Oven       4            California\n",
       "9  3            Oven       4            California\n",
       "10 4            Television 4            California\n",
       "11 5            Television 4            California\n",
       "12 6            Television 4            California\n",
       "13 1            Oven       6            Texas     \n",
       "14 2            Oven       6            Texas     \n",
       "15 3            Oven       6            Texas     \n",
       "16 4            Television 6            Texas     \n",
       "17 5            Television 6            Texas     \n",
       "18 6            Television 6            Texas     "
      ]
     },
     "metadata": {},
     "output_type": "display_data"
    }
   ],
   "source": [
    "# Cross join\n",
    "df<-merge(x = df1, y = df2, by = NULL)\n",
    "df"
   ]
  },
  {
   "cell_type": "code",
   "execution_count": 55,
   "id": "9ad64ace",
   "metadata": {},
   "outputs": [
    {
     "data": {
      "text/html": [
       "<table>\n",
       "<tbody>\n",
       "\t<tr><td>-0.1632593 </td><td>-1.2857900 </td><td>-1.2855603 </td><td>-1.02950362</td><td> 0.80981181</td><td>-2.5856709 </td></tr>\n",
       "\t<tr><td> 1.4376748 </td><td> 1.6021222 </td><td> 0.2380039 </td><td>-0.19653177</td><td> 0.24923142</td><td>-0.6795733 </td></tr>\n",
       "\t<tr><td>-1.5364953 </td><td>-1.3557490 </td><td>-0.6185171 </td><td>-1.24453991</td><td>-0.02617717</td><td> 1.4720634 </td></tr>\n",
       "\t<tr><td>-0.1311956 </td><td> 0.6094029 </td><td>-0.8530838 </td><td>-0.08314446</td><td>-1.38854329</td><td> 0.9247657 </td></tr>\n",
       "\t<tr><td>-0.3286450 </td><td>-0.2469997 </td><td> 0.1762401 </td><td> 1.65691975</td><td>-0.65746465</td><td>-0.2518602 </td></tr>\n",
       "</tbody>\n",
       "</table>\n"
      ],
      "text/latex": [
       "\\begin{tabular}{llllll}\n",
       "\t -0.1632593  & -1.2857900  & -1.2855603  & -1.02950362 &  0.80981181 & -2.5856709 \\\\\n",
       "\t  1.4376748  &  1.6021222  &  0.2380039  & -0.19653177 &  0.24923142 & -0.6795733 \\\\\n",
       "\t -1.5364953  & -1.3557490  & -0.6185171  & -1.24453991 & -0.02617717 &  1.4720634 \\\\\n",
       "\t -0.1311956  &  0.6094029  & -0.8530838  & -0.08314446 & -1.38854329 &  0.9247657 \\\\\n",
       "\t -0.3286450  & -0.2469997  &  0.1762401  &  1.65691975 & -0.65746465 & -0.2518602 \\\\\n",
       "\\end{tabular}\n"
      ],
      "text/markdown": [
       "\n",
       "| -0.1632593  | -1.2857900  | -1.2855603  | -1.02950362 |  0.80981181 | -2.5856709  |\n",
       "|  1.4376748  |  1.6021222  |  0.2380039  | -0.19653177 |  0.24923142 | -0.6795733  |\n",
       "| -1.5364953  | -1.3557490  | -0.6185171  | -1.24453991 | -0.02617717 |  1.4720634  |\n",
       "| -0.1311956  |  0.6094029  | -0.8530838  | -0.08314446 | -1.38854329 |  0.9247657  |\n",
       "| -0.3286450  | -0.2469997  |  0.1762401  |  1.65691975 | -0.65746465 | -0.2518602  |\n",
       "\n"
      ],
      "text/plain": [
       "     [,1]       [,2]       [,3]       [,4]        [,5]        [,6]      \n",
       "[1,] -0.1632593 -1.2857900 -1.2855603 -1.02950362  0.80981181 -2.5856709\n",
       "[2,]  1.4376748  1.6021222  0.2380039 -0.19653177  0.24923142 -0.6795733\n",
       "[3,] -1.5364953 -1.3557490 -0.6185171 -1.24453991 -0.02617717  1.4720634\n",
       "[4,] -0.1311956  0.6094029 -0.8530838 -0.08314446 -1.38854329  0.9247657\n",
       "[5,] -0.3286450 -0.2469997  0.1762401  1.65691975 -0.65746465 -0.2518602"
      ]
     },
     "metadata": {},
     "output_type": "display_data"
    }
   ],
   "source": [
    "# apply \n",
    "# Returns a vector or array or list of values obtained by applying a function to margins of an array or matrix.\n",
    "x <- matrix(rnorm(30), nrow=5, ncol=6)\n",
    "x"
   ]
  },
  {
   "cell_type": "code",
   "execution_count": 56,
   "id": "f2afe3cf",
   "metadata": {},
   "outputs": [
    {
     "data": {
      "text/html": [
       "<ol class=list-inline>\n",
       "\t<li>-5.53997237612369</li>\n",
       "\t<li>2.65092722623557</li>\n",
       "\t<li>-3.30941510111751</li>\n",
       "\t<li>-0.921798607599635</li>\n",
       "\t<li>0.348190379804249</li>\n",
       "</ol>\n"
      ],
      "text/latex": [
       "\\begin{enumerate*}\n",
       "\\item -5.53997237612369\n",
       "\\item 2.65092722623557\n",
       "\\item -3.30941510111751\n",
       "\\item -0.921798607599635\n",
       "\\item 0.348190379804249\n",
       "\\end{enumerate*}\n"
      ],
      "text/markdown": [
       "1. -5.53997237612369\n",
       "2. 2.65092722623557\n",
       "3. -3.30941510111751\n",
       "4. -0.921798607599635\n",
       "5. 0.348190379804249\n",
       "\n",
       "\n"
      ],
      "text/plain": [
       "[1] -5.5399724  2.6509272 -3.3094151 -0.9217986  0.3481904"
      ]
     },
     "metadata": {},
     "output_type": "display_data"
    }
   ],
   "source": [
    "apply(x, 1 ,sum)"
   ]
  },
  {
   "cell_type": "code",
   "execution_count": 57,
   "id": "9c324b6c",
   "metadata": {},
   "outputs": [
    {
     "data": {
      "text/html": [
       "<ol class=list-inline>\n",
       "\t<li>-0.721920357086651</li>\n",
       "\t<li>-0.677013629998725</li>\n",
       "\t<li>-2.34291721395885</li>\n",
       "\t<li>-0.896800011834651</li>\n",
       "\t<li>-1.01314189106769</li>\n",
       "\t<li>-1.12027537485445</li>\n",
       "</ol>\n"
      ],
      "text/latex": [
       "\\begin{enumerate*}\n",
       "\\item -0.721920357086651\n",
       "\\item -0.677013629998725\n",
       "\\item -2.34291721395885\n",
       "\\item -0.896800011834651\n",
       "\\item -1.01314189106769\n",
       "\\item -1.12027537485445\n",
       "\\end{enumerate*}\n"
      ],
      "text/markdown": [
       "1. -0.721920357086651\n",
       "2. -0.677013629998725\n",
       "3. -2.34291721395885\n",
       "4. -0.896800011834651\n",
       "5. -1.01314189106769\n",
       "6. -1.12027537485445\n",
       "\n",
       "\n"
      ],
      "text/plain": [
       "[1] -0.7219204 -0.6770136 -2.3429172 -0.8968000 -1.0131419 -1.1202754"
      ]
     },
     "metadata": {},
     "output_type": "display_data"
    }
   ],
   "source": [
    "apply(x, 2 ,sum)"
   ]
  },
  {
   "cell_type": "code",
   "execution_count": 58,
   "id": "6b0e2137",
   "metadata": {},
   "outputs": [
    {
     "data": {
      "text/html": [
       "<table>\n",
       "<tbody>\n",
       "\t<tr><td>-0.08162965</td><td>-0.6428950 </td><td>-0.64278015</td><td>-0.51475181</td><td> 0.40490590</td><td>-1.2928355 </td></tr>\n",
       "\t<tr><td> 0.71883739</td><td> 0.8010611 </td><td> 0.11900194</td><td>-0.09826588</td><td> 0.12461571</td><td>-0.3397866 </td></tr>\n",
       "\t<tr><td>-0.76824766</td><td>-0.6778745 </td><td>-0.30925854</td><td>-0.62226995</td><td>-0.01308859</td><td> 0.7360317 </td></tr>\n",
       "\t<tr><td>-0.06559778</td><td> 0.3047014 </td><td>-0.42654192</td><td>-0.04157223</td><td>-0.69427165</td><td> 0.4623828 </td></tr>\n",
       "\t<tr><td>-0.16432248</td><td>-0.1234998 </td><td> 0.08812007</td><td> 0.82845987</td><td>-0.32873233</td><td>-0.1259301 </td></tr>\n",
       "</tbody>\n",
       "</table>\n"
      ],
      "text/latex": [
       "\\begin{tabular}{llllll}\n",
       "\t -0.08162965 & -0.6428950  & -0.64278015 & -0.51475181 &  0.40490590 & -1.2928355 \\\\\n",
       "\t  0.71883739 &  0.8010611  &  0.11900194 & -0.09826588 &  0.12461571 & -0.3397866 \\\\\n",
       "\t -0.76824766 & -0.6778745  & -0.30925854 & -0.62226995 & -0.01308859 &  0.7360317 \\\\\n",
       "\t -0.06559778 &  0.3047014  & -0.42654192 & -0.04157223 & -0.69427165 &  0.4623828 \\\\\n",
       "\t -0.16432248 & -0.1234998  &  0.08812007 &  0.82845987 & -0.32873233 & -0.1259301 \\\\\n",
       "\\end{tabular}\n"
      ],
      "text/markdown": [
       "\n",
       "| -0.08162965 | -0.6428950  | -0.64278015 | -0.51475181 |  0.40490590 | -1.2928355  |\n",
       "|  0.71883739 |  0.8010611  |  0.11900194 | -0.09826588 |  0.12461571 | -0.3397866  |\n",
       "| -0.76824766 | -0.6778745  | -0.30925854 | -0.62226995 | -0.01308859 |  0.7360317  |\n",
       "| -0.06559778 |  0.3047014  | -0.42654192 | -0.04157223 | -0.69427165 |  0.4623828  |\n",
       "| -0.16432248 | -0.1234998  |  0.08812007 |  0.82845987 | -0.32873233 | -0.1259301  |\n",
       "\n"
      ],
      "text/plain": [
       "     [,1]        [,2]       [,3]        [,4]        [,5]        [,6]      \n",
       "[1,] -0.08162965 -0.6428950 -0.64278015 -0.51475181  0.40490590 -1.2928355\n",
       "[2,]  0.71883739  0.8010611  0.11900194 -0.09826588  0.12461571 -0.3397866\n",
       "[3,] -0.76824766 -0.6778745 -0.30925854 -0.62226995 -0.01308859  0.7360317\n",
       "[4,] -0.06559778  0.3047014 -0.42654192 -0.04157223 -0.69427165  0.4623828\n",
       "[5,] -0.16432248 -0.1234998  0.08812007  0.82845987 -0.32873233 -0.1259301"
      ]
     },
     "metadata": {},
     "output_type": "display_data"
    }
   ],
   "source": [
    "apply(x, 1:2, function(x) x/2)"
   ]
  },
  {
   "cell_type": "code",
   "execution_count": 59,
   "id": "00f72f3e",
   "metadata": {},
   "outputs": [
    {
     "data": {
      "text/html": [
       "<table>\n",
       "<tbody>\n",
       "\t<tr><td>1</td><td>4</td><td>7</td></tr>\n",
       "\t<tr><td>2</td><td>5</td><td>8</td></tr>\n",
       "\t<tr><td>3</td><td>6</td><td>9</td></tr>\n",
       "</tbody>\n",
       "</table>\n"
      ],
      "text/latex": [
       "\\begin{tabular}{lll}\n",
       "\t 1 & 4 & 7\\\\\n",
       "\t 2 & 5 & 8\\\\\n",
       "\t 3 & 6 & 9\\\\\n",
       "\\end{tabular}\n"
      ],
      "text/markdown": [
       "\n",
       "| 1 | 4 | 7 |\n",
       "| 2 | 5 | 8 |\n",
       "| 3 | 6 | 9 |\n",
       "\n"
      ],
      "text/plain": [
       "     [,1] [,2] [,3]\n",
       "[1,] 1    4    7   \n",
       "[2,] 2    5    8   \n",
       "[3,] 3    6    9   "
      ]
     },
     "metadata": {},
     "output_type": "display_data"
    },
    {
     "data": {
      "text/html": [
       "<table>\n",
       "<tbody>\n",
       "\t<tr><td>4 </td><td> 8</td><td>12</td></tr>\n",
       "\t<tr><td>5 </td><td> 9</td><td>13</td></tr>\n",
       "\t<tr><td>6 </td><td>10</td><td>14</td></tr>\n",
       "\t<tr><td>7 </td><td>11</td><td>15</td></tr>\n",
       "</tbody>\n",
       "</table>\n"
      ],
      "text/latex": [
       "\\begin{tabular}{lll}\n",
       "\t 4  &  8 & 12\\\\\n",
       "\t 5  &  9 & 13\\\\\n",
       "\t 6  & 10 & 14\\\\\n",
       "\t 7  & 11 & 15\\\\\n",
       "\\end{tabular}\n"
      ],
      "text/markdown": [
       "\n",
       "| 4  |  8 | 12 |\n",
       "| 5  |  9 | 13 |\n",
       "| 6  | 10 | 14 |\n",
       "| 7  | 11 | 15 |\n",
       "\n"
      ],
      "text/plain": [
       "     [,1] [,2] [,3]\n",
       "[1,] 4     8   12  \n",
       "[2,] 5     9   13  \n",
       "[3,] 6    10   14  \n",
       "[4,] 7    11   15  "
      ]
     },
     "metadata": {},
     "output_type": "display_data"
    },
    {
     "data": {
      "text/html": [
       "<table>\n",
       "<tbody>\n",
       "\t<tr><td> 8</td><td> 8</td></tr>\n",
       "\t<tr><td> 9</td><td> 9</td></tr>\n",
       "\t<tr><td>10</td><td>10</td></tr>\n",
       "</tbody>\n",
       "</table>\n"
      ],
      "text/latex": [
       "\\begin{tabular}{ll}\n",
       "\t  8 &  8\\\\\n",
       "\t  9 &  9\\\\\n",
       "\t 10 & 10\\\\\n",
       "\\end{tabular}\n"
      ],
      "text/markdown": [
       "\n",
       "|  8 |  8 |\n",
       "|  9 |  9 |\n",
       "| 10 | 10 |\n",
       "\n"
      ],
      "text/plain": [
       "     [,1] [,2]\n",
       "[1,]  8    8  \n",
       "[2,]  9    9  \n",
       "[3,] 10   10  "
      ]
     },
     "metadata": {},
     "output_type": "display_data"
    }
   ],
   "source": [
    "# lapply \n",
    "# lapply function takes list, vector or Data frame  as input and returns only list as output\n",
    "A <- matrix(1:9, 3,3)\n",
    "A\n",
    "B <- matrix(4:15, 4,3)\n",
    "B\n",
    "C <- matrix(8:10, 3,2)\n",
    "C"
   ]
  },
  {
   "cell_type": "code",
   "execution_count": 60,
   "id": "30671671",
   "metadata": {},
   "outputs": [
    {
     "data": {
      "text/html": [
       "<ol>\n",
       "\t<li><table>\n",
       "<tbody>\n",
       "\t<tr><td>1</td><td>4</td><td>7</td></tr>\n",
       "\t<tr><td>2</td><td>5</td><td>8</td></tr>\n",
       "\t<tr><td>3</td><td>6</td><td>9</td></tr>\n",
       "</tbody>\n",
       "</table>\n",
       "</li>\n",
       "\t<li><table>\n",
       "<tbody>\n",
       "\t<tr><td>4 </td><td> 8</td><td>12</td></tr>\n",
       "\t<tr><td>5 </td><td> 9</td><td>13</td></tr>\n",
       "\t<tr><td>6 </td><td>10</td><td>14</td></tr>\n",
       "\t<tr><td>7 </td><td>11</td><td>15</td></tr>\n",
       "</tbody>\n",
       "</table>\n",
       "</li>\n",
       "\t<li><table>\n",
       "<tbody>\n",
       "\t<tr><td> 8</td><td> 8</td></tr>\n",
       "\t<tr><td> 9</td><td> 9</td></tr>\n",
       "\t<tr><td>10</td><td>10</td></tr>\n",
       "</tbody>\n",
       "</table>\n",
       "</li>\n",
       "</ol>\n"
      ],
      "text/latex": [
       "\\begin{enumerate}\n",
       "\\item \\begin{tabular}{lll}\n",
       "\t 1 & 4 & 7\\\\\n",
       "\t 2 & 5 & 8\\\\\n",
       "\t 3 & 6 & 9\\\\\n",
       "\\end{tabular}\n",
       "\n",
       "\\item \\begin{tabular}{lll}\n",
       "\t 4  &  8 & 12\\\\\n",
       "\t 5  &  9 & 13\\\\\n",
       "\t 6  & 10 & 14\\\\\n",
       "\t 7  & 11 & 15\\\\\n",
       "\\end{tabular}\n",
       "\n",
       "\\item \\begin{tabular}{ll}\n",
       "\t  8 &  8\\\\\n",
       "\t  9 &  9\\\\\n",
       "\t 10 & 10\\\\\n",
       "\\end{tabular}\n",
       "\n",
       "\\end{enumerate}\n"
      ],
      "text/markdown": [
       "1. \n",
       "| 1 | 4 | 7 |\n",
       "| 2 | 5 | 8 |\n",
       "| 3 | 6 | 9 |\n",
       "\n",
       "\n",
       "2. \n",
       "| 4  |  8 | 12 |\n",
       "| 5  |  9 | 13 |\n",
       "| 6  | 10 | 14 |\n",
       "| 7  | 11 | 15 |\n",
       "\n",
       "\n",
       "3. \n",
       "|  8 |  8 |\n",
       "|  9 |  9 |\n",
       "| 10 | 10 |\n",
       "\n",
       "\n",
       "\n",
       "\n"
      ],
      "text/plain": [
       "[[1]]\n",
       "     [,1] [,2] [,3]\n",
       "[1,]    1    4    7\n",
       "[2,]    2    5    8\n",
       "[3,]    3    6    9\n",
       "\n",
       "[[2]]\n",
       "     [,1] [,2] [,3]\n",
       "[1,]    4    8   12\n",
       "[2,]    5    9   13\n",
       "[3,]    6   10   14\n",
       "[4,]    7   11   15\n",
       "\n",
       "[[3]]\n",
       "     [,1] [,2]\n",
       "[1,]    8    8\n",
       "[2,]    9    9\n",
       "[3,]   10   10\n"
      ]
     },
     "metadata": {},
     "output_type": "display_data"
    }
   ],
   "source": [
    "MyList <- list(A,B,C)\n",
    "MyList"
   ]
  },
  {
   "cell_type": "code",
   "execution_count": 61,
   "id": "32e95b5e",
   "metadata": {},
   "outputs": [
    {
     "data": {
      "text/html": [
       "'list'"
      ],
      "text/latex": [
       "'list'"
      ],
      "text/markdown": [
       "'list'"
      ],
      "text/plain": [
       "[1] \"list\""
      ]
     },
     "metadata": {},
     "output_type": "display_data"
    }
   ],
   "source": [
    "class(MyList)"
   ]
  },
  {
   "cell_type": "code",
   "execution_count": 62,
   "id": "0718d939",
   "metadata": {},
   "outputs": [
    {
     "data": {
      "text/html": [
       "<ol>\n",
       "\t<li>5</li>\n",
       "\t<li>9.5</li>\n",
       "\t<li>9</li>\n",
       "</ol>\n"
      ],
      "text/latex": [
       "\\begin{enumerate}\n",
       "\\item 5\n",
       "\\item 9.5\n",
       "\\item 9\n",
       "\\end{enumerate}\n"
      ],
      "text/markdown": [
       "1. 5\n",
       "2. 9.5\n",
       "3. 9\n",
       "\n",
       "\n"
      ],
      "text/plain": [
       "[[1]]\n",
       "[1] 5\n",
       "\n",
       "[[2]]\n",
       "[1] 9.5\n",
       "\n",
       "[[3]]\n",
       "[1] 9\n"
      ]
     },
     "metadata": {},
     "output_type": "display_data"
    }
   ],
   "source": [
    "lapply(MyList, mean)"
   ]
  },
  {
   "cell_type": "code",
   "execution_count": 63,
   "id": "86a708ac",
   "metadata": {},
   "outputs": [
    {
     "data": {
      "text/html": [
       "<ol class=list-inline>\n",
       "\t<li>5</li>\n",
       "\t<li>9.5</li>\n",
       "\t<li>9</li>\n",
       "</ol>\n"
      ],
      "text/latex": [
       "\\begin{enumerate*}\n",
       "\\item 5\n",
       "\\item 9.5\n",
       "\\item 9\n",
       "\\end{enumerate*}\n"
      ],
      "text/markdown": [
       "1. 5\n",
       "2. 9.5\n",
       "3. 9\n",
       "\n",
       "\n"
      ],
      "text/plain": [
       "[1] 5.0 9.5 9.0"
      ]
     },
     "metadata": {},
     "output_type": "display_data"
    }
   ],
   "source": [
    "# sapply \n",
    "# sapply function takes list, vector or Data frame  as input. It is similar to lapply function but returns only vector as output\n",
    "sapply(MyList, mean)"
   ]
  },
  {
   "cell_type": "code",
   "execution_count": 64,
   "id": "22c96271",
   "metadata": {},
   "outputs": [
    {
     "data": {
      "text/html": [
       "<ol class=list-inline>\n",
       "\t<li>'This'</li>\n",
       "\t<li>'is'</li>\n",
       "\t<li>'random'</li>\n",
       "\t<li>'vector'</li>\n",
       "</ol>\n"
      ],
      "text/latex": [
       "\\begin{enumerate*}\n",
       "\\item 'This'\n",
       "\\item 'is'\n",
       "\\item 'random'\n",
       "\\item 'vector'\n",
       "\\end{enumerate*}\n"
      ],
      "text/markdown": [
       "1. 'This'\n",
       "2. 'is'\n",
       "3. 'random'\n",
       "4. 'vector'\n",
       "\n",
       "\n"
      ],
      "text/plain": [
       "[1] \"This\"   \"is\"     \"random\" \"vector\""
      ]
     },
     "metadata": {},
     "output_type": "display_data"
    },
    {
     "data": {
      "text/html": [
       "<dl class=dl-horizontal>\n",
       "\t<dt>This</dt>\n",
       "\t\t<dd>4</dd>\n",
       "\t<dt>is</dt>\n",
       "\t\t<dd>2</dd>\n",
       "\t<dt>random</dt>\n",
       "\t\t<dd>6</dd>\n",
       "\t<dt>vector</dt>\n",
       "\t\t<dd>6</dd>\n",
       "</dl>\n"
      ],
      "text/latex": [
       "\\begin{description*}\n",
       "\\item[This] 4\n",
       "\\item[is] 2\n",
       "\\item[random] 6\n",
       "\\item[vector] 6\n",
       "\\end{description*}\n"
      ],
      "text/markdown": [
       "This\n",
       ":   4is\n",
       ":   2random\n",
       ":   6vector\n",
       ":   6\n",
       "\n"
      ],
      "text/plain": [
       "  This     is random vector \n",
       "     4      2      6      6 "
      ]
     },
     "metadata": {},
     "output_type": "display_data"
    }
   ],
   "source": [
    "random <- c(\"This\",\"is\",\"random\",\"vector\")\n",
    "random\n",
    "sapply(random, nchar)"
   ]
  },
  {
   "cell_type": "code",
   "execution_count": 65,
   "id": "ecc02a5c",
   "metadata": {},
   "outputs": [
    {
     "data": {
      "text/html": [
       "<ol class=list-inline>\n",
       "\t<li>12</li>\n",
       "\t<li>15</li>\n",
       "\t<li>18</li>\n",
       "</ol>\n"
      ],
      "text/latex": [
       "\\begin{enumerate*}\n",
       "\\item 12\n",
       "\\item 15\n",
       "\\item 18\n",
       "\\end{enumerate*}\n"
      ],
      "text/markdown": [
       "1. 12\n",
       "2. 15\n",
       "3. 18\n",
       "\n",
       "\n"
      ],
      "text/plain": [
       "[1] 12 15 18"
      ]
     },
     "metadata": {},
     "output_type": "display_data"
    },
    {
     "data": {
      "text/html": [
       "<ol class=list-inline>\n",
       "\t<li>3</li>\n",
       "\t<li>7</li>\n",
       "\t<li>11</li>\n",
       "\t<li>15</li>\n",
       "</ol>\n"
      ],
      "text/latex": [
       "\\begin{enumerate*}\n",
       "\\item 3\n",
       "\\item 7\n",
       "\\item 11\n",
       "\\item 15\n",
       "\\end{enumerate*}\n"
      ],
      "text/markdown": [
       "1. 3\n",
       "2. 7\n",
       "3. 11\n",
       "4. 15\n",
       "\n",
       "\n"
      ],
      "text/plain": [
       "[1]  3  7 11 15"
      ]
     },
     "metadata": {},
     "output_type": "display_data"
    }
   ],
   "source": [
    "# mapply\n",
    "# mapply applies FUN to the first elements of each (.) argument, the second elements, the third elements, and so on.\n",
    "mapply(sum, c(1,2,3), c(4,5,6), c(7,8,9))\n",
    "mapply(sum, matrix1, matrix2)"
   ]
  },
  {
   "cell_type": "code",
   "execution_count": 66,
   "id": "cb069674",
   "metadata": {},
   "outputs": [
    {
     "data": {
      "text/html": [
       "<table>\n",
       "<thead><tr><th scope=col>Sepal.Length</th><th scope=col>Sepal.Width</th><th scope=col>Petal.Length</th><th scope=col>Petal.Width</th><th scope=col>Species</th></tr></thead>\n",
       "<tbody>\n",
       "\t<tr><td>5.1   </td><td>3.5   </td><td>1.4   </td><td>0.2   </td><td>setosa</td></tr>\n",
       "\t<tr><td>4.9   </td><td>3.0   </td><td>1.4   </td><td>0.2   </td><td>setosa</td></tr>\n",
       "\t<tr><td>4.7   </td><td>3.2   </td><td>1.3   </td><td>0.2   </td><td>setosa</td></tr>\n",
       "\t<tr><td>4.6   </td><td>3.1   </td><td>1.5   </td><td>0.2   </td><td>setosa</td></tr>\n",
       "\t<tr><td>5.0   </td><td>3.6   </td><td>1.4   </td><td>0.2   </td><td>setosa</td></tr>\n",
       "\t<tr><td>5.4   </td><td>3.9   </td><td>1.7   </td><td>0.4   </td><td>setosa</td></tr>\n",
       "\t<tr><td>4.6   </td><td>3.4   </td><td>1.4   </td><td>0.3   </td><td>setosa</td></tr>\n",
       "\t<tr><td>5.0   </td><td>3.4   </td><td>1.5   </td><td>0.2   </td><td>setosa</td></tr>\n",
       "\t<tr><td>4.4   </td><td>2.9   </td><td>1.4   </td><td>0.2   </td><td>setosa</td></tr>\n",
       "\t<tr><td>4.9   </td><td>3.1   </td><td>1.5   </td><td>0.1   </td><td>setosa</td></tr>\n",
       "\t<tr><td>5.4   </td><td>3.7   </td><td>1.5   </td><td>0.2   </td><td>setosa</td></tr>\n",
       "\t<tr><td>4.8   </td><td>3.4   </td><td>1.6   </td><td>0.2   </td><td>setosa</td></tr>\n",
       "\t<tr><td>4.8   </td><td>3.0   </td><td>1.4   </td><td>0.1   </td><td>setosa</td></tr>\n",
       "\t<tr><td>4.3   </td><td>3.0   </td><td>1.1   </td><td>0.1   </td><td>setosa</td></tr>\n",
       "\t<tr><td>5.8   </td><td>4.0   </td><td>1.2   </td><td>0.2   </td><td>setosa</td></tr>\n",
       "\t<tr><td>5.7   </td><td>4.4   </td><td>1.5   </td><td>0.4   </td><td>setosa</td></tr>\n",
       "\t<tr><td>5.4   </td><td>3.9   </td><td>1.3   </td><td>0.4   </td><td>setosa</td></tr>\n",
       "\t<tr><td>5.1   </td><td>3.5   </td><td>1.4   </td><td>0.3   </td><td>setosa</td></tr>\n",
       "\t<tr><td>5.7   </td><td>3.8   </td><td>1.7   </td><td>0.3   </td><td>setosa</td></tr>\n",
       "\t<tr><td>5.1   </td><td>3.8   </td><td>1.5   </td><td>0.3   </td><td>setosa</td></tr>\n",
       "\t<tr><td>5.4   </td><td>3.4   </td><td>1.7   </td><td>0.2   </td><td>setosa</td></tr>\n",
       "\t<tr><td>5.1   </td><td>3.7   </td><td>1.5   </td><td>0.4   </td><td>setosa</td></tr>\n",
       "\t<tr><td>4.6   </td><td>3.6   </td><td>1.0   </td><td>0.2   </td><td>setosa</td></tr>\n",
       "\t<tr><td>5.1   </td><td>3.3   </td><td>1.7   </td><td>0.5   </td><td>setosa</td></tr>\n",
       "\t<tr><td>4.8   </td><td>3.4   </td><td>1.9   </td><td>0.2   </td><td>setosa</td></tr>\n",
       "\t<tr><td>5.0   </td><td>3.0   </td><td>1.6   </td><td>0.2   </td><td>setosa</td></tr>\n",
       "\t<tr><td>5.0   </td><td>3.4   </td><td>1.6   </td><td>0.4   </td><td>setosa</td></tr>\n",
       "\t<tr><td>5.2   </td><td>3.5   </td><td>1.5   </td><td>0.2   </td><td>setosa</td></tr>\n",
       "\t<tr><td>5.2   </td><td>3.4   </td><td>1.4   </td><td>0.2   </td><td>setosa</td></tr>\n",
       "\t<tr><td>4.7   </td><td>3.2   </td><td>1.6   </td><td>0.2   </td><td>setosa</td></tr>\n",
       "\t<tr><td>...</td><td>...</td><td>...</td><td>...</td><td>...</td></tr>\n",
       "\t<tr><td>6.9      </td><td>3.2      </td><td>5.7      </td><td>2.3      </td><td>virginica</td></tr>\n",
       "\t<tr><td>5.6      </td><td>2.8      </td><td>4.9      </td><td>2.0      </td><td>virginica</td></tr>\n",
       "\t<tr><td>7.7      </td><td>2.8      </td><td>6.7      </td><td>2.0      </td><td>virginica</td></tr>\n",
       "\t<tr><td>6.3      </td><td>2.7      </td><td>4.9      </td><td>1.8      </td><td>virginica</td></tr>\n",
       "\t<tr><td>6.7      </td><td>3.3      </td><td>5.7      </td><td>2.1      </td><td>virginica</td></tr>\n",
       "\t<tr><td>7.2      </td><td>3.2      </td><td>6.0      </td><td>1.8      </td><td>virginica</td></tr>\n",
       "\t<tr><td>6.2      </td><td>2.8      </td><td>4.8      </td><td>1.8      </td><td>virginica</td></tr>\n",
       "\t<tr><td>6.1      </td><td>3.0      </td><td>4.9      </td><td>1.8      </td><td>virginica</td></tr>\n",
       "\t<tr><td>6.4      </td><td>2.8      </td><td>5.6      </td><td>2.1      </td><td>virginica</td></tr>\n",
       "\t<tr><td>7.2      </td><td>3.0      </td><td>5.8      </td><td>1.6      </td><td>virginica</td></tr>\n",
       "\t<tr><td>7.4      </td><td>2.8      </td><td>6.1      </td><td>1.9      </td><td>virginica</td></tr>\n",
       "\t<tr><td>7.9      </td><td>3.8      </td><td>6.4      </td><td>2.0      </td><td>virginica</td></tr>\n",
       "\t<tr><td>6.4      </td><td>2.8      </td><td>5.6      </td><td>2.2      </td><td>virginica</td></tr>\n",
       "\t<tr><td>6.3      </td><td>2.8      </td><td>5.1      </td><td>1.5      </td><td>virginica</td></tr>\n",
       "\t<tr><td>6.1      </td><td>2.6      </td><td>5.6      </td><td>1.4      </td><td>virginica</td></tr>\n",
       "\t<tr><td>7.7      </td><td>3.0      </td><td>6.1      </td><td>2.3      </td><td>virginica</td></tr>\n",
       "\t<tr><td>6.3      </td><td>3.4      </td><td>5.6      </td><td>2.4      </td><td>virginica</td></tr>\n",
       "\t<tr><td>6.4      </td><td>3.1      </td><td>5.5      </td><td>1.8      </td><td>virginica</td></tr>\n",
       "\t<tr><td>6.0      </td><td>3.0      </td><td>4.8      </td><td>1.8      </td><td>virginica</td></tr>\n",
       "\t<tr><td>6.9      </td><td>3.1      </td><td>5.4      </td><td>2.1      </td><td>virginica</td></tr>\n",
       "\t<tr><td>6.7      </td><td>3.1      </td><td>5.6      </td><td>2.4      </td><td>virginica</td></tr>\n",
       "\t<tr><td>6.9      </td><td>3.1      </td><td>5.1      </td><td>2.3      </td><td>virginica</td></tr>\n",
       "\t<tr><td>5.8      </td><td>2.7      </td><td>5.1      </td><td>1.9      </td><td>virginica</td></tr>\n",
       "\t<tr><td>6.8      </td><td>3.2      </td><td>5.9      </td><td>2.3      </td><td>virginica</td></tr>\n",
       "\t<tr><td>6.7      </td><td>3.3      </td><td>5.7      </td><td>2.5      </td><td>virginica</td></tr>\n",
       "\t<tr><td>6.7      </td><td>3.0      </td><td>5.2      </td><td>2.3      </td><td>virginica</td></tr>\n",
       "\t<tr><td>6.3      </td><td>2.5      </td><td>5.0      </td><td>1.9      </td><td>virginica</td></tr>\n",
       "\t<tr><td>6.5      </td><td>3.0      </td><td>5.2      </td><td>2.0      </td><td>virginica</td></tr>\n",
       "\t<tr><td>6.2      </td><td>3.4      </td><td>5.4      </td><td>2.3      </td><td>virginica</td></tr>\n",
       "\t<tr><td>5.9      </td><td>3.0      </td><td>5.1      </td><td>1.8      </td><td>virginica</td></tr>\n",
       "</tbody>\n",
       "</table>\n"
      ],
      "text/latex": [
       "\\begin{tabular}{r|lllll}\n",
       " Sepal.Length & Sepal.Width & Petal.Length & Petal.Width & Species\\\\\n",
       "\\hline\n",
       "\t 5.1    & 3.5    & 1.4    & 0.2    & setosa\\\\\n",
       "\t 4.9    & 3.0    & 1.4    & 0.2    & setosa\\\\\n",
       "\t 4.7    & 3.2    & 1.3    & 0.2    & setosa\\\\\n",
       "\t 4.6    & 3.1    & 1.5    & 0.2    & setosa\\\\\n",
       "\t 5.0    & 3.6    & 1.4    & 0.2    & setosa\\\\\n",
       "\t 5.4    & 3.9    & 1.7    & 0.4    & setosa\\\\\n",
       "\t 4.6    & 3.4    & 1.4    & 0.3    & setosa\\\\\n",
       "\t 5.0    & 3.4    & 1.5    & 0.2    & setosa\\\\\n",
       "\t 4.4    & 2.9    & 1.4    & 0.2    & setosa\\\\\n",
       "\t 4.9    & 3.1    & 1.5    & 0.1    & setosa\\\\\n",
       "\t 5.4    & 3.7    & 1.5    & 0.2    & setosa\\\\\n",
       "\t 4.8    & 3.4    & 1.6    & 0.2    & setosa\\\\\n",
       "\t 4.8    & 3.0    & 1.4    & 0.1    & setosa\\\\\n",
       "\t 4.3    & 3.0    & 1.1    & 0.1    & setosa\\\\\n",
       "\t 5.8    & 4.0    & 1.2    & 0.2    & setosa\\\\\n",
       "\t 5.7    & 4.4    & 1.5    & 0.4    & setosa\\\\\n",
       "\t 5.4    & 3.9    & 1.3    & 0.4    & setosa\\\\\n",
       "\t 5.1    & 3.5    & 1.4    & 0.3    & setosa\\\\\n",
       "\t 5.7    & 3.8    & 1.7    & 0.3    & setosa\\\\\n",
       "\t 5.1    & 3.8    & 1.5    & 0.3    & setosa\\\\\n",
       "\t 5.4    & 3.4    & 1.7    & 0.2    & setosa\\\\\n",
       "\t 5.1    & 3.7    & 1.5    & 0.4    & setosa\\\\\n",
       "\t 4.6    & 3.6    & 1.0    & 0.2    & setosa\\\\\n",
       "\t 5.1    & 3.3    & 1.7    & 0.5    & setosa\\\\\n",
       "\t 4.8    & 3.4    & 1.9    & 0.2    & setosa\\\\\n",
       "\t 5.0    & 3.0    & 1.6    & 0.2    & setosa\\\\\n",
       "\t 5.0    & 3.4    & 1.6    & 0.4    & setosa\\\\\n",
       "\t 5.2    & 3.5    & 1.5    & 0.2    & setosa\\\\\n",
       "\t 5.2    & 3.4    & 1.4    & 0.2    & setosa\\\\\n",
       "\t 4.7    & 3.2    & 1.6    & 0.2    & setosa\\\\\n",
       "\t ... & ... & ... & ... & ...\\\\\n",
       "\t 6.9       & 3.2       & 5.7       & 2.3       & virginica\\\\\n",
       "\t 5.6       & 2.8       & 4.9       & 2.0       & virginica\\\\\n",
       "\t 7.7       & 2.8       & 6.7       & 2.0       & virginica\\\\\n",
       "\t 6.3       & 2.7       & 4.9       & 1.8       & virginica\\\\\n",
       "\t 6.7       & 3.3       & 5.7       & 2.1       & virginica\\\\\n",
       "\t 7.2       & 3.2       & 6.0       & 1.8       & virginica\\\\\n",
       "\t 6.2       & 2.8       & 4.8       & 1.8       & virginica\\\\\n",
       "\t 6.1       & 3.0       & 4.9       & 1.8       & virginica\\\\\n",
       "\t 6.4       & 2.8       & 5.6       & 2.1       & virginica\\\\\n",
       "\t 7.2       & 3.0       & 5.8       & 1.6       & virginica\\\\\n",
       "\t 7.4       & 2.8       & 6.1       & 1.9       & virginica\\\\\n",
       "\t 7.9       & 3.8       & 6.4       & 2.0       & virginica\\\\\n",
       "\t 6.4       & 2.8       & 5.6       & 2.2       & virginica\\\\\n",
       "\t 6.3       & 2.8       & 5.1       & 1.5       & virginica\\\\\n",
       "\t 6.1       & 2.6       & 5.6       & 1.4       & virginica\\\\\n",
       "\t 7.7       & 3.0       & 6.1       & 2.3       & virginica\\\\\n",
       "\t 6.3       & 3.4       & 5.6       & 2.4       & virginica\\\\\n",
       "\t 6.4       & 3.1       & 5.5       & 1.8       & virginica\\\\\n",
       "\t 6.0       & 3.0       & 4.8       & 1.8       & virginica\\\\\n",
       "\t 6.9       & 3.1       & 5.4       & 2.1       & virginica\\\\\n",
       "\t 6.7       & 3.1       & 5.6       & 2.4       & virginica\\\\\n",
       "\t 6.9       & 3.1       & 5.1       & 2.3       & virginica\\\\\n",
       "\t 5.8       & 2.7       & 5.1       & 1.9       & virginica\\\\\n",
       "\t 6.8       & 3.2       & 5.9       & 2.3       & virginica\\\\\n",
       "\t 6.7       & 3.3       & 5.7       & 2.5       & virginica\\\\\n",
       "\t 6.7       & 3.0       & 5.2       & 2.3       & virginica\\\\\n",
       "\t 6.3       & 2.5       & 5.0       & 1.9       & virginica\\\\\n",
       "\t 6.5       & 3.0       & 5.2       & 2.0       & virginica\\\\\n",
       "\t 6.2       & 3.4       & 5.4       & 2.3       & virginica\\\\\n",
       "\t 5.9       & 3.0       & 5.1       & 1.8       & virginica\\\\\n",
       "\\end{tabular}\n"
      ],
      "text/markdown": [
       "\n",
       "| Sepal.Length | Sepal.Width | Petal.Length | Petal.Width | Species |\n",
       "|---|---|---|---|---|\n",
       "| 5.1    | 3.5    | 1.4    | 0.2    | setosa |\n",
       "| 4.9    | 3.0    | 1.4    | 0.2    | setosa |\n",
       "| 4.7    | 3.2    | 1.3    | 0.2    | setosa |\n",
       "| 4.6    | 3.1    | 1.5    | 0.2    | setosa |\n",
       "| 5.0    | 3.6    | 1.4    | 0.2    | setosa |\n",
       "| 5.4    | 3.9    | 1.7    | 0.4    | setosa |\n",
       "| 4.6    | 3.4    | 1.4    | 0.3    | setosa |\n",
       "| 5.0    | 3.4    | 1.5    | 0.2    | setosa |\n",
       "| 4.4    | 2.9    | 1.4    | 0.2    | setosa |\n",
       "| 4.9    | 3.1    | 1.5    | 0.1    | setosa |\n",
       "| 5.4    | 3.7    | 1.5    | 0.2    | setosa |\n",
       "| 4.8    | 3.4    | 1.6    | 0.2    | setosa |\n",
       "| 4.8    | 3.0    | 1.4    | 0.1    | setosa |\n",
       "| 4.3    | 3.0    | 1.1    | 0.1    | setosa |\n",
       "| 5.8    | 4.0    | 1.2    | 0.2    | setosa |\n",
       "| 5.7    | 4.4    | 1.5    | 0.4    | setosa |\n",
       "| 5.4    | 3.9    | 1.3    | 0.4    | setosa |\n",
       "| 5.1    | 3.5    | 1.4    | 0.3    | setosa |\n",
       "| 5.7    | 3.8    | 1.7    | 0.3    | setosa |\n",
       "| 5.1    | 3.8    | 1.5    | 0.3    | setosa |\n",
       "| 5.4    | 3.4    | 1.7    | 0.2    | setosa |\n",
       "| 5.1    | 3.7    | 1.5    | 0.4    | setosa |\n",
       "| 4.6    | 3.6    | 1.0    | 0.2    | setosa |\n",
       "| 5.1    | 3.3    | 1.7    | 0.5    | setosa |\n",
       "| 4.8    | 3.4    | 1.9    | 0.2    | setosa |\n",
       "| 5.0    | 3.0    | 1.6    | 0.2    | setosa |\n",
       "| 5.0    | 3.4    | 1.6    | 0.4    | setosa |\n",
       "| 5.2    | 3.5    | 1.5    | 0.2    | setosa |\n",
       "| 5.2    | 3.4    | 1.4    | 0.2    | setosa |\n",
       "| 4.7    | 3.2    | 1.6    | 0.2    | setosa |\n",
       "| ... | ... | ... | ... | ... |\n",
       "| 6.9       | 3.2       | 5.7       | 2.3       | virginica |\n",
       "| 5.6       | 2.8       | 4.9       | 2.0       | virginica |\n",
       "| 7.7       | 2.8       | 6.7       | 2.0       | virginica |\n",
       "| 6.3       | 2.7       | 4.9       | 1.8       | virginica |\n",
       "| 6.7       | 3.3       | 5.7       | 2.1       | virginica |\n",
       "| 7.2       | 3.2       | 6.0       | 1.8       | virginica |\n",
       "| 6.2       | 2.8       | 4.8       | 1.8       | virginica |\n",
       "| 6.1       | 3.0       | 4.9       | 1.8       | virginica |\n",
       "| 6.4       | 2.8       | 5.6       | 2.1       | virginica |\n",
       "| 7.2       | 3.0       | 5.8       | 1.6       | virginica |\n",
       "| 7.4       | 2.8       | 6.1       | 1.9       | virginica |\n",
       "| 7.9       | 3.8       | 6.4       | 2.0       | virginica |\n",
       "| 6.4       | 2.8       | 5.6       | 2.2       | virginica |\n",
       "| 6.3       | 2.8       | 5.1       | 1.5       | virginica |\n",
       "| 6.1       | 2.6       | 5.6       | 1.4       | virginica |\n",
       "| 7.7       | 3.0       | 6.1       | 2.3       | virginica |\n",
       "| 6.3       | 3.4       | 5.6       | 2.4       | virginica |\n",
       "| 6.4       | 3.1       | 5.5       | 1.8       | virginica |\n",
       "| 6.0       | 3.0       | 4.8       | 1.8       | virginica |\n",
       "| 6.9       | 3.1       | 5.4       | 2.1       | virginica |\n",
       "| 6.7       | 3.1       | 5.6       | 2.4       | virginica |\n",
       "| 6.9       | 3.1       | 5.1       | 2.3       | virginica |\n",
       "| 5.8       | 2.7       | 5.1       | 1.9       | virginica |\n",
       "| 6.8       | 3.2       | 5.9       | 2.3       | virginica |\n",
       "| 6.7       | 3.3       | 5.7       | 2.5       | virginica |\n",
       "| 6.7       | 3.0       | 5.2       | 2.3       | virginica |\n",
       "| 6.3       | 2.5       | 5.0       | 1.9       | virginica |\n",
       "| 6.5       | 3.0       | 5.2       | 2.0       | virginica |\n",
       "| 6.2       | 3.4       | 5.4       | 2.3       | virginica |\n",
       "| 5.9       | 3.0       | 5.1       | 1.8       | virginica |\n",
       "\n"
      ],
      "text/plain": [
       "    Sepal.Length Sepal.Width Petal.Length Petal.Width Species  \n",
       "1   5.1          3.5         1.4          0.2         setosa   \n",
       "2   4.9          3.0         1.4          0.2         setosa   \n",
       "3   4.7          3.2         1.3          0.2         setosa   \n",
       "4   4.6          3.1         1.5          0.2         setosa   \n",
       "5   5.0          3.6         1.4          0.2         setosa   \n",
       "6   5.4          3.9         1.7          0.4         setosa   \n",
       "7   4.6          3.4         1.4          0.3         setosa   \n",
       "8   5.0          3.4         1.5          0.2         setosa   \n",
       "9   4.4          2.9         1.4          0.2         setosa   \n",
       "10  4.9          3.1         1.5          0.1         setosa   \n",
       "11  5.4          3.7         1.5          0.2         setosa   \n",
       "12  4.8          3.4         1.6          0.2         setosa   \n",
       "13  4.8          3.0         1.4          0.1         setosa   \n",
       "14  4.3          3.0         1.1          0.1         setosa   \n",
       "15  5.8          4.0         1.2          0.2         setosa   \n",
       "16  5.7          4.4         1.5          0.4         setosa   \n",
       "17  5.4          3.9         1.3          0.4         setosa   \n",
       "18  5.1          3.5         1.4          0.3         setosa   \n",
       "19  5.7          3.8         1.7          0.3         setosa   \n",
       "20  5.1          3.8         1.5          0.3         setosa   \n",
       "21  5.4          3.4         1.7          0.2         setosa   \n",
       "22  5.1          3.7         1.5          0.4         setosa   \n",
       "23  4.6          3.6         1.0          0.2         setosa   \n",
       "24  5.1          3.3         1.7          0.5         setosa   \n",
       "25  4.8          3.4         1.9          0.2         setosa   \n",
       "26  5.0          3.0         1.6          0.2         setosa   \n",
       "27  5.0          3.4         1.6          0.4         setosa   \n",
       "28  5.2          3.5         1.5          0.2         setosa   \n",
       "29  5.2          3.4         1.4          0.2         setosa   \n",
       "30  4.7          3.2         1.6          0.2         setosa   \n",
       "... ...          ...         ...          ...         ...      \n",
       "121 6.9          3.2         5.7          2.3         virginica\n",
       "122 5.6          2.8         4.9          2.0         virginica\n",
       "123 7.7          2.8         6.7          2.0         virginica\n",
       "124 6.3          2.7         4.9          1.8         virginica\n",
       "125 6.7          3.3         5.7          2.1         virginica\n",
       "126 7.2          3.2         6.0          1.8         virginica\n",
       "127 6.2          2.8         4.8          1.8         virginica\n",
       "128 6.1          3.0         4.9          1.8         virginica\n",
       "129 6.4          2.8         5.6          2.1         virginica\n",
       "130 7.2          3.0         5.8          1.6         virginica\n",
       "131 7.4          2.8         6.1          1.9         virginica\n",
       "132 7.9          3.8         6.4          2.0         virginica\n",
       "133 6.4          2.8         5.6          2.2         virginica\n",
       "134 6.3          2.8         5.1          1.5         virginica\n",
       "135 6.1          2.6         5.6          1.4         virginica\n",
       "136 7.7          3.0         6.1          2.3         virginica\n",
       "137 6.3          3.4         5.6          2.4         virginica\n",
       "138 6.4          3.1         5.5          1.8         virginica\n",
       "139 6.0          3.0         4.8          1.8         virginica\n",
       "140 6.9          3.1         5.4          2.1         virginica\n",
       "141 6.7          3.1         5.6          2.4         virginica\n",
       "142 6.9          3.1         5.1          2.3         virginica\n",
       "143 5.8          2.7         5.1          1.9         virginica\n",
       "144 6.8          3.2         5.9          2.3         virginica\n",
       "145 6.7          3.3         5.7          2.5         virginica\n",
       "146 6.7          3.0         5.2          2.3         virginica\n",
       "147 6.3          2.5         5.0          1.9         virginica\n",
       "148 6.5          3.0         5.2          2.0         virginica\n",
       "149 6.2          3.4         5.4          2.3         virginica\n",
       "150 5.9          3.0         5.1          1.8         virginica"
      ]
     },
     "metadata": {},
     "output_type": "display_data"
    }
   ],
   "source": [
    "# tapply\n",
    "# tapply is used when you want to apply a function to subsets of a vector and the subsets are \n",
    "# defined by some other vector, usually a factor\n",
    "attach(iris)\n",
    "iris"
   ]
  },
  {
   "cell_type": "code",
   "execution_count": 67,
   "id": "ab44d219",
   "metadata": {},
   "outputs": [
    {
     "data": {
      "text/html": [
       "<dl class=dl-horizontal>\n",
       "\t<dt>setosa</dt>\n",
       "\t\t<dd>5.006</dd>\n",
       "\t<dt>versicolor</dt>\n",
       "\t\t<dd>5.936</dd>\n",
       "\t<dt>virginica</dt>\n",
       "\t\t<dd>6.588</dd>\n",
       "</dl>\n"
      ],
      "text/latex": [
       "\\begin{description*}\n",
       "\\item[setosa] 5.006\n",
       "\\item[versicolor] 5.936\n",
       "\\item[virginica] 6.588\n",
       "\\end{description*}\n"
      ],
      "text/markdown": [
       "setosa\n",
       ":   5.006versicolor\n",
       ":   5.936virginica\n",
       ":   6.588\n",
       "\n"
      ],
      "text/plain": [
       "    setosa versicolor  virginica \n",
       "     5.006      5.936      6.588 "
      ]
     },
     "metadata": {},
     "output_type": "display_data"
    }
   ],
   "source": [
    "tapply(iris$Sepal.Length, Species, mean) # mean of Sepal.Length for all 3 Species "
   ]
  },
  {
   "cell_type": "code",
   "execution_count": 68,
   "id": "c8ee8c73",
   "metadata": {},
   "outputs": [
    {
     "data": {
      "text/html": [
       "<dl class=dl-horizontal>\n",
       "\t<dt>setosa</dt>\n",
       "\t\t<dd>3.4</dd>\n",
       "\t<dt>versicolor</dt>\n",
       "\t\t<dd>2.8</dd>\n",
       "\t<dt>virginica</dt>\n",
       "\t\t<dd>3</dd>\n",
       "</dl>\n"
      ],
      "text/latex": [
       "\\begin{description*}\n",
       "\\item[setosa] 3.4\n",
       "\\item[versicolor] 2.8\n",
       "\\item[virginica] 3\n",
       "\\end{description*}\n"
      ],
      "text/markdown": [
       "setosa\n",
       ":   3.4versicolor\n",
       ":   2.8virginica\n",
       ":   3\n",
       "\n"
      ],
      "text/plain": [
       "    setosa versicolor  virginica \n",
       "       3.4        2.8        3.0 "
      ]
     },
     "metadata": {},
     "output_type": "display_data"
    }
   ],
   "source": [
    "tapply(iris$Sepal.Width, Species, median)"
   ]
  },
  {
   "cell_type": "code",
   "execution_count": 69,
   "id": "9add8086",
   "metadata": {},
   "outputs": [
    {
     "data": {
      "text/html": [
       "<ol>\n",
       "\t<li>3</li>\n",
       "\t<li><ol>\n",
       "\t<li>4</li>\n",
       "\t<li>5</li>\n",
       "</ol>\n",
       "</li>\n",
       "\t<li>6</li>\n",
       "\t<li><ol>\n",
       "\t<li>7</li>\n",
       "\t<li><ol>\n",
       "\t<li>8</li>\n",
       "\t<li>9</li>\n",
       "</ol>\n",
       "</li>\n",
       "</ol>\n",
       "</li>\n",
       "</ol>\n"
      ],
      "text/latex": [
       "\\begin{enumerate}\n",
       "\\item 3\n",
       "\\item \\begin{enumerate}\n",
       "\\item 4\n",
       "\\item 5\n",
       "\\end{enumerate}\n",
       "\n",
       "\\item 6\n",
       "\\item \\begin{enumerate}\n",
       "\\item 7\n",
       "\\item \\begin{enumerate}\n",
       "\\item 8\n",
       "\\item 9\n",
       "\\end{enumerate}\n",
       "\n",
       "\\end{enumerate}\n",
       "\n",
       "\\end{enumerate}\n"
      ],
      "text/markdown": [
       "1. 3\n",
       "2. 1. 4\n",
       "2. 5\n",
       "\n",
       "\n",
       "\n",
       "3. 6\n",
       "4. 1. 7\n",
       "2. 1. 8\n",
       "2. 9\n",
       "\n",
       "\n",
       "\n",
       "\n",
       "\n",
       "\n",
       "\n",
       "\n"
      ],
      "text/plain": [
       "[[1]]\n",
       "[1] 3\n",
       "\n",
       "[[2]]\n",
       "[[2]][[1]]\n",
       "[1] 4\n",
       "\n",
       "[[2]][[2]]\n",
       "[1] 5\n",
       "\n",
       "\n",
       "[[3]]\n",
       "[1] 6\n",
       "\n",
       "[[4]]\n",
       "[[4]][[1]]\n",
       "[1] 7\n",
       "\n",
       "[[4]][[2]]\n",
       "[[4]][[2]][[1]]\n",
       "[1] 8\n",
       "\n",
       "[[4]][[2]][[2]]\n",
       "[1] 9\n",
       "\n",
       "\n"
      ]
     },
     "metadata": {},
     "output_type": "display_data"
    }
   ],
   "source": [
    "# rapply\n",
    "# rapply function in R is nothing but recursive apply, as the name suggests it is used to apply a \n",
    "# function to all elements of a list recursively\n",
    "x=list(3,list(4,5),6,list(7,list(8,9)))\n",
    "x"
   ]
  },
  {
   "cell_type": "code",
   "execution_count": 70,
   "id": "99eb1b88",
   "metadata": {},
   "outputs": [
    {
     "data": {
      "text/html": [
       "<ol class=list-inline>\n",
       "\t<li>9</li>\n",
       "\t<li>16</li>\n",
       "\t<li>25</li>\n",
       "\t<li>36</li>\n",
       "\t<li>49</li>\n",
       "\t<li>64</li>\n",
       "\t<li>81</li>\n",
       "</ol>\n"
      ],
      "text/latex": [
       "\\begin{enumerate*}\n",
       "\\item 9\n",
       "\\item 16\n",
       "\\item 25\n",
       "\\item 36\n",
       "\\item 49\n",
       "\\item 64\n",
       "\\item 81\n",
       "\\end{enumerate*}\n"
      ],
      "text/markdown": [
       "1. 9\n",
       "2. 16\n",
       "3. 25\n",
       "4. 36\n",
       "5. 49\n",
       "6. 64\n",
       "7. 81\n",
       "\n",
       "\n"
      ],
      "text/plain": [
       "[1]  9 16 25 36 49 64 81"
      ]
     },
     "metadata": {},
     "output_type": "display_data"
    }
   ],
   "source": [
    "rapply(x,function(x) x^2,class=c(\"numeric\"))"
   ]
  },
  {
   "cell_type": "code",
   "execution_count": 71,
   "id": "ba1336f0",
   "metadata": {},
   "outputs": [
    {
     "data": {
      "text/html": [
       "<ol class=list-inline>\n",
       "\t<li>1+0i</li>\n",
       "\t<li>1.4142135623731+0i</li>\n",
       "\t<li>1.73205080756888+0i</li>\n",
       "\t<li>2+0i</li>\n",
       "\t<li>2.23606797749979+0i</li>\n",
       "</ol>\n"
      ],
      "text/latex": [
       "\\begin{enumerate*}\n",
       "\\item 1+0i\n",
       "\\item 1.4142135623731+0i\n",
       "\\item 1.73205080756888+0i\n",
       "\\item 2+0i\n",
       "\\item 2.23606797749979+0i\n",
       "\\end{enumerate*}\n"
      ],
      "text/markdown": [
       "1. 1+0i\n",
       "2. 1.4142135623731+0i\n",
       "3. 1.73205080756888+0i\n",
       "4. 2+0i\n",
       "5. 2.23606797749979+0i\n",
       "\n",
       "\n"
      ],
      "text/plain": [
       "[1] 1.000000+0i 1.414214+0i 1.732051+0i 2.000000+0i 2.236068+0i"
      ]
     },
     "metadata": {},
     "output_type": "display_data"
    }
   ],
   "source": [
    "# vapply \n",
    "# vapply function in R is similar to sapply, but has a pre-specified type of return value, \n",
    "# so it can be safer (and sometimes faster) to use\n",
    "vapply(1:5, sqrt, 1i)"
   ]
  },
  {
   "cell_type": "code",
   "execution_count": 72,
   "id": "b4dedcea",
   "metadata": {},
   "outputs": [
    {
     "name": "stdout",
     "output_type": "stream",
     "text": [
      "one 2 three 4 five1\t2\t3\t4\t5\t6\t7\t8\t9\t101\n",
      "2\n",
      "3\n",
      "4\n",
      "5\n",
      "6\n",
      "7\n",
      "8\n",
      "9\n",
      "10\n"
     ]
    }
   ],
   "source": [
    "# cat function\n",
    "cat('one',2,'three',4,'five')\n",
    "cat(1:10,sep=\"\\t\")\n",
    "cat(1:10,sep=\"\\n\")\n",
    "cat(1:10,file=\"num_series.xlsx\",sep=\"\\n\",append =\"FALSE\") # By deafult is FALSE"
   ]
  },
  {
   "cell_type": "code",
   "execution_count": 73,
   "id": "8f1b2200",
   "metadata": {},
   "outputs": [
    {
     "data": {
      "text/html": [
       "'C:/Users/Acer'"
      ],
      "text/latex": [
       "'C:/Users/Acer'"
      ],
      "text/markdown": [
       "'C:/Users/Acer'"
      ],
      "text/plain": [
       "[1] \"C:/Users/Acer\""
      ]
     },
     "metadata": {},
     "output_type": "display_data"
    }
   ],
   "source": [
    "getwd() # to know the working directory "
   ]
  },
  {
   "cell_type": "code",
   "execution_count": null,
   "id": "dcfd5513",
   "metadata": {},
   "outputs": [],
   "source": [
    "setwd(\"E:\\\\Raj\\\\Training\\\\Data\\\\R Programmming\") # to set the working directory "
   ]
  },
  {
   "cell_type": "code",
   "execution_count": 74,
   "id": "2c33fe32",
   "metadata": {},
   "outputs": [
    {
     "data": {
      "text/html": [
       "<table>\n",
       "<tbody>\n",
       "\t<tr><td>-0.56047565</td><td> 1.7150650 </td><td> 1.2240818 </td><td> 1.7869131 </td><td>-1.0678237 </td><td>-1.6866933 </td></tr>\n",
       "\t<tr><td>-0.23017749</td><td> 0.4609162 </td><td> 0.3598138 </td><td> 0.4978505 </td><td>-0.2179749 </td><td> 0.8377870 </td></tr>\n",
       "\t<tr><td> 1.55870831</td><td>-1.2650612 </td><td> 0.4007715 </td><td>-1.9666172 </td><td>-1.0260044 </td><td> 0.1533731 </td></tr>\n",
       "\t<tr><td> 0.07050839</td><td>-0.6868529 </td><td> 0.1106827 </td><td> 0.7013559 </td><td>-0.7288912 </td><td>-1.1381369 </td></tr>\n",
       "\t<tr><td> 0.12928774</td><td>-0.4456620 </td><td>-0.5558411 </td><td>-0.4727914 </td><td>-0.6250393 </td><td> 1.2538149 </td></tr>\n",
       "</tbody>\n",
       "</table>\n"
      ],
      "text/latex": [
       "\\begin{tabular}{llllll}\n",
       "\t -0.56047565 &  1.7150650  &  1.2240818  &  1.7869131  & -1.0678237  & -1.6866933 \\\\\n",
       "\t -0.23017749 &  0.4609162  &  0.3598138  &  0.4978505  & -0.2179749  &  0.8377870 \\\\\n",
       "\t  1.55870831 & -1.2650612  &  0.4007715  & -1.9666172  & -1.0260044  &  0.1533731 \\\\\n",
       "\t  0.07050839 & -0.6868529  &  0.1106827  &  0.7013559  & -0.7288912  & -1.1381369 \\\\\n",
       "\t  0.12928774 & -0.4456620  & -0.5558411  & -0.4727914  & -0.6250393  &  1.2538149 \\\\\n",
       "\\end{tabular}\n"
      ],
      "text/markdown": [
       "\n",
       "| -0.56047565 |  1.7150650  |  1.2240818  |  1.7869131  | -1.0678237  | -1.6866933  |\n",
       "| -0.23017749 |  0.4609162  |  0.3598138  |  0.4978505  | -0.2179749  |  0.8377870  |\n",
       "|  1.55870831 | -1.2650612  |  0.4007715  | -1.9666172  | -1.0260044  |  0.1533731  |\n",
       "|  0.07050839 | -0.6868529  |  0.1106827  |  0.7013559  | -0.7288912  | -1.1381369  |\n",
       "|  0.12928774 | -0.4456620  | -0.5558411  | -0.4727914  | -0.6250393  |  1.2538149  |\n",
       "\n"
      ],
      "text/plain": [
       "     [,1]        [,2]       [,3]       [,4]       [,5]       [,6]      \n",
       "[1,] -0.56047565  1.7150650  1.2240818  1.7869131 -1.0678237 -1.6866933\n",
       "[2,] -0.23017749  0.4609162  0.3598138  0.4978505 -0.2179749  0.8377870\n",
       "[3,]  1.55870831 -1.2650612  0.4007715 -1.9666172 -1.0260044  0.1533731\n",
       "[4,]  0.07050839 -0.6868529  0.1106827  0.7013559 -0.7288912 -1.1381369\n",
       "[5,]  0.12928774 -0.4456620 -0.5558411 -0.4727914 -0.6250393  1.2538149"
      ]
     },
     "metadata": {},
     "output_type": "display_data"
    }
   ],
   "source": [
    "set.seed(123) # reproducing same results\n",
    "y <- matrix(rnorm(30), nrow=5, ncol=6)\n",
    "y"
   ]
  },
  {
   "cell_type": "code",
   "execution_count": 75,
   "id": "18ee3e0d",
   "metadata": {},
   "outputs": [
    {
     "data": {
      "text/html": [
       "<ol class=list-inline>\n",
       "\t<li>1.41106725784435</li>\n",
       "\t<li>1.70821515162876</li>\n",
       "\t<li>-2.14482995696372</li>\n",
       "\t<li>-1.67133400926323</li>\n",
       "\t<li>-0.716231124200351</li>\n",
       "</ol>\n"
      ],
      "text/latex": [
       "\\begin{enumerate*}\n",
       "\\item 1.41106725784435\n",
       "\\item 1.70821515162876\n",
       "\\item -2.14482995696372\n",
       "\\item -1.67133400926323\n",
       "\\item -0.716231124200351\n",
       "\\end{enumerate*}\n"
      ],
      "text/markdown": [
       "1. 1.41106725784435\n",
       "2. 1.70821515162876\n",
       "3. -2.14482995696372\n",
       "4. -1.67133400926323\n",
       "5. -0.716231124200351\n",
       "\n",
       "\n"
      ],
      "text/plain": [
       "[1]  1.4110673  1.7082152 -2.1448300 -1.6713340 -0.7162311"
      ]
     },
     "metadata": {},
     "output_type": "display_data"
    }
   ],
   "source": [
    "apply(y, 1 ,sum)"
   ]
  },
  {
   "cell_type": "code",
   "execution_count": 76,
   "id": "d1ea5e88",
   "metadata": {},
   "outputs": [
    {
     "data": {
      "text/html": [
       "<ol class=list-inline>\n",
       "\t<li>0.967851304699154</li>\n",
       "\t<li>-0.221594863727535</li>\n",
       "\t<li>1.53950865628192</li>\n",
       "\t<li>0.546710952238431</li>\n",
       "\t<li>-3.66573356609278</li>\n",
       "\t<li>-0.579855164353394</li>\n",
       "</ol>\n"
      ],
      "text/latex": [
       "\\begin{enumerate*}\n",
       "\\item 0.967851304699154\n",
       "\\item -0.221594863727535\n",
       "\\item 1.53950865628192\n",
       "\\item 0.546710952238431\n",
       "\\item -3.66573356609278\n",
       "\\item -0.579855164353394\n",
       "\\end{enumerate*}\n"
      ],
      "text/markdown": [
       "1. 0.967851304699154\n",
       "2. -0.221594863727535\n",
       "3. 1.53950865628192\n",
       "4. 0.546710952238431\n",
       "5. -3.66573356609278\n",
       "6. -0.579855164353394\n",
       "\n",
       "\n"
      ],
      "text/plain": [
       "[1]  0.9678513 -0.2215949  1.5395087  0.5467110 -3.6657336 -0.5798552"
      ]
     },
     "metadata": {},
     "output_type": "display_data"
    }
   ],
   "source": [
    "apply(y, 2 ,sum)"
   ]
  },
  {
   "cell_type": "code",
   "execution_count": 77,
   "id": "8ee61225",
   "metadata": {},
   "outputs": [
    {
     "data": {
      "text/html": [
       "<table>\n",
       "<tbody>\n",
       "\t<tr><td>-0.28023782</td><td> 0.8575325 </td><td> 0.61204090</td><td> 0.8934566 </td><td>-0.5339119 </td><td>-0.84334666</td></tr>\n",
       "\t<tr><td>-0.11508874</td><td> 0.2304581 </td><td> 0.17990691</td><td> 0.2489252 </td><td>-0.1089875 </td><td> 0.41889352</td></tr>\n",
       "\t<tr><td> 0.77935416</td><td>-0.6325306 </td><td> 0.20038573</td><td>-0.9833086 </td><td>-0.5130022 </td><td> 0.07668656</td></tr>\n",
       "\t<tr><td> 0.03525420</td><td>-0.3434264 </td><td> 0.05534136</td><td> 0.3506780 </td><td>-0.3644456 </td><td>-0.56906847</td></tr>\n",
       "\t<tr><td> 0.06464387</td><td>-0.2228310 </td><td>-0.27792057</td><td>-0.2363957 </td><td>-0.3125196 </td><td> 0.62690746</td></tr>\n",
       "</tbody>\n",
       "</table>\n"
      ],
      "text/latex": [
       "\\begin{tabular}{llllll}\n",
       "\t -0.28023782 &  0.8575325  &  0.61204090 &  0.8934566  & -0.5339119  & -0.84334666\\\\\n",
       "\t -0.11508874 &  0.2304581  &  0.17990691 &  0.2489252  & -0.1089875  &  0.41889352\\\\\n",
       "\t  0.77935416 & -0.6325306  &  0.20038573 & -0.9833086  & -0.5130022  &  0.07668656\\\\\n",
       "\t  0.03525420 & -0.3434264  &  0.05534136 &  0.3506780  & -0.3644456  & -0.56906847\\\\\n",
       "\t  0.06464387 & -0.2228310  & -0.27792057 & -0.2363957  & -0.3125196  &  0.62690746\\\\\n",
       "\\end{tabular}\n"
      ],
      "text/markdown": [
       "\n",
       "| -0.28023782 |  0.8575325  |  0.61204090 |  0.8934566  | -0.5339119  | -0.84334666 |\n",
       "| -0.11508874 |  0.2304581  |  0.17990691 |  0.2489252  | -0.1089875  |  0.41889352 |\n",
       "|  0.77935416 | -0.6325306  |  0.20038573 | -0.9833086  | -0.5130022  |  0.07668656 |\n",
       "|  0.03525420 | -0.3434264  |  0.05534136 |  0.3506780  | -0.3644456  | -0.56906847 |\n",
       "|  0.06464387 | -0.2228310  | -0.27792057 | -0.2363957  | -0.3125196  |  0.62690746 |\n",
       "\n"
      ],
      "text/plain": [
       "     [,1]        [,2]       [,3]        [,4]       [,5]       [,6]       \n",
       "[1,] -0.28023782  0.8575325  0.61204090  0.8934566 -0.5339119 -0.84334666\n",
       "[2,] -0.11508874  0.2304581  0.17990691  0.2489252 -0.1089875  0.41889352\n",
       "[3,]  0.77935416 -0.6325306  0.20038573 -0.9833086 -0.5130022  0.07668656\n",
       "[4,]  0.03525420 -0.3434264  0.05534136  0.3506780 -0.3644456 -0.56906847\n",
       "[5,]  0.06464387 -0.2228310 -0.27792057 -0.2363957 -0.3125196  0.62690746"
      ]
     },
     "metadata": {},
     "output_type": "display_data"
    }
   ],
   "source": [
    "apply(y, 1:2, function(x) x/2)"
   ]
  },
  {
   "cell_type": "code",
   "execution_count": 78,
   "id": "08061a98",
   "metadata": {},
   "outputs": [],
   "source": [
    "# R cat function with append=\"TRUE\"\n",
    "cat(1:10,file=\"num_series.csv\",sep=\"\\n\")\n",
    "cat(11:20,file=\"num_series.csv\",sep=\"\\n\",append =\"TRUE\")"
   ]
  },
  {
   "cell_type": "code",
   "execution_count": null,
   "id": "62d4e6fd",
   "metadata": {},
   "outputs": [],
   "source": []
  }
 ],
 "metadata": {
  "kernelspec": {
   "display_name": "R",
   "language": "R",
   "name": "ir"
  },
  "language_info": {
   "codemirror_mode": "r",
   "file_extension": ".r",
   "mimetype": "text/x-r-source",
   "name": "R",
   "pygments_lexer": "r",
   "version": "3.6.1"
  }
 },
 "nbformat": 4,
 "nbformat_minor": 5
}
